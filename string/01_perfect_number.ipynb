{
 "cells": [
  {
   "cell_type": "markdown",
   "metadata": {},
   "source": [
    "You are given a positive integer `number`. Your task is to write a Python function, `is_perfect_number(number)`, to determine if the given number is a perfect number. The function should return `True` if the number is a perfect number, and `False` otherwise.\n",
    "\n",
    "*A perfect number is a positive whole number that is equal to the sum of its proper divisors. For instance, the first perfect number is 6 since the sum of its proper positive divisors (1, 2, and 3) is 6. Other examples of perfect numbers include 28, 496, 8128, and so on.*\n",
    "\n",
    "Implement another function, `find_perfect_numbers_in_list(no_list)`, that takes a list of integers `no_list` as input and returns a new list containing all the perfect numbers found in the given list. If no perfect numbers are found, the function should return an empty list.\n",
    "\n",
    "You may assume that all numbers in the input list are positive.\n",
    "\n",
    "**Function Signature:**\n",
    "\n",
    "```python\n",
    "def is_perfect_number(number: int) -> bool:\n",
    "    pass\n",
    "\n",
    "def find_perfect_numbers_in_list(no_list: List[int]) -> List[int]:\n",
    "    pass\n",
    "```\n",
    "\n",
    "**Example:**\n",
    "\n",
    "```python\n",
    "assert is_perfect_number(28) == True\n",
    "\n",
    "list1 = [181, 6, 4, 62, 10, 28]\n",
    "list2 = [19, 55, 567, 999, 0]\n",
    "\n",
    "assert find_perfect_numbers_in_list(list1) == [6, 28]\n",
    "assert find_perfect_numbers_in_list(list2) == []\n",
    "```\n",
    "\n",
    "*Note: Please reuse the code from the `is_perfect_number()` function while implementing `find_perfect_numbers_in_list()` function.*"
   ]
  },
  {
   "cell_type": "code",
   "execution_count": 16,
   "metadata": {},
   "outputs": [],
   "source": [
    "from typing import List\n",
    "\n",
    "def is_perfect_number(number: int) -> bool:\n",
    "    pass\n",
    "\n",
    "def find_perfect_numbers_in_list(no_list: List[int]) -> List[int]:\n",
    "    pass\n",
    "\n",
    "num = 28\n",
    "list1 = [181, 6, 4, 62, 10, 28]\n",
    "list2 = [19, 55, 567, 999, 0]\n",
    "\n",
    "is_perfect_number(number=num)\n",
    "find_perfect_numbers_in_list(no_list=list1)\n",
    "find_perfect_numbers_in_list(no_list=list2)\n"
   ]
  },
  {
   "cell_type": "code",
   "execution_count": 17,
   "metadata": {},
   "outputs": [
    {
     "data": {
      "text/plain": [
       "[1, 2, 4, 7, 14]"
      ]
     },
     "execution_count": 17,
     "metadata": {},
     "output_type": "execute_result"
    }
   ],
   "source": [
    "number = 28\n",
    "divisors = []\n",
    "for i in range(1, number):\n",
    "    if number % i == 0:\n",
    "        divisors.append(i)\n",
    "\n",
    "divisors"
   ]
  },
  {
   "cell_type": "code",
   "execution_count": 18,
   "metadata": {},
   "outputs": [
    {
     "data": {
      "text/plain": [
       "28"
      ]
     },
     "execution_count": 18,
     "metadata": {},
     "output_type": "execute_result"
    }
   ],
   "source": [
    "sum(divisors)"
   ]
  },
  {
   "cell_type": "code",
   "execution_count": 19,
   "metadata": {},
   "outputs": [
    {
     "data": {
      "text/plain": [
       "True"
      ]
     },
     "execution_count": 19,
     "metadata": {},
     "output_type": "execute_result"
    }
   ],
   "source": [
    "True if sum(divisors) == number else False"
   ]
  },
  {
   "cell_type": "code",
   "execution_count": 20,
   "metadata": {},
   "outputs": [
    {
     "data": {
      "text/plain": [
       "28"
      ]
     },
     "execution_count": 20,
     "metadata": {},
     "output_type": "execute_result"
    }
   ],
   "source": [
    "sum(num for num in range(1, number) if number % num == 0)"
   ]
  },
  {
   "cell_type": "code",
   "execution_count": 21,
   "metadata": {},
   "outputs": [
    {
     "data": {
      "text/plain": [
       "True"
      ]
     },
     "execution_count": 21,
     "metadata": {},
     "output_type": "execute_result"
    }
   ],
   "source": [
    "def is_perfect_number(number: int) -> bool:\n",
    "    if number == 0:\n",
    "        return \n",
    "    return sum(num for num in range(1, number) if number % num == 0) == number \n",
    "\n",
    "is_perfect_number(number=num)"
   ]
  },
  {
   "cell_type": "code",
   "execution_count": 22,
   "metadata": {},
   "outputs": [
    {
     "data": {
      "text/plain": [
       "[6, 28]"
      ]
     },
     "execution_count": 22,
     "metadata": {},
     "output_type": "execute_result"
    }
   ],
   "source": [
    "list(num for num in list1 if is_perfect_number(num))"
   ]
  },
  {
   "cell_type": "code",
   "execution_count": 23,
   "metadata": {},
   "outputs": [
    {
     "data": {
      "text/plain": [
       "[]"
      ]
     },
     "execution_count": 23,
     "metadata": {},
     "output_type": "execute_result"
    }
   ],
   "source": [
    "list(num for num in list2 if is_perfect_number(num))"
   ]
  },
  {
   "cell_type": "code",
   "execution_count": 24,
   "metadata": {},
   "outputs": [
    {
     "data": {
      "text/plain": [
       "[]"
      ]
     },
     "execution_count": 24,
     "metadata": {},
     "output_type": "execute_result"
    }
   ],
   "source": [
    "def find_perfect_numbers_in_list(no_list: List[int]) -> List[int]:\n",
    "    return list(num for num in no_list if is_perfect_number(num))\n",
    "\n",
    "list2 = [19, 55, 567, 999, 0]\n",
    "find_perfect_numbers_in_list(no_list=list2)"
   ]
  }
 ],
 "metadata": {
  "kernelspec": {
   "display_name": "Python 3",
   "language": "python",
   "name": "python3"
  },
  "language_info": {
   "codemirror_mode": {
    "name": "ipython",
    "version": 3
   },
   "file_extension": ".py",
   "mimetype": "text/x-python",
   "name": "python",
   "nbconvert_exporter": "python",
   "pygments_lexer": "ipython3",
   "version": "3.11.2"
  },
  "orig_nbformat": 4
 },
 "nbformat": 4,
 "nbformat_minor": 2
}

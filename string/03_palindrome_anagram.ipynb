{
 "cells": [
  {
   "cell_type": "markdown",
   "metadata": {},
   "source": [
    "**Question:**\n",
    "\n",
    "Given a string `s`, your task is to write a Python function, `is_palindrome_anagram(s: str) -> bool`, that determines if `s` is a case-insensitive palindrome anagram. A palindrome anagram is a string that can be rearranged to form a palindrome (a word that reads the same forwards and backwards). The function should return `True` if `s` is a case-insensitive palindrome anagram, and `False` otherwise.\n",
    "\n",
    "*Note: The comparison should be case-insensitive, meaning that uppercase and lowercase letters should be treated as the same character. The function should handle whitespace characters, and it should consider different character positions while determining if the string is a palindrome anagram.*\n",
    "\n",
    "**Function Signature:**\n",
    "\n",
    "```python\n",
    "def is_palindrome_anagram(s: str) -> bool:\n",
    "    pass\n",
    "```\n",
    "\n",
    "**Example:**\n",
    "\n",
    "```python\n",
    "assert is_palindrome_anagram(\"civic\") == True\n",
    "assert is_palindrome_anagram(\"hello\") == False\n",
    "assert is_palindrome_anagram(\"DooD\") == True\n",
    "assert is_palindrome_anagram(\"Taco cat\") == True\n",
    "assert is_palindrome_anagram(\"Able was I, ere I saw Elba\") == True\n",
    "```\n",
    "\n",
    "*Note: The input string `s` will contain alphanumeric characters and whitespace. The function should ignore case when comparing characters for palindrome anagram determination.*"
   ]
  },
  {
   "cell_type": "code",
   "execution_count": 1,
   "metadata": {},
   "outputs": [],
   "source": [
    "def is_palindrome_anagram(s: str) -> bool:\n",
    "    pass\n",
    "\n",
    "string1 = 'Taco cat'"
   ]
  },
  {
   "cell_type": "code",
   "execution_count": 2,
   "metadata": {},
   "outputs": [
    {
     "data": {
      "text/plain": [
       "'taco cat'"
      ]
     },
     "execution_count": 2,
     "metadata": {},
     "output_type": "execute_result"
    }
   ],
   "source": [
    "# Convert string to lowercase\n",
    "string1 = string1.lower()\n",
    "string1"
   ]
  },
  {
   "cell_type": "code",
   "execution_count": 3,
   "metadata": {},
   "outputs": [
    {
     "data": {
      "text/plain": [
       "'tacocat'"
      ]
     },
     "execution_count": 3,
     "metadata": {},
     "output_type": "execute_result"
    }
   ],
   "source": [
    "# Remove white space\n",
    "string1 = string1.replace(' ', '')\n",
    "string1"
   ]
  },
  {
   "cell_type": "code",
   "execution_count": 4,
   "metadata": {},
   "outputs": [
    {
     "data": {
      "text/plain": [
       "<reversed at 0x103e12cb0>"
      ]
     },
     "execution_count": 4,
     "metadata": {},
     "output_type": "execute_result"
    }
   ],
   "source": [
    "reversed(string1)"
   ]
  },
  {
   "cell_type": "code",
   "execution_count": 5,
   "metadata": {},
   "outputs": [
    {
     "data": {
      "text/plain": [
       "'tacocat'"
      ]
     },
     "execution_count": 5,
     "metadata": {},
     "output_type": "execute_result"
    }
   ],
   "source": [
    "''.join(reversed(string1))"
   ]
  },
  {
   "cell_type": "code",
   "execution_count": 6,
   "metadata": {},
   "outputs": [
    {
     "data": {
      "text/plain": [
       "True"
      ]
     },
     "execution_count": 6,
     "metadata": {},
     "output_type": "execute_result"
    }
   ],
   "source": [
    "''.join(reversed(string1)) == string1"
   ]
  },
  {
   "cell_type": "markdown",
   "metadata": {},
   "source": [
    "## Solution"
   ]
  },
  {
   "cell_type": "code",
   "execution_count": 7,
   "metadata": {},
   "outputs": [
    {
     "data": {
      "text/plain": [
       "True"
      ]
     },
     "execution_count": 7,
     "metadata": {},
     "output_type": "execute_result"
    }
   ],
   "source": [
    "def is_palindrome_anagram(s: str) -> bool:\n",
    "    s = s.lower()\n",
    "    s = s.replace(' ', '')\n",
    "    return ''.join(reversed(s)) == s\n",
    "\n",
    "string1 = 'Taco cat'\n",
    "is_palindrome_anagram(s=string1)"
   ]
  },
  {
   "cell_type": "markdown",
   "metadata": {},
   "source": [
    "Some points to consider and improve:\n",
    "\n",
    "1. **Efficiency of Reversal:**\n",
    "   The current solution constructs a reversed version of the string using `''.join(reversed(s))` and then compares it with the original string. Reversing a string in this way takes extra memory and is not the most efficient approach. A more efficient way to check if a string is a palindrome is by using string slicing `s[::-1]` to reverse the string.\n",
    "\n",
    "2. **Whitespace Handling:**\n",
    "   The solution correctly removes whitespace characters from the string using `s.replace(' ', '')`. However, it would be better to consider any non-alphanumeric characters, such as punctuation, as well. For a more robust solution, use `re.sub(r'\\W', '', s)` to remove all non-alphanumeric characters (including whitespace) from the string.\n",
    "\n",
    "3. **Complexity:**\n",
    "   The current solution has a time complexity of O(N), where N is the length of the input string `s`. This is because converting the string to lowercase and removing non-alphanumeric characters takes linear time. However, the reversal step adds an extra O(N) complexity. By directly comparing the string with its reverse using string slicing, we can avoid this additional overhead and improve the overall efficiency."
   ]
  },
  {
   "cell_type": "markdown",
   "metadata": {},
   "source": [
    "## Improved Version"
   ]
  },
  {
   "cell_type": "code",
   "execution_count": 8,
   "metadata": {},
   "outputs": [],
   "source": [
    "import re"
   ]
  },
  {
   "cell_type": "code",
   "execution_count": 9,
   "metadata": {},
   "outputs": [
    {
     "data": {
      "text/plain": [
       "'AblewasIereIsawElba'"
      ]
     },
     "execution_count": 9,
     "metadata": {},
     "output_type": "execute_result"
    }
   ],
   "source": [
    "string1 = \"Able was I, ere I saw Elba\"\n",
    "\n",
    "re.sub(r'\\W', '', string1)"
   ]
  },
  {
   "cell_type": "code",
   "execution_count": 10,
   "metadata": {},
   "outputs": [
    {
     "data": {
      "text/plain": [
       "'ablewasiereisawelba'"
      ]
     },
     "execution_count": 10,
     "metadata": {},
     "output_type": "execute_result"
    }
   ],
   "source": [
    "re.sub(r'\\W', '', string1.lower())"
   ]
  },
  {
   "cell_type": "code",
   "execution_count": 11,
   "metadata": {},
   "outputs": [
    {
     "data": {
      "text/plain": [
       "True"
      ]
     },
     "execution_count": 11,
     "metadata": {},
     "output_type": "execute_result"
    }
   ],
   "source": [
    "string1 = re.sub(r'\\W', '', string1.lower())\n",
    "\n",
    "string1 == string1[::-1]"
   ]
  },
  {
   "cell_type": "code",
   "execution_count": 12,
   "metadata": {},
   "outputs": [
    {
     "data": {
      "text/plain": [
       "True"
      ]
     },
     "execution_count": 12,
     "metadata": {},
     "output_type": "execute_result"
    }
   ],
   "source": [
    "import re\n",
    "\n",
    "def is_palindrome_anagram(s: str) -> bool:\n",
    "    s = re.sub(r'\\W', '', s.lower())\n",
    "    return s == s[::-1]\n",
    "\n",
    "string1 = \"Able was I, ere I saw Elba\"\n",
    "is_palindrome_anagram(s=string1)\n"
   ]
  }
 ],
 "metadata": {
  "kernelspec": {
   "display_name": "Python 3",
   "language": "python",
   "name": "python3"
  },
  "language_info": {
   "codemirror_mode": {
    "name": "ipython",
    "version": 3
   },
   "file_extension": ".py",
   "mimetype": "text/x-python",
   "name": "python",
   "nbconvert_exporter": "python",
   "pygments_lexer": "ipython3",
   "version": "3.11.2"
  },
  "orig_nbformat": 4
 },
 "nbformat": 4,
 "nbformat_minor": 2
}

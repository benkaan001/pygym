{
 "cells": [
  {
   "cell_type": "markdown",
   "metadata": {},
   "source": [
    "**Question:**\n",
    "\n",
    "Given a list of strings `words`, your task is to write a Python function that finds all pairs of words that are case-insensitive anagrams of each other. Return a list of tuples containing the pairs of anagrams.\n",
    "\n",
    "*A case-insensitive anagram is a pair of words that can be rearranged to form each other, disregarding the case of letters. For example, \"Listen\" and \"silent\" are case-insensitive anagrams.*\n",
    "\n",
    "**Function Signature:**\n",
    "\n",
    "\n",
    "```python\n",
    "\n",
    "    def find_anagrams(words: List[str]) -> List[Tuple[str, str]]:\n",
    "        pass\n",
    "```\n",
    "\n",
    "\n",
    "**Example:**\n",
    "\n",
    "\n",
    "```python\n",
    "input_words = [\"cat\", \"dog\", \"act\", \"God\", \"tac\", \"silent\", \"listen\"]\n",
    "assert find_anagrams(input_words) == [(\"cat\", \"act\"), (\"God\", \"dog\"), (\"tac\", \"act\"), (\"listen\", \"silent\")]\n",
    "```\n",
    "\n",
    "*Note: The input list `words` will contain alphanumeric strings. The comparison for anagrams should be case-insensitive, meaning that uppercase and lowercase letters should be treated as the same character. The function should return a list of tuples containing the anagram pairs, with each tuple representing two anagrams found in the input list.*"
   ]
  },
  {
   "cell_type": "code",
   "execution_count": 1,
   "metadata": {},
   "outputs": [],
   "source": [
    "from typing import List, Tuple \n",
    "\n",
    "def find_anagrams(words: List[str]) -> List[Tuple[str, str]] :\n",
    "    pass \n",
    "\n",
    "input_words = [\"cat\", \"dog\", \"act\", \"God\", \"tac\", \"silent\", \"listen\"]"
   ]
  },
  {
   "cell_type": "code",
   "execution_count": null,
   "metadata": {},
   "outputs": [],
   "source": []
  }
 ],
 "metadata": {
  "kernelspec": {
   "display_name": "Python 3",
   "language": "python",
   "name": "python3"
  },
  "language_info": {
   "codemirror_mode": {
    "name": "ipython",
    "version": 3
   },
   "file_extension": ".py",
   "mimetype": "text/x-python",
   "name": "python",
   "nbconvert_exporter": "python",
   "pygments_lexer": "ipython3",
   "version": "3.11.2"
  },
  "orig_nbformat": 4
 },
 "nbformat": 4,
 "nbformat_minor": 2
}

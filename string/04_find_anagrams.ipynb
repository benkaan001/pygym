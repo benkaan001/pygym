{
 "cells": [
  {
   "cell_type": "markdown",
   "metadata": {},
   "source": [
    "**Question:**\n",
    "\n",
    "Given a list of strings `words`, your task is to write a Python function that finds all pairs of words that are case-insensitive anagrams of each other. Return a list of tuples containing the pairs of anagrams.\n",
    "\n",
    "*A case-insensitive anagram is a pair of words that can be rearranged to form each other, disregarding the case of letters. For example, \"Listen\" and \"silent\" are case-insensitive anagrams.*\n",
    "\n",
    "**Function Signature:**\n",
    "\n",
    "\n",
    "```python\n",
    "\n",
    "    def find_anagrams(words: List[str]) -> List[Tuple[str, str]]:\n",
    "        pass\n",
    "```\n",
    "\n",
    "\n",
    "**Example:**\n",
    "\n",
    "\n",
    "```python\n",
    "input_words = [\"cat\", \"dog\", \"act\", \"God\", \"tac\", \"silent\", \"listen\"]\n",
    "assert find_anagrams(input_words) == [(\"cat\", \"act\"), (\"God\", \"dog\"), (\"tac\", \"act\"), (\"listen\", \"silent\")]\n",
    "```\n",
    "\n",
    "*Note: The input list `words` will contain alphanumeric strings. The comparison for anagrams should be case-insensitive, meaning that uppercase and lowercase letters should be treated as the same character. The function should return a list of tuples containing the anagram pairs, with each tuple representing two anagrams found in the input list.*"
   ]
  },
  {
   "cell_type": "code",
   "execution_count": 1,
   "metadata": {},
   "outputs": [],
   "source": [
    "from typing import List, Tuple \n",
    "\n",
    "def find_anagrams(words: List[str]) -> List[Tuple[str, str]] :\n",
    "    pass \n",
    "\n",
    "input_words = [\"cat\", \"dog\", \"act\", \"God\", \"tac\", \"silent\", \"listen\"]"
   ]
  },
  {
   "cell_type": "code",
   "execution_count": 2,
   "metadata": {},
   "outputs": [
    {
     "data": {
      "text/plain": [
       "True"
      ]
     },
     "execution_count": 2,
     "metadata": {},
     "output_type": "execute_result"
    }
   ],
   "source": [
    "def is_anagram(word1, word2):\n",
    "    return sorted(word1.lower()) == sorted(word2.lower())\n",
    "\n",
    "is_anagram('cat', 'act')\n",
    "    "
   ]
  },
  {
   "cell_type": "code",
   "execution_count": 3,
   "metadata": {},
   "outputs": [
    {
     "name": "stdout",
     "output_type": "stream",
     "text": [
      "processed_word = 'cat'\n",
      "key = ('a', 'c', 't')\n",
      "processed_word = 'dog'\n",
      "key = ('d', 'g', 'o')\n",
      "processed_word = 'act'\n",
      "key = ('a', 'c', 't')\n",
      "processed_word = 'god'\n",
      "key = ('d', 'g', 'o')\n",
      "processed_word = 'tac'\n",
      "key = ('a', 'c', 't')\n",
      "processed_word = 'silent'\n",
      "key = ('e', 'i', 'l', 'n', 's', 't')\n",
      "processed_word = 'listen'\n",
      "key = ('e', 'i', 'l', 'n', 's', 't')\n"
     ]
    }
   ],
   "source": [
    "import re \n",
    "\n",
    "anagram_dict = dict()\n",
    "\n",
    "for word in input_words:\n",
    "    processed_word = re.sub(r\"\\W\", \"\",word.lower())\n",
    "    key = tuple(sorted(processed_word))\n",
    "    print(f\"{processed_word = }\")\n",
    "    print(f\"{key = }\")\n",
    "    "
   ]
  },
  {
   "cell_type": "code",
   "execution_count": 4,
   "metadata": {},
   "outputs": [
    {
     "data": {
      "text/plain": [
       "{('a', 'c', 't'): ['cat', 'act', 'tac'],\n",
       " ('d', 'g', 'o'): ['dog', 'God'],\n",
       " ('e', 'i', 'l', 'n', 's', 't'): ['silent', 'listen']}"
      ]
     },
     "execution_count": 4,
     "metadata": {},
     "output_type": "execute_result"
    }
   ],
   "source": [
    "for word in input_words:\n",
    "    processed_word = re.sub(r'\\W', '', word.lower())\n",
    "    key = tuple(sorted(processed_word))\n",
    "    \n",
    "    if key in anagram_dict:\n",
    "        anagram_dict[key].append(word)\n",
    "    else:\n",
    "        anagram_dict[key] = [word]\n",
    "\n",
    "anagram_dict"
   ]
  },
  {
   "cell_type": "code",
   "execution_count": 5,
   "metadata": {},
   "outputs": [
    {
     "data": {
      "text/plain": [
       "[['cat', 'act', 'tac'], ['dog', 'God'], ['silent', 'listen']]"
      ]
     },
     "execution_count": 5,
     "metadata": {},
     "output_type": "execute_result"
    }
   ],
   "source": [
    "list(anagram_dict.values())"
   ]
  }
 ],
 "metadata": {
  "kernelspec": {
   "display_name": "Python 3",
   "language": "python",
   "name": "python3"
  },
  "language_info": {
   "codemirror_mode": {
    "name": "ipython",
    "version": 3
   },
   "file_extension": ".py",
   "mimetype": "text/x-python",
   "name": "python",
   "nbconvert_exporter": "python",
   "pygments_lexer": "ipython3",
   "version": "3.11.2"
  },
  "orig_nbformat": 4
 },
 "nbformat": 4,
 "nbformat_minor": 2
}

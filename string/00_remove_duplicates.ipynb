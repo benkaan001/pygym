{
 "cells": [
  {
   "cell_type": "markdown",
   "metadata": {},
   "source": [
    "**Question:**\n",
    "\n",
    "You are given a string `s`. Your task is to write a Python function, `unique_chars(s: str) -> str`, that accepts the string `s` as input and removes all duplicate characters from the given string, keeping only the first occurrence of each character. The function should return the modified string.\n",
    "\n",
    "**Function Signature:**\n",
    "\n",
    "```python\n",
    "def unique_chars(s: str) -> str:\n",
    "    pass\n",
    "```\n",
    "\n",
    "**Example:**\n",
    "\n",
    "```python\n",
    "assert unique_chars(\"xyyyzzzabcdeee\") == \"xyzabcde\"\n",
    "```\n",
    "\n",
    "*Note: Your function should handle both lowercase and uppercase characters in the input string. Reordering of characters is not required; maintain the original order of the characters while removing duplicates.*"
   ]
  },
  {
   "cell_type": "code",
   "execution_count": 1,
   "metadata": {},
   "outputs": [],
   "source": [
    "def unique_chars(s: str) -> str:\n",
    "    pass\n",
    "\n",
    "input = \"xyyyzzzabcdeee\""
   ]
  },
  {
   "cell_type": "markdown",
   "metadata": {},
   "source": [
    "## Using a simple loop."
   ]
  },
  {
   "cell_type": "code",
   "execution_count": 2,
   "metadata": {},
   "outputs": [
    {
     "data": {
      "text/plain": [
       "'xyzabcde'"
      ]
     },
     "execution_count": 2,
     "metadata": {},
     "output_type": "execute_result"
    }
   ],
   "source": [
    "output = ''\n",
    "for char in input:\n",
    "    if char not in output:\n",
    "        output += char\n",
    "output"
   ]
  },
  {
   "cell_type": "code",
   "execution_count": 3,
   "metadata": {},
   "outputs": [
    {
     "data": {
      "text/plain": [
       "'xyzabcde'"
      ]
     },
     "execution_count": 3,
     "metadata": {},
     "output_type": "execute_result"
    }
   ],
   "source": [
    "def unique_chars(s: str) -> str:\n",
    "    output = ''\n",
    "    for char in s:\n",
    "        if char not in output:\n",
    "            output += char\n",
    "\n",
    "    return output\n",
    "\n",
    "input = \"xyyyzzzabcdeee\"\n",
    "unique_chars(input)"
   ]
  },
  {
   "cell_type": "markdown",
   "metadata": {},
   "source": [
    "## Using dictionary"
   ]
  },
  {
   "cell_type": "code",
   "execution_count": 4,
   "metadata": {},
   "outputs": [
    {
     "data": {
      "text/plain": [
       "{'x': 1, 'y': 3, 'z': 3, 'a': 1, 'b': 1, 'c': 1, 'd': 1, 'e': 3}"
      ]
     },
     "execution_count": 4,
     "metadata": {},
     "output_type": "execute_result"
    }
   ],
   "source": [
    "char_dict = {char: input.count(char) for char in input}\n",
    "char_dict\n"
   ]
  },
  {
   "cell_type": "code",
   "execution_count": 5,
   "metadata": {},
   "outputs": [
    {
     "data": {
      "text/plain": [
       "dict_keys(['x', 'y', 'z', 'a', 'b', 'c', 'd', 'e'])"
      ]
     },
     "execution_count": 5,
     "metadata": {},
     "output_type": "execute_result"
    }
   ],
   "source": [
    "char_dict.keys()"
   ]
  },
  {
   "cell_type": "markdown",
   "metadata": {},
   "source": [
    "The `char_dict.keys()` returns a ***`view object`***, which is a list of all the keys in a dictionary and an iterable itself. To preserve the order of characters, consider either using an OrderedDict or Python 3.7 and later where dictionaries maintain the insertion order. "
   ]
  },
  {
   "cell_type": "code",
   "execution_count": 6,
   "metadata": {},
   "outputs": [
    {
     "data": {
      "text/plain": [
       "'xyzabcde'"
      ]
     },
     "execution_count": 6,
     "metadata": {},
     "output_type": "execute_result"
    }
   ],
   "source": [
    "''.join(char_dict.keys())"
   ]
  },
  {
   "cell_type": "code",
   "execution_count": 7,
   "metadata": {},
   "outputs": [
    {
     "data": {
      "text/plain": [
       "'xyzabcde'"
      ]
     },
     "execution_count": 7,
     "metadata": {},
     "output_type": "execute_result"
    }
   ],
   "source": [
    "''.join(char for char in char_dict.keys())"
   ]
  },
  {
   "cell_type": "code",
   "execution_count": 8,
   "metadata": {},
   "outputs": [
    {
     "data": {
      "text/plain": [
       "'xyzabcde'"
      ]
     },
     "execution_count": 8,
     "metadata": {},
     "output_type": "execute_result"
    }
   ],
   "source": [
    "def unique_chars(s: str) -> str:\n",
    "    char_dict = {char: s.count(char) for char in s}\n",
    "    return ''.join(char for char in char_dict.keys())\n",
    "\n",
    "input = \"xyyyzzzabcdeee\"\n",
    "unique_chars(input)"
   ]
  },
  {
   "cell_type": "markdown",
   "metadata": {},
   "source": [
    "## Using list comprehesion"
   ]
  },
  {
   "cell_type": "code",
   "execution_count": 9,
   "metadata": {},
   "outputs": [
    {
     "data": {
      "text/plain": [
       "'xyzabcde'"
      ]
     },
     "execution_count": 9,
     "metadata": {},
     "output_type": "execute_result"
    }
   ],
   "source": [
    "''.join(char for i,char in enumerate(input) if char not in input[:i])"
   ]
  },
  {
   "cell_type": "code",
   "execution_count": 10,
   "metadata": {},
   "outputs": [
    {
     "data": {
      "text/plain": [
       "'xyzabcde'"
      ]
     },
     "execution_count": 10,
     "metadata": {},
     "output_type": "execute_result"
    }
   ],
   "source": [
    "def unique_chars(s: str) -> str:\n",
    "    return ''.join(char for i,char in enumerate(s) if char not in s[:i])\n",
    "\n",
    "input = \"xyyyzzzabcdeee\"\n",
    "unique_chars(input)"
   ]
  },
  {
   "cell_type": "markdown",
   "metadata": {},
   "source": [
    "## Using set"
   ]
  },
  {
   "cell_type": "code",
   "execution_count": 11,
   "metadata": {},
   "outputs": [
    {
     "data": {
      "text/plain": [
       "{'a', 'b', 'c', 'd', 'e', 'x', 'y', 'z'}"
      ]
     },
     "execution_count": 11,
     "metadata": {},
     "output_type": "execute_result"
    }
   ],
   "source": [
    "set(input)"
   ]
  },
  {
   "cell_type": "code",
   "execution_count": 12,
   "metadata": {},
   "outputs": [
    {
     "data": {
      "text/plain": [
       "['d', 'y', 'a', 'b', 'z', 'e', 'c', 'x']"
      ]
     },
     "execution_count": 12,
     "metadata": {},
     "output_type": "execute_result"
    }
   ],
   "source": [
    "chars = list(set(input))\n",
    "chars"
   ]
  },
  {
   "cell_type": "code",
   "execution_count": 13,
   "metadata": {},
   "outputs": [
    {
     "name": "stdout",
     "output_type": "stream",
     "text": [
      "seen_chars = {'d', 'y', 'a', 'b', 'z', 'e', 'c', 'x'} \n",
      " output = ['x', 'y', 'z', 'a', 'b', 'c', 'd', 'e']\n"
     ]
    },
    {
     "data": {
      "text/plain": [
       "'xyzabcde'"
      ]
     },
     "execution_count": 13,
     "metadata": {},
     "output_type": "execute_result"
    }
   ],
   "source": [
    "seen_chars = set()\n",
    "output = []\n",
    "\n",
    "for char in input:\n",
    "    if char not in seen_chars:\n",
    "        seen_chars.add(char)\n",
    "        output.append(char)\n",
    "\n",
    "print(f\"{seen_chars = } \\n {output = }\")\n",
    "\n",
    "''.join(char for char in output)"
   ]
  },
  {
   "cell_type": "code",
   "execution_count": 14,
   "metadata": {},
   "outputs": [
    {
     "data": {
      "text/plain": [
       "'xyzabcde'"
      ]
     },
     "execution_count": 14,
     "metadata": {},
     "output_type": "execute_result"
    }
   ],
   "source": [
    "def unique_chars(s: str) -> str:\n",
    "    seen_chars = set()\n",
    "    output = list()\n",
    "\n",
    "    for char in s:\n",
    "        if char not in seen_chars:\n",
    "            seen_chars.add(char)\n",
    "            output.append(char)\n",
    "\n",
    "    return ''.join(char for char in output)\n",
    "\n",
    "input = \"xyyyzzzabcdeee\"\n",
    "unique_chars(input)\n"
   ]
  }
 ],
 "metadata": {
  "kernelspec": {
   "display_name": "Python 3",
   "language": "python",
   "name": "python3"
  },
  "language_info": {
   "codemirror_mode": {
    "name": "ipython",
    "version": 3
   },
   "file_extension": ".py",
   "mimetype": "text/x-python",
   "name": "python",
   "nbconvert_exporter": "python",
   "pygments_lexer": "ipython3",
   "version": "3.11.2"
  },
  "orig_nbformat": 4
 },
 "nbformat": 4,
 "nbformat_minor": 2
}

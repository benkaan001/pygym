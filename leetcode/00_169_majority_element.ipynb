{
 "cells": [
  {
   "cell_type": "code",
   "execution_count": 1,
   "metadata": {},
   "outputs": [],
   "source": [
    "nums = [2, 2, 1, 1, 1, 2, 2]"
   ]
  },
  {
   "cell_type": "code",
   "execution_count": 2,
   "metadata": {},
   "outputs": [
    {
     "data": {
      "text/plain": [
       "{2: 4, 1: 3}"
      ]
     },
     "execution_count": 2,
     "metadata": {},
     "output_type": "execute_result"
    }
   ],
   "source": [
    "nums_dict = {num: nums.count(num) for num in nums}\n",
    "nums_dict"
   ]
  },
  {
   "cell_type": "code",
   "execution_count": 3,
   "metadata": {},
   "outputs": [
    {
     "data": {
      "text/plain": [
       "4"
      ]
     },
     "execution_count": 3,
     "metadata": {},
     "output_type": "execute_result"
    }
   ],
   "source": [
    "max_value = max(nums_dict.values())\n",
    "max_value"
   ]
  },
  {
   "cell_type": "code",
   "execution_count": 4,
   "metadata": {},
   "outputs": [
    {
     "data": {
      "text/plain": [
       "2"
      ]
     },
     "execution_count": 4,
     "metadata": {},
     "output_type": "execute_result"
    }
   ],
   "source": [
    "output = None \n",
    "max_value = max(nums_dict.values())\n",
    "for key,value in nums_dict.items():\n",
    "    if value == max_value:\n",
    "        output = key \n",
    "        \n",
    "output"
   ]
  },
  {
   "cell_type": "code",
   "execution_count": 5,
   "metadata": {},
   "outputs": [
    {
     "data": {
      "text/plain": [
       "[2]"
      ]
     },
     "execution_count": 5,
     "metadata": {},
     "output_type": "execute_result"
    }
   ],
   "source": [
    "[key for key,value in nums_dict.items() if value == max(nums_dict.values())]"
   ]
  },
  {
   "cell_type": "code",
   "execution_count": 6,
   "metadata": {},
   "outputs": [
    {
     "data": {
      "text/plain": [
       "3"
      ]
     },
     "execution_count": 6,
     "metadata": {},
     "output_type": "execute_result"
    }
   ],
   "source": [
    "nums = [1, 2, 3, 3, 3, 3]\n",
    "nums_dict = {num: nums.count(num) for num in nums}\n",
    "[key for key,value in nums_dict.items() if value == max(nums_dict.values())][0]"
   ]
  },
  {
   "cell_type": "markdown",
   "metadata": {},
   "source": [
    "Based on the code you provided, it looks like you are trying to find the majority element in a list `nums` and return it. The majority element is the element that appears more than half of the time in the list.\n",
    "\n",
    "Your code appears to be correct, and it should work correctly in most cases. However, there is a more efficient approach to finding the majority element using a concept called `\"Boyer-Moore Majority Vote Algorithm.\"`\n",
    "\n",
    "Here's how the algorithm works:\n",
    "\n",
    "1. Initialize two variables, `candidate` and `count`, where `candidate` represents the current candidate for the majority element, and `count` represents the count of that candidate in the current sub-array.\n",
    "\n",
    "2. Iterate through the list `nums`, and for each element `num`:\n",
    "   a. If `count` is 0, set the current `num` as the new `candidate` and set `count` to 1.\n",
    "   b. If `num` is equal to the current `candidate`, increment `count` by 1.\n",
    "   c. If `num` is different from the current `candidate`, decrement `count` by 1.\n",
    "\n",
    "3. At the end of the iteration, the `candidate` will represent the majority element.\n",
    "\n",
    "Here's the code implementing the Boyer-Moore Majority Vote Algorithm:\n",
    "\n",
    "```python\n",
    "def majorityElement(self, nums: List[int]) -> int:\n",
    "    candidate = None\n",
    "    count = 0\n",
    "\n",
    "    for num in nums:\n",
    "        if count == 0:\n",
    "            candidate = num\n",
    "            count = 1\n",
    "        elif num == candidate:\n",
    "            count += 1\n",
    "        else:\n",
    "            count -= 1\n",
    "\n",
    "    return candidate\n",
    "```\n",
    "\n",
    "This algorithm has a time complexity of O(n) and a space complexity of O(1), making it more efficient than the original code that creates a dictionary with all the counts. Additionally, the Boyer-Moore algorithm is more suitable for finding the majority element, as it takes advantage of the characteristics of the majority element to eliminate other elements efficiently."
   ]
  },
  {
   "cell_type": "code",
   "execution_count": 7,
   "metadata": {},
   "outputs": [
    {
     "data": {
      "text/plain": [
       "3"
      ]
     },
     "execution_count": 7,
     "metadata": {},
     "output_type": "execute_result"
    }
   ],
   "source": [
    "from typing import List \n",
    "\n",
    "def majorityElement(nums: List[int]) -> int:\n",
    "    candidate = None\n",
    "    count = 0\n",
    "\n",
    "    for num in nums:\n",
    "        if count == 0:\n",
    "            candidate = num\n",
    "            count = 1\n",
    "        elif num == candidate:\n",
    "            count += 1\n",
    "        else:\n",
    "            count -= 1\n",
    "\n",
    "    return candidate\n",
    "\n",
    "nums = [1, 2, 3, 3, 3, 3]\n",
    "majorityElement(nums)"
   ]
  }
 ],
 "metadata": {
  "kernelspec": {
   "display_name": "Python 3",
   "language": "python",
   "name": "python3"
  },
  "language_info": {
   "codemirror_mode": {
    "name": "ipython",
    "version": 3
   },
   "file_extension": ".py",
   "mimetype": "text/x-python",
   "name": "python",
   "nbconvert_exporter": "python",
   "pygments_lexer": "ipython3",
   "version": "3.11.2"
  },
  "orig_nbformat": 4
 },
 "nbformat": 4,
 "nbformat_minor": 2
}

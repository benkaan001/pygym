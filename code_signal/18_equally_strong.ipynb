{
 "cells": [
  {
   "cell_type": "markdown",
   "metadata": {},
   "source": [
    "Call two arms equally strong if the heaviest weights they each are able to lift are equal.\n",
    "\n",
    "Call two people equally strong if their strongest arms are equally strong (the strongest arm can be both the right and the left), and so are their weakest arms.\n",
    "\n",
    "Given your and your friend's arms' lifting capabilities find out if you two are equally strong.\n",
    "\n",
    "Example\n",
    "\n",
    "For yourLeft = 10, yourRight = 15, friendsLeft = 15, and friendsRight = 10, the output should be\n",
    "solution(yourLeft, yourRight, friendsLeft, friendsRight) = true;\n",
    "\n",
    "For yourLeft = 15, yourRight = 10, friendsLeft = 15, and friendsRight = 10, the output should be\n",
    "solution(yourLeft, yourRight, friendsLeft, friendsRight) = true;\n",
    "\n",
    "For yourLeft = 15, yourRight = 10, friendsLeft = 15, and friendsRight = 9, the output should be\n",
    "solution(yourLeft, yourRight, friendsLeft, friendsRight) = false."
   ]
  },
  {
   "cell_type": "code",
   "execution_count": 1,
   "metadata": {},
   "outputs": [
    {
     "name": "stdout",
     "output_type": "stream",
     "text": [
      "True\n",
      "True\n",
      "False\n"
     ]
    }
   ],
   "source": [
    "def solution(yourLeft, yourRight, friendsLeft, friendsRight):\n",
    "    return max(yourLeft, yourRight) == max(friendsLeft, friendsRight) \\\n",
    "            and min(yourLeft, yourRight) == min(friendsLeft, friendsRight)\n",
    "\n",
    "print(solution(10, 15, 15, 10))  # True\n",
    "print(solution(15, 10, 15, 10))  # True\n",
    "print(solution(15, 10, 15, 9))   # False"
   ]
  }
 ],
 "metadata": {
  "kernelspec": {
   "display_name": "Python 3",
   "language": "python",
   "name": "python3"
  },
  "language_info": {
   "codemirror_mode": {
    "name": "ipython",
    "version": 3
   },
   "file_extension": ".py",
   "mimetype": "text/x-python",
   "name": "python",
   "nbconvert_exporter": "python",
   "pygments_lexer": "ipython3",
   "version": "3.11.2"
  }
 },
 "nbformat": 4,
 "nbformat_minor": 2
}

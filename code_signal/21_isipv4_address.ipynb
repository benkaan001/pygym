{
 "cells": [
  {
   "cell_type": "markdown",
   "metadata": {},
   "source": [
    "An identification number for devices connected to the internet. An IPv4 addresses written in dotted quad notation consists of four 8-bit integers separated by periods.\n",
    "\n",
    "In other words, it's a string of four numbers each between 0 and 255 inclusive, with a \".\" character in between each number. All numbers should be present without leading zeros.\n",
    "\n",
    "Examples:\n",
    "\n",
    "192.168.0.1 is a valid IPv4 address\n",
    "\n",
    "255.255.255.255 is a valid IPv4 address\n",
    "\n",
    "280.100.92.101 is not a valid IPv4 address because 280 is too large to be an 8-bit integer (the largest 8-bit integer is 255)\n",
    "\n",
    "255.100.81.160.172 is not a valid IPv4 address because it contains 5 integers instead of 4\n",
    "\n",
    "1..0.1 is not a valid IPv4 address because it's not properly formatted\n",
    "\n",
    "17.233.00.131 and 17.233.01.131 are not valid IPv4 addresses because they contain leading zeros"
   ]
  },
  {
   "cell_type": "code",
   "execution_count": 1,
   "metadata": {},
   "outputs": [
    {
     "name": "stdout",
     "output_type": "stream",
     "text": [
      "False\n",
      "False\n",
      "False\n",
      "False\n",
      "True\n"
     ]
    }
   ],
   "source": [
    "def solution(inputString):\n",
    "    parts = inputString.split('.')\n",
    "\n",
    "    # An IPv4 address must consist of four parts\n",
    "    if len(parts) != 4:\n",
    "        return False\n",
    "    for part in parts:\n",
    "        # Each part must be a number\n",
    "        if not part.isdigit():\n",
    "            return False\n",
    "        # Each part must not have leading zeros\n",
    "        elif part[0] == \"0\" and len(part) != 1:\n",
    "            return False\n",
    "        # Each part must be between 0 and 255 inclusive\n",
    "        elif not 0 <= int(part) <= 255:\n",
    "            return False\n",
    "\n",
    "    return True\n",
    "\n",
    "inputStrings = [\"64.233.161.00\", \"1\", \"1a\", \"00\", \"0.254.255.0\"]\n",
    "for string in inputStrings:\n",
    "    print(solution(string))"
   ]
  }
 ],
 "metadata": {
  "kernelspec": {
   "display_name": "Python 3",
   "language": "python",
   "name": "python3"
  },
  "language_info": {
   "codemirror_mode": {
    "name": "ipython",
    "version": 3
   },
   "file_extension": ".py",
   "mimetype": "text/x-python",
   "name": "python",
   "nbconvert_exporter": "python",
   "pygments_lexer": "ipython3",
   "version": "3.11.2"
  }
 },
 "nbformat": 4,
 "nbformat_minor": 2
}

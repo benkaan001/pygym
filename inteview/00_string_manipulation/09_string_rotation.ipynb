{
 "cells": [
  {
   "cell_type": "markdown",
   "metadata": {},
   "source": [
    "10. **String Rotation**\n",
    "    - **Question:** Given two strings, write a function to check if one string is a rotation of the other.\n",
    "    - **Function Signature:**\n",
    "    ```python\n",
    "    def is_rotation(s1: str, s2: str) -> bool:\n",
    "    ```\n",
    "    - **Example:**\n",
    "    ```python\n",
    "    string1 = \"waterbottle\"\n",
    "    string2 = \"erbottlewat\"\n",
    "    print(is_rotation(string1, string2))\n",
    "    ```\n",
    "    - **Expected Output:**\n",
    "    ```\n",
    "    True\n",
    "    ```"
   ]
  },
  {
   "cell_type": "code",
   "execution_count": 1,
   "metadata": {},
   "outputs": [],
   "source": [
    "def is_rotation(s1: str, s2: str) -> bool:\n",
    "    pass \n",
    "\n",
    "string1 = \"waterbottle\"\n",
    "string2 = \"erbottlewat\"\n",
    "is_rotation(s1=string1, s2=string2)"
   ]
  },
  {
   "cell_type": "code",
   "execution_count": 2,
   "metadata": {},
   "outputs": [
    {
     "data": {
      "text/plain": [
       "True"
      ]
     },
     "execution_count": 2,
     "metadata": {},
     "output_type": "execute_result"
    }
   ],
   "source": [
    "sorted(string1) == sorted(string2)"
   ]
  },
  {
   "cell_type": "code",
   "execution_count": 3,
   "metadata": {},
   "outputs": [
    {
     "data": {
      "text/plain": [
       "True"
      ]
     },
     "execution_count": 3,
     "metadata": {},
     "output_type": "execute_result"
    }
   ],
   "source": [
    "def is_rotation(s1: str, s2: str) -> bool:\n",
    "    return sorted(s1) == sorted(s2)\n",
    "\n",
    "string1 = \"waterbottle\"\n",
    "string2 = \"erbottlewat\"\n",
    "is_rotation(s1=string1, s2=string2)"
   ]
  }
 ],
 "metadata": {
  "kernelspec": {
   "display_name": "Python 3",
   "language": "python",
   "name": "python3"
  },
  "language_info": {
   "codemirror_mode": {
    "name": "ipython",
    "version": 3
   },
   "file_extension": ".py",
   "mimetype": "text/x-python",
   "name": "python",
   "nbconvert_exporter": "python",
   "pygments_lexer": "ipython3",
   "version": "3.11.2"
  },
  "orig_nbformat": 4
 },
 "nbformat": 4,
 "nbformat_minor": 2
}

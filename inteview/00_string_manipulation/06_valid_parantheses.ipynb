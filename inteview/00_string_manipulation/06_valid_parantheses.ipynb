{
 "cells": [
  {
   "cell_type": "markdown",
   "metadata": {},
   "source": [
    "\n",
    "7. **Valid Parentheses**\n",
    "   - **Question:** Write a function to determine if a given string containing only parentheses is valid.\n",
    "   - **Function Signature:**\n",
    "   ```python\n",
    "   def is_valid_parentheses(s: str) -> bool:\n",
    "   ```\n",
    "   - **Example:**\n",
    "   ```python\n",
    "   input_str = \"()[]{}\"\n",
    "   print(is_valid_parentheses(input_str))\n",
    "   ```\n",
    "   - **Expected Output:**\n",
    "   ```\n",
    "   True\n",
    "   ```"
   ]
  },
  {
   "cell_type": "code",
   "execution_count": null,
   "metadata": {},
   "outputs": [],
   "source": []
  }
 ],
 "metadata": {
  "language_info": {
   "name": "python"
  },
  "orig_nbformat": 4
 },
 "nbformat": 4,
 "nbformat_minor": 2
}

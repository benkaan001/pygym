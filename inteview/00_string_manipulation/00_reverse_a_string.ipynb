{
 "cells": [
  {
   "cell_type": "markdown",
   "metadata": {},
   "source": [
    "1. **Reverse a String**\n",
    "   - **Question:** Given a string, write a function to reverse it.\n",
    "   - **Function Signature:**\n",
    "\n",
    "   ```python\n",
    "      def reverse_string(s: str) -> str:\n",
    "   ```\n",
    "   - **Example:**\n",
    "   ```python\n",
    "      input_str = \"hello\"\n",
    "      print(reverse_string(input_str))\n",
    "   ```\n",
    "   - **Expected Output:**\n",
    "   ```\n",
    "      \"olleh\"\n",
    "   ```"
   ]
  },
  {
   "cell_type": "code",
   "execution_count": 1,
   "metadata": {},
   "outputs": [],
   "source": [
    "def reverse_string(s: str) -> str:\n",
    "    pass \n",
    "\n",
    "input_str = 'hello'\n",
    "reverse_string(s=input_str)"
   ]
  },
  {
   "cell_type": "code",
   "execution_count": 2,
   "metadata": {},
   "outputs": [
    {
     "data": {
      "text/plain": [
       "'olleh'"
      ]
     },
     "execution_count": 2,
     "metadata": {},
     "output_type": "execute_result"
    }
   ],
   "source": [
    "input_str[::-1]"
   ]
  },
  {
   "cell_type": "code",
   "execution_count": 3,
   "metadata": {},
   "outputs": [
    {
     "data": {
      "text/plain": [
       "'olleh'"
      ]
     },
     "execution_count": 3,
     "metadata": {},
     "output_type": "execute_result"
    }
   ],
   "source": [
    "def reverse_string(s: str) -> str:\n",
    "    return s[::-1]\n",
    "\n",
    "input_str = 'hello'\n",
    "reverse_string(s=input_str)"
   ]
  }
 ],
 "metadata": {
  "kernelspec": {
   "display_name": "Python 3",
   "language": "python",
   "name": "python3"
  },
  "language_info": {
   "codemirror_mode": {
    "name": "ipython",
    "version": 3
   },
   "file_extension": ".py",
   "mimetype": "text/x-python",
   "name": "python",
   "nbconvert_exporter": "python",
   "pygments_lexer": "ipython3",
   "version": "3.11.2"
  },
  "orig_nbformat": 4
 },
 "nbformat": 4,
 "nbformat_minor": 2
}

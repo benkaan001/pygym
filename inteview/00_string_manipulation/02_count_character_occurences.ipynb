{
 "cells": [
  {
   "cell_type": "markdown",
   "metadata": {},
   "source": [
    "3. **Count Character Occurrences**\n",
    "   - **Question:** Implement a function that counts the occurrences of a specific character in a given string.\n",
    "   - **Function Signature:**\n",
    "   ```python\n",
    "   def count_occurrences(s: str, char: str) -> int:\n",
    "   ```\n",
    "   - **Example:**\n",
    "   ```python\n",
    "   input_str = \"hello\"\n",
    "   character = \"l\"\n",
    "   print(count_occurrences(input_str, character))\n",
    "   ```\n",
    "   - **Expected Output:**\n",
    "   ```\n",
    "   2\n",
    "   ```"
   ]
  },
  {
   "cell_type": "code",
   "execution_count": 2,
   "metadata": {},
   "outputs": [],
   "source": [
    "def count_occurrences(s: str, char: str) -> int:\n",
    "    pass \n",
    "\n",
    "input_str = 'hello'\n",
    "character = 'l'\n",
    "count_occurrences(s=input_str, char=character)"
   ]
  },
  {
   "cell_type": "code",
   "execution_count": 3,
   "metadata": {},
   "outputs": [
    {
     "data": {
      "text/plain": [
       "2"
      ]
     },
     "execution_count": 3,
     "metadata": {},
     "output_type": "execute_result"
    }
   ],
   "source": [
    "input_str.count(character)"
   ]
  },
  {
   "cell_type": "code",
   "execution_count": 4,
   "metadata": {},
   "outputs": [
    {
     "data": {
      "text/plain": [
       "2"
      ]
     },
     "execution_count": 4,
     "metadata": {},
     "output_type": "execute_result"
    }
   ],
   "source": [
    "def count_occurrences(s: str, char: str) -> int:\n",
    "    return input_str.count(char)\n",
    "\n",
    "input_str = 'hello'\n",
    "character = 'l'\n",
    "count_occurrences(s=input_str, char=character)"
   ]
  }
 ],
 "metadata": {
  "kernelspec": {
   "display_name": "Python 3",
   "language": "python",
   "name": "python3"
  },
  "language_info": {
   "codemirror_mode": {
    "name": "ipython",
    "version": 3
   },
   "file_extension": ".py",
   "mimetype": "text/x-python",
   "name": "python",
   "nbconvert_exporter": "python",
   "pygments_lexer": "ipython3",
   "version": "3.11.2"
  },
  "orig_nbformat": 4
 },
 "nbformat": 4,
 "nbformat_minor": 2
}

{
 "cells": [
  {
   "cell_type": "markdown",
   "metadata": {},
   "source": [
    "6. **Longest Substring Without Repeating Characters**\n",
    "   - **Question:** Given a string, find the length of the longest substring without repeating characters.\n",
    "   - **Function Signature:**\n",
    "   ```python\n",
    "   def length_of_longest_substring(s: str) -> int:\n",
    "   ```\n",
    "   - **Example:**\n",
    "   ```python\n",
    "   input_str = \"abcabcbb\"\n",
    "   print(length_of_longest_substring(input_str))\n",
    "   ```\n",
    "   - **Expected Output:**\n",
    "   ```\n",
    "   3\n",
    "   ```"
   ]
  },
  {
   "cell_type": "code",
   "execution_count": 1,
   "metadata": {},
   "outputs": [],
   "source": [
    "def length_of_longest_substring(s: str) -> int:\n",
    "    pass \n",
    "\n",
    "input_str = 'abcabcbb'\n",
    "length_of_longest_substring(s=input_str)"
   ]
  },
  {
   "cell_type": "code",
   "execution_count": 2,
   "metadata": {},
   "outputs": [
    {
     "name": "stdout",
     "output_type": "stream",
     "text": [
      "char = 'a'\n",
      " window = ['a']\n",
      "max_length = 1\n",
      "char = 'b'\n",
      " window = ['a', 'b']\n",
      "max_length = 2\n",
      "char = 'c'\n",
      " window = ['a', 'b', 'c']\n",
      "max_length = 3\n",
      "char = 'a'\n",
      "char = 'b'\n",
      "char = 'c'\n",
      "char = 'b'\n",
      " window = ['b']\n",
      "max_length = 3\n",
      "char = 'b'\n"
     ]
    },
    {
     "data": {
      "text/plain": [
       "3"
      ]
     },
     "execution_count": 2,
     "metadata": {},
     "output_type": "execute_result"
    }
   ],
   "source": [
    "window = list()\n",
    "max_length = 0\n",
    "\n",
    "for char in input_str:\n",
    "    print(f\"{char = }\")\n",
    "    if char not in window:\n",
    "        window.append(char)\n",
    "        print(f\"{ window = }\")\n",
    "        max_length = max(max_length, len(window))\n",
    "        print(f\"{max_length = }\")\n",
    "    else:\n",
    "        window.remove(char)\n",
    "\n",
    "max_length"
   ]
  },
  {
   "cell_type": "code",
   "execution_count": 3,
   "metadata": {},
   "outputs": [
    {
     "data": {
      "text/plain": [
       "3"
      ]
     },
     "execution_count": 3,
     "metadata": {},
     "output_type": "execute_result"
    }
   ],
   "source": [
    "def length_of_longest_substring(s: str) -> int:\n",
    "    \n",
    "    window = list()\n",
    "    max_length = 0 \n",
    "    \n",
    "    for char in s:\n",
    "        if char not in window:\n",
    "            window.append(char)\n",
    "            max_length = max(max_length, len(window))\n",
    "        else:\n",
    "            window.remove(char)\n",
    "    \n",
    "    return max_length\n",
    "\n",
    "input_str = 'abcabcbb'\n",
    "length_of_longest_substring(s=input_str)"
   ]
  }
 ],
 "metadata": {
  "kernelspec": {
   "display_name": "Python 3",
   "language": "python",
   "name": "python3"
  },
  "language_info": {
   "codemirror_mode": {
    "name": "ipython",
    "version": 3
   },
   "file_extension": ".py",
   "mimetype": "text/x-python",
   "name": "python",
   "nbconvert_exporter": "python",
   "pygments_lexer": "ipython3",
   "version": "3.11.2"
  },
  "orig_nbformat": 4
 },
 "nbformat": 4,
 "nbformat_minor": 2
}

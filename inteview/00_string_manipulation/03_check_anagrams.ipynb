{
 "cells": [
  {
   "cell_type": "markdown",
   "metadata": {},
   "source": [
    "4. **Check Anagrams**\n",
    "   - **Question:** Create a function to check if two strings are anagrams (contain the same characters but in different orders).\n",
    "   - **Function Signature:**\n",
    "   ```python\n",
    "   def are_anagrams(s1: str, s2: str) -> bool:\n",
    "   ```\n",
    "   - **Example:**\n",
    "   ```python\n",
    "   string1 = \"listen\"\n",
    "   string2 = \"silent\"\n",
    "   print(are_anagrams(string1, string2))\n",
    "   ```\n",
    "   - **Expected Output:**\n",
    "   ```\n",
    "   True\n",
    "   ```"
   ]
  },
  {
   "cell_type": "code",
   "execution_count": 1,
   "metadata": {},
   "outputs": [],
   "source": [
    "def are_anagrams(s1: str, s2: str) -> bool:\n",
    "    pass \n",
    "\n",
    "string1 = 'listen'\n",
    "string2 = 'silent'\n",
    "are_anagrams(s1=string1, s2=string2)"
   ]
  },
  {
   "cell_type": "code",
   "execution_count": 2,
   "metadata": {},
   "outputs": [
    {
     "data": {
      "text/plain": [
       "True"
      ]
     },
     "execution_count": 2,
     "metadata": {},
     "output_type": "execute_result"
    }
   ],
   "source": [
    "sorted(string1) == sorted(string2)"
   ]
  },
  {
   "cell_type": "code",
   "execution_count": 3,
   "metadata": {},
   "outputs": [
    {
     "data": {
      "text/plain": [
       "True"
      ]
     },
     "execution_count": 3,
     "metadata": {},
     "output_type": "execute_result"
    }
   ],
   "source": [
    "def are_anagrams(s1: str, s2: str) -> bool:\n",
    "    return sorted(s1) == sorted(s2)\n",
    "\n",
    "string1 = 'listen'\n",
    "string2 = 'silent'\n",
    "are_anagrams(s1=string1, s2=string2)"
   ]
  }
 ],
 "metadata": {
  "kernelspec": {
   "display_name": "Python 3",
   "language": "python",
   "name": "python3"
  },
  "language_info": {
   "codemirror_mode": {
    "name": "ipython",
    "version": 3
   },
   "file_extension": ".py",
   "mimetype": "text/x-python",
   "name": "python",
   "nbconvert_exporter": "python",
   "pygments_lexer": "ipython3",
   "version": "3.11.2"
  },
  "orig_nbformat": 4
 },
 "nbformat": 4,
 "nbformat_minor": 2
}

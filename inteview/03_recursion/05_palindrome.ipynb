{
 "cells": [
  {
   "cell_type": "markdown",
   "metadata": {},
   "source": [
    "5. **Palindrome Check**\n",
    "   - Question: Write a recursive function to check if a given string is a palindrome (reads the same forwards and backwards).\n",
    "   - Function Signature: `def is_palindrome(s: str) -> bool:`\n",
    "   - Sample Input: `is_palindrome(\"racecar\")`\n",
    "   - Expected Output: `True`"
   ]
  },
  {
   "cell_type": "code",
   "execution_count": 1,
   "metadata": {},
   "outputs": [],
   "source": [
    "def is_palindrome(s: str) -> bool:\n",
    "    pass \n",
    "\n",
    "is_palindrome('racecar') # True"
   ]
  },
  {
   "cell_type": "code",
   "execution_count": 2,
   "metadata": {},
   "outputs": [
    {
     "name": "stdout",
     "output_type": "stream",
     "text": [
      "s = 'aceca'\n",
      "s = 'cec'\n",
      "s = 'e'\n"
     ]
    },
    {
     "data": {
      "text/plain": [
       "True"
      ]
     },
     "execution_count": 2,
     "metadata": {},
     "output_type": "execute_result"
    }
   ],
   "source": [
    "def is_palindrome(s: str) -> bool:\n",
    "    if len(s) <= 1:\n",
    "        return True # Base case\n",
    "    \n",
    "    while s[0] == s[-1]:\n",
    "        s = s[1:-1] \n",
    "        print(f\"{s = }\")\n",
    "        return is_palindrome(s)\n",
    "    else:\n",
    "        return False\n",
    "\n",
    "is_palindrome('racecar') # True"
   ]
  },
  {
   "cell_type": "markdown",
   "metadata": {},
   "source": [
    "### Better Approach "
   ]
  },
  {
   "cell_type": "code",
   "execution_count": 3,
   "metadata": {},
   "outputs": [
    {
     "data": {
      "text/plain": [
       "False"
      ]
     },
     "execution_count": 3,
     "metadata": {},
     "output_type": "execute_result"
    }
   ],
   "source": [
    "def is_palindrome(s: str) -> bool:\n",
    "    if len(s) <= 1:\n",
    "        return True # Base case\n",
    "    \n",
    "    if s[0] == s[-1]: # check if the first char and last char are the same\n",
    "        return is_palindrome(s[1:-1])\n",
    "    else:\n",
    "        return False\n",
    "\n",
    "is_palindrome('apple') # False "
   ]
  },
  {
   "cell_type": "markdown",
   "metadata": {},
   "source": [
    "### Best Approach"
   ]
  },
  {
   "cell_type": "code",
   "execution_count": 4,
   "metadata": {},
   "outputs": [
    {
     "data": {
      "text/plain": [
       "True"
      ]
     },
     "execution_count": 4,
     "metadata": {},
     "output_type": "execute_result"
    }
   ],
   "source": [
    "s = 'racecar'\n",
    "s == s[::-1]"
   ]
  }
 ],
 "metadata": {
  "kernelspec": {
   "display_name": "Python 3",
   "language": "python",
   "name": "python3"
  },
  "language_info": {
   "codemirror_mode": {
    "name": "ipython",
    "version": 3
   },
   "file_extension": ".py",
   "mimetype": "text/x-python",
   "name": "python",
   "nbconvert_exporter": "python",
   "pygments_lexer": "ipython3",
   "version": "3.11.2"
  },
  "orig_nbformat": 4
 },
 "nbformat": 4,
 "nbformat_minor": 2
}

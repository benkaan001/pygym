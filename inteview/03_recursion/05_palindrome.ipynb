{
 "cells": [
  {
   "cell_type": "markdown",
   "metadata": {},
   "source": [
    "5. **Palindrome Check**\n",
    "   - Question: Write a recursive function to check if a given string is a palindrome (reads the same forwards and backwards).\n",
    "   - Function Signature: `def is_palindrome(s: str) -> bool:`\n",
    "   - Sample Input: `is_palindrome(\"racecar\")`\n",
    "   - Expected Output: `True`"
   ]
  },
  {
   "cell_type": "code",
   "execution_count": 1,
   "metadata": {},
   "outputs": [],
   "source": [
    "def is_palindrome(s: str) -> bool:\n",
    "    pass \n",
    "\n",
    "is_palindrome('racecar') # True"
   ]
  }
 ],
 "metadata": {
  "kernelspec": {
   "display_name": "Python 3",
   "language": "python",
   "name": "python3"
  },
  "language_info": {
   "codemirror_mode": {
    "name": "ipython",
    "version": 3
   },
   "file_extension": ".py",
   "mimetype": "text/x-python",
   "name": "python",
   "nbconvert_exporter": "python",
   "pygments_lexer": "ipython3",
   "version": "3.11.2"
  },
  "orig_nbformat": 4
 },
 "nbformat": 4,
 "nbformat_minor": 2
}

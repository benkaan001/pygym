{
 "cells": [
  {
   "cell_type": "markdown",
   "metadata": {},
   "source": [
    "7. **String Permutations**\n",
    "   - Question: Write a recursive function to generate all possible permutations of a given string.\n",
    "   - Function Signature: `def string_permutations(s: str) -> List[str]:`\n",
    "   - Sample Input: `string_permutations(\"abc\")`\n",
    "   - Expected Output: `['abc', 'acb', 'bac', 'bca', 'cab', 'cba']`"
   ]
  },
  {
   "cell_type": "code",
   "execution_count": 1,
   "metadata": {},
   "outputs": [],
   "source": [
    "from typing import List\n",
    "\n",
    "def string_permutations(s: str) -> List[str]:\n",
    "    pass \n",
    "\n",
    "string_permutations(\"abc\") # ['abc', 'acb', 'bac', 'bca', 'cab', 'cba']"
   ]
  },
  {
   "cell_type": "code",
   "execution_count": 2,
   "metadata": {},
   "outputs": [
    {
     "data": {
      "text/plain": [
       "['abc', 'acb', 'bac', 'bca', 'cab', 'cba']"
      ]
     },
     "execution_count": 2,
     "metadata": {},
     "output_type": "execute_result"
    }
   ],
   "source": [
    "def string_permutations(s: str) -> List[str]:\n",
    "    # Base case: return a list containing the input string as a permutation\n",
    "    if len(s) == 0 or len(s) == 1:\n",
    "        return [s] \n",
    "    \n",
    "    permutations = []\n",
    "    \n",
    "    # Iterate through each character in the input string \n",
    "    for i in range(len(s)):\n",
    "        # Choose the current character as the starting character\n",
    "        starting_char = s[i]\n",
    "        \n",
    "        # Generate the remaining string by excluding the starting character\n",
    "        remaining_chars = s[:i] + s[i+1:] \n",
    "        \n",
    "        # Recursively generate permutations of the remaining characters\n",
    "        sub_permutations = string_permutations(remaining_chars)\n",
    "        \n",
    "        # Append the starting character to the permutations of the remaining characters\n",
    "        for sub_permutation in sub_permutations:\n",
    "            permutations.append(starting_char + sub_permutation)\n",
    "    \n",
    "    return permutations   \n",
    "\n",
    "string_permutations(\"abc\") # ['abc', 'acb', 'bac', 'bca', 'cab', 'cba']"
   ]
  },
  {
   "cell_type": "markdown",
   "metadata": {},
   "source": [
    "## Visualization"
   ]
  },
  {
   "cell_type": "code",
   "execution_count": 3,
   "metadata": {},
   "outputs": [
    {
     "name": "stdout",
     "output_type": "stream",
     "text": [
      "i = 0\n",
      "\tstarting_char = 'a'\n",
      "\tremaining_chars = 'bc'\n",
      "i = 0\n",
      "\tstarting_char = 'b'\n",
      "\tremaining_chars = 'c'\n",
      "\tsub_permutations = ['c']\n",
      "i = 1\n",
      "\tstarting_char = 'c'\n",
      "\tremaining_chars = 'b'\n",
      "\tsub_permutations = ['b']\n",
      "\tsub_permutations = ['bc', 'cb']\n",
      "i = 1\n",
      "\tstarting_char = 'b'\n",
      "\tremaining_chars = 'ac'\n",
      "i = 0\n",
      "\tstarting_char = 'a'\n",
      "\tremaining_chars = 'c'\n",
      "\tsub_permutations = ['c']\n",
      "i = 1\n",
      "\tstarting_char = 'c'\n",
      "\tremaining_chars = 'a'\n",
      "\tsub_permutations = ['a']\n",
      "\tsub_permutations = ['ac', 'ca']\n",
      "i = 2\n",
      "\tstarting_char = 'c'\n",
      "\tremaining_chars = 'ab'\n",
      "i = 0\n",
      "\tstarting_char = 'a'\n",
      "\tremaining_chars = 'b'\n",
      "\tsub_permutations = ['b']\n",
      "i = 1\n",
      "\tstarting_char = 'b'\n",
      "\tremaining_chars = 'a'\n",
      "\tsub_permutations = ['a']\n",
      "\tsub_permutations = ['ab', 'ba']\n"
     ]
    },
    {
     "data": {
      "text/plain": [
       "['abc', 'acb', 'bac', 'bca', 'cab', 'cba']"
      ]
     },
     "execution_count": 3,
     "metadata": {},
     "output_type": "execute_result"
    }
   ],
   "source": [
    "def string_permutations(s: str) -> List[str]:\n",
    "    # Base case: return a list containing the input string as a permutation\n",
    "    if len(s) == 0 or len(s) == 1:\n",
    "        return [s] \n",
    "    \n",
    "    permutations = []\n",
    "    \n",
    "    # Iterate through each character in the input string \n",
    "    for i in range(len(s)):\n",
    "        print(f\"{i = }\")\n",
    "        # Choose the current character as the starting character\n",
    "        starting_char = s[i]\n",
    "        print(f\"\\t{starting_char = }\")\n",
    "        \n",
    "        # Generate the remaining string by excluding the starting character\n",
    "        remaining_chars = s[:i] + s[i+1:] \n",
    "        print(f\"\\t{remaining_chars = }\")\n",
    "        \n",
    "        # Recursively generate permutations of the remaining characters\n",
    "        sub_permutations = string_permutations(remaining_chars)\n",
    "        print(f\"\\t{sub_permutations = }\")\n",
    "        \n",
    "        # Append the starting character to the permutations of the remaining characters\n",
    "        for sub_permutation in sub_permutations:\n",
    "            permutations.append(starting_char + sub_permutation)\n",
    "    \n",
    "    return permutations   \n",
    "\n",
    "string_permutations(\"abc\") # ['abc', 'acb', 'bac', 'bca', 'cab', 'cba']"
   ]
  }
 ],
 "metadata": {
  "kernelspec": {
   "display_name": "Python 3",
   "language": "python",
   "name": "python3"
  },
  "language_info": {
   "codemirror_mode": {
    "name": "ipython",
    "version": 3
   },
   "file_extension": ".py",
   "mimetype": "text/x-python",
   "name": "python",
   "nbconvert_exporter": "python",
   "pygments_lexer": "ipython3",
   "version": "3.11.2"
  },
  "orig_nbformat": 4
 },
 "nbformat": 4,
 "nbformat_minor": 2
}

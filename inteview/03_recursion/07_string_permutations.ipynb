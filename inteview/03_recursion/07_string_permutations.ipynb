{
 "cells": [
  {
   "cell_type": "markdown",
   "metadata": {},
   "source": [
    "7. **String Permutations**\n",
    "   - Question: Write a recursive function to generate all possible permutations of a given string.\n",
    "   - Function Signature: `def string_permutations(s: str) -> List[str]:`\n",
    "   - Sample Input: `string_permutations(\"abc\")`\n",
    "   - Expected Output: `['abc', 'acb', 'bac', 'bca', 'cab', 'cba']`"
   ]
  },
  {
   "cell_type": "code",
   "execution_count": 1,
   "metadata": {},
   "outputs": [],
   "source": [
    "from typing import List\n",
    "\n",
    "def string_permutations(s: str) -> List[str]:\n",
    "    pass \n",
    "\n",
    "string_permutations(\"abc\") # ['abc', 'acb', 'bac', 'bca', 'cab', 'cba']"
   ]
  }
 ],
 "metadata": {
  "kernelspec": {
   "display_name": "Python 3",
   "language": "python",
   "name": "python3"
  },
  "language_info": {
   "codemirror_mode": {
    "name": "ipython",
    "version": 3
   },
   "file_extension": ".py",
   "mimetype": "text/x-python",
   "name": "python",
   "nbconvert_exporter": "python",
   "pygments_lexer": "ipython3",
   "version": "3.11.2"
  },
  "orig_nbformat": 4
 },
 "nbformat": 4,
 "nbformat_minor": 2
}

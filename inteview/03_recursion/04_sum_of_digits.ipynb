{
 "cells": [
  {
   "cell_type": "markdown",
   "metadata": {},
   "source": [
    "4. **Sum of Digits**\n",
    "   - Question: Write a recursive function to calculate the sum of digits in a positive integer `n`.\n",
    "   - Function Signature: `def sum_of_digits(n: int) -> int:`\n",
    "   - Sample Input: `sum_of_digits(12345)`\n",
    "   - Expected Output: `15`"
   ]
  },
  {
   "cell_type": "code",
   "execution_count": 1,
   "metadata": {},
   "outputs": [],
   "source": [
    "def sum_of_digits(n: int) -> int:\n",
    "    pass \n",
    "\n",
    "sum_of_digits(12345) # 15"
   ]
  },
  {
   "cell_type": "code",
   "execution_count": 2,
   "metadata": {},
   "outputs": [
    {
     "data": {
      "text/plain": [
       "15"
      ]
     },
     "execution_count": 2,
     "metadata": {},
     "output_type": "execute_result"
    }
   ],
   "source": [
    "def sum_of_digits(n: int) -> int:\n",
    "    if len(str(n)) == 1:\n",
    "        return n # Base case\n",
    "    \n",
    "    first_digit = int(str(n)[0])\n",
    "    remaining_digits = int(str(n)[1:])\n",
    "    return first_digit + sum_of_digits(remaining_digits)\n",
    "    \n",
    "sum_of_digits(12345) # 15"
   ]
  },
  {
   "cell_type": "markdown",
   "metadata": {},
   "source": [
    "### Better Approach: `mudolo`"
   ]
  },
  {
   "cell_type": "code",
   "execution_count": 3,
   "metadata": {},
   "outputs": [
    {
     "name": "stdout",
     "output_type": "stream",
     "text": [
      "last_digit = 5\n",
      "reamining_digits = 1234\n"
     ]
    }
   ],
   "source": [
    "num = 12345\n",
    "\n",
    "last_digit = num % 10\n",
    "reamining_digits = num // 10 \n",
    "print(f\"{last_digit = }\\n{reamining_digits = }\")"
   ]
  },
  {
   "cell_type": "code",
   "execution_count": 4,
   "metadata": {},
   "outputs": [
    {
     "data": {
      "text/plain": [
       "15"
      ]
     },
     "execution_count": 4,
     "metadata": {},
     "output_type": "execute_result"
    }
   ],
   "source": [
    "def sum_of_digits(n: int) -> int:\n",
    "    if n <= 10:\n",
    "        return n # Base case\n",
    "    \n",
    "    last_digit = n % 10\n",
    "    remaining_digits = n // 10\n",
    "    return last_digit + sum_of_digits(remaining_digits)\n",
    "    \n",
    "sum_of_digits(12345) # 15"
   ]
  },
  {
   "cell_type": "markdown",
   "metadata": {},
   "source": [
    "### Best Approach"
   ]
  },
  {
   "cell_type": "code",
   "execution_count": 5,
   "metadata": {},
   "outputs": [
    {
     "data": {
      "text/plain": [
       "15"
      ]
     },
     "execution_count": 5,
     "metadata": {},
     "output_type": "execute_result"
    }
   ],
   "source": [
    "n = 12345\n",
    "sum(int(x) for x in str(n))"
   ]
  }
 ],
 "metadata": {
  "kernelspec": {
   "display_name": "Python 3",
   "language": "python",
   "name": "python3"
  },
  "language_info": {
   "codemirror_mode": {
    "name": "ipython",
    "version": 3
   },
   "file_extension": ".py",
   "mimetype": "text/x-python",
   "name": "python",
   "nbconvert_exporter": "python",
   "pygments_lexer": "ipython3",
   "version": "3.11.2"
  },
  "orig_nbformat": 4
 },
 "nbformat": 4,
 "nbformat_minor": 2
}

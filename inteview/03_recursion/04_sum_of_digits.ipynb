{
 "cells": [
  {
   "cell_type": "markdown",
   "metadata": {},
   "source": [
    "4. **Sum of Digits**\n",
    "   - Question: Write a recursive function to calculate the sum of digits in a positive integer `n`.\n",
    "   - Function Signature: `def sum_of_digits(n: int) -> int:`\n",
    "   - Sample Input: `sum_of_digits(12345)`\n",
    "   - Expected Output: `15`"
   ]
  },
  {
   "cell_type": "code",
   "execution_count": 1,
   "metadata": {},
   "outputs": [],
   "source": [
    "def sum_of_digits(n: int) -> int:\n",
    "    pass \n",
    "\n",
    "sum_of_digits(12345) # 15"
   ]
  },
  {
   "cell_type": "code",
   "execution_count": 9,
   "metadata": {},
   "outputs": [
    {
     "ename": "TypeError",
     "evalue": "unsupported operand type(s) for -: 'str' and 'int'",
     "output_type": "error",
     "traceback": [
      "\u001b[0;31m---------------------------------------------------------------------------\u001b[0m",
      "\u001b[0;31mTypeError\u001b[0m                                 Traceback (most recent call last)",
      "Cell \u001b[0;32mIn[9], line 6\u001b[0m\n\u001b[1;32m      3\u001b[0m         \u001b[39mreturn\u001b[39;00m \u001b[39mint\u001b[39m(n)\n\u001b[1;32m      4\u001b[0m     \u001b[39mreturn\u001b[39;00m \u001b[39mint\u001b[39m(\u001b[39mstr\u001b[39m(n)[\u001b[39m-\u001b[39m\u001b[39m1\u001b[39m]) \u001b[39m+\u001b[39m sum_of_digits(\u001b[39mint\u001b[39m(\u001b[39mstr\u001b[39m(n)[:\u001b[39mlen\u001b[39m(\u001b[39mstr\u001b[39m(n) \u001b[39m-\u001b[39m \u001b[39m1\u001b[39m)]))\n\u001b[0;32m----> 6\u001b[0m sum_of_digits(\u001b[39m12345\u001b[39;49m) \u001b[39m# 15\u001b[39;00m\n",
      "Cell \u001b[0;32mIn[9], line 4\u001b[0m, in \u001b[0;36msum_of_digits\u001b[0;34m(n)\u001b[0m\n\u001b[1;32m      2\u001b[0m \u001b[39mif\u001b[39;00m \u001b[39mlen\u001b[39m(\u001b[39mstr\u001b[39m(n)) \u001b[39m==\u001b[39m \u001b[39m1\u001b[39m:\n\u001b[1;32m      3\u001b[0m     \u001b[39mreturn\u001b[39;00m \u001b[39mint\u001b[39m(n)\n\u001b[0;32m----> 4\u001b[0m \u001b[39mreturn\u001b[39;00m \u001b[39mint\u001b[39m(\u001b[39mstr\u001b[39m(n)[\u001b[39m-\u001b[39m\u001b[39m1\u001b[39m]) \u001b[39m+\u001b[39m sum_of_digits(\u001b[39mint\u001b[39m(\u001b[39mstr\u001b[39m(n)[:\u001b[39mlen\u001b[39m(\u001b[39mstr\u001b[39;49m(n) \u001b[39m-\u001b[39;49m \u001b[39m1\u001b[39;49m)]))\n",
      "\u001b[0;31mTypeError\u001b[0m: unsupported operand type(s) for -: 'str' and 'int'"
     ]
    }
   ],
   "source": [
    "def sum_of_digits(n: int) -> int:\n",
    "    pass \n",
    "    \n",
    "\n",
    "sum_of_digits(12345) # 15"
   ]
  },
  {
   "cell_type": "code",
   "execution_count": 11,
   "metadata": {},
   "outputs": [
    {
     "data": {
      "text/plain": [
       "15"
      ]
     },
     "execution_count": 11,
     "metadata": {},
     "output_type": "execute_result"
    }
   ],
   "source": [
    "n = 12345\n",
    "sum(int(x) for x in str(n))"
   ]
  }
 ],
 "metadata": {
  "kernelspec": {
   "display_name": "Python 3",
   "language": "python",
   "name": "python3"
  },
  "language_info": {
   "codemirror_mode": {
    "name": "ipython",
    "version": 3
   },
   "file_extension": ".py",
   "mimetype": "text/x-python",
   "name": "python",
   "nbconvert_exporter": "python",
   "pygments_lexer": "ipython3",
   "version": "3.11.2"
  },
  "orig_nbformat": 4
 },
 "nbformat": 4,
 "nbformat_minor": 2
}

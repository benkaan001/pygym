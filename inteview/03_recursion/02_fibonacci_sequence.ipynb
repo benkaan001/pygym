{
 "cells": [
  {
   "cell_type": "markdown",
   "metadata": {},
   "source": [
    "2. **Fibonacci Sequence**\n",
    "   - Question: Write a recursive function to calculate the `n`th number in the Fibonacci sequence, where `F(0) = 0`, `F(1) = 1`, and `F(n) = F(n-1) + F(n-2)` for `n > 1`.\n",
    "   - Function Signature: `def fibonacci(n: int) -> int:`\n",
    "   - Sample Input: `fibonacci(6)`\n",
    "   - Expected Output: `8`"
   ]
  },
  {
   "cell_type": "code",
   "execution_count": 1,
   "metadata": {},
   "outputs": [],
   "source": [
    "def fibonacci(n: int) -> int:\n",
    "    pass \n",
    "\n",
    "fibonacci(6) # 8"
   ]
  },
  {
   "cell_type": "code",
   "execution_count": 2,
   "metadata": {},
   "outputs": [
    {
     "data": {
      "text/plain": [
       "8"
      ]
     },
     "execution_count": 2,
     "metadata": {},
     "output_type": "execute_result"
    }
   ],
   "source": [
    "def fibonacci(n: int) -> int:\n",
    "    if n == 0:\n",
    "        return 0\n",
    "    if n == 1:\n",
    "        return 1\n",
    "    return fibonacci(n-1) + fibonacci(n-2)\n",
    "\n",
    "fibonacci(6)"
   ]
  },
  {
   "cell_type": "markdown",
   "metadata": {},
   "source": [
    "### Base Case\n",
    "\n",
    "- **fib(0) --> 0**\n",
    "- **fib(1) --> 1**\n",
    "\n",
    "### Recursive Case\n",
    "\n",
    "- **fib(2)** --> fib(1) + fib(0) --> 1 + 0 = 1\n",
    "- **fib(3)** --> fib(2) + fib(1) --> 1 + 1 = 2\n",
    "- **fib(4)** --> fib(3) + fib(2) --> 2 + 1 = 3\n",
    "- **fib(5)** --> fib(4) + fib(3) --> 3 + 2 = 5\n",
    "- **fib(6)** --> fib(5) + fib(4) --> 5 + 3 = 8"
   ]
  }
 ],
 "metadata": {
  "kernelspec": {
   "display_name": "Python 3",
   "language": "python",
   "name": "python3"
  },
  "language_info": {
   "codemirror_mode": {
    "name": "ipython",
    "version": 3
   },
   "file_extension": ".py",
   "mimetype": "text/x-python",
   "name": "python",
   "nbconvert_exporter": "python",
   "pygments_lexer": "ipython3",
   "version": "3.11.2"
  },
  "orig_nbformat": 4
 },
 "nbformat": 4,
 "nbformat_minor": 2
}

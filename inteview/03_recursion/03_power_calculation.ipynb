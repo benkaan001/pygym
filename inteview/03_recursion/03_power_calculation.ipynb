{
 "cells": [
  {
   "cell_type": "markdown",
   "metadata": {},
   "source": [
    "3. **Power Calculation**\n",
    "   - Question: Write a recursive function to calculate the result of raising a base `x` to a non-negative integer exponent `n`.\n",
    "   - Function Signature: `def power(x: float, n: int) -> float:`\n",
    "   - Sample Input: `power(2, 3)`\n",
    "   - Expected Output: `8`"
   ]
  },
  {
   "cell_type": "code",
   "execution_count": 1,
   "metadata": {},
   "outputs": [],
   "source": [
    "def power(x: float, n: int) -> float:\n",
    "    pass \n",
    "\n",
    "power(2, 3) # 8.0"
   ]
  },
  {
   "cell_type": "code",
   "execution_count": 2,
   "metadata": {},
   "outputs": [
    {
     "data": {
      "text/plain": [
       "8.0"
      ]
     },
     "execution_count": 2,
     "metadata": {},
     "output_type": "execute_result"
    }
   ],
   "source": [
    "def power(x: float, n: int) -> float:\n",
    "    if n == 1:\n",
    "        return x \n",
    "    return x * power(x, n-1)\n",
    "\n",
    "power(2.0, 3) # 8"
   ]
  },
  {
   "cell_type": "markdown",
   "metadata": {},
   "source": [
    "1. **Call power(2.0, 3):**\n",
    "   - The input is x = 2.0, n = 3.\n",
    "   - Since n (3) is not 1, the function enters the recursive case.\n",
    "   - It calculates 2.0 * power(2.0, 2) and waits for the result of power(2.0, 2).\n",
    "\n",
    "2. **Call power(2.0, 2):**\n",
    "   - The input is x = 2.0, n = 2.\n",
    "   - Again, since n (2) is not 1, the function enters the recursive case.\n",
    "   - It calculates 2.0 * power(2.0, 1) and waits for the result of power(2.0, 1).\n",
    "\n",
    "3. **Call power(2.0, 1):**\n",
    "   - The input is x = 2.0, n = 1.\n",
    "   - Now, the base case is triggered because n is 1.\n",
    "   - The function immediately returns x, which is 2.0.\n",
    "\n",
    "Going back up the chain:\n",
    "\n",
    "- power(2.0, 1) --> 2.0\n",
    "- power(2.0, 2) --> 2.0 * 2.0 (the result of power(2.0, 1)) = 4.0\n",
    "- power(2.0, 3) --> 2.0 * 4.0 (the result of power(2.0, 2)) = 8.0\n",
    "\n",
    "\n",
    "In each step, the function calculates the result of `x * power(x, n-1)` until it reaches the base case. Then, as the results propagate back up, they are multiplied together to form the final result."
   ]
  }
 ],
 "metadata": {
  "kernelspec": {
   "display_name": "Python 3",
   "language": "python",
   "name": "python3"
  },
  "language_info": {
   "codemirror_mode": {
    "name": "ipython",
    "version": 3
   },
   "file_extension": ".py",
   "mimetype": "text/x-python",
   "name": "python",
   "nbconvert_exporter": "python",
   "pygments_lexer": "ipython3",
   "version": "3.11.2"
  },
  "orig_nbformat": 4
 },
 "nbformat": 4,
 "nbformat_minor": 2
}

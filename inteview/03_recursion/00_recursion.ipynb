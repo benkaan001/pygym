{
 "cells": [
  {
   "cell_type": "markdown",
   "metadata": {},
   "source": [
    "#### Using `doll` analogy:\n",
    "\n",
    "Imagine you have a set of Russian nesting dolls. Each doll contains a smaller doll inside, and you want to find the smallest doll within the set. This process can be similar to understanding recursion.\n",
    "\n",
    "Recursion in programming is like solving a big problem by breaking it down into smaller, manageable pieces of the same problem until you reach a point where the problem is simple enough to solve directly. This is known as the \"divide and conquer\" approach.\n",
    "\n",
    "Let's break down the key concepts of recursion:\n",
    "\n",
    "1. **Base Case:** Think of the smallest doll in the nesting doll set. In recursion, this is the simplest version of the problem that can be solved directly without further breakdown. The base case prevents infinite recursion and provides a stopping condition.\n",
    "\n",
    "2. **Recursive Case:** Just like opening each doll to find a smaller one inside, the recursive case involves breaking down a problem into smaller instances of the same problem. Each time you do this, you move closer to the base case.\n",
    "\n",
    "3. **Function Calls:** When a function calls itself within its own code, it's like opening a doll to find another doll inside. Each function call works on a smaller problem until the base case is reached.\n",
    "\n",
    "4. **Return Values:** As you solve each smaller instance of the problem, you obtain a result. These results are combined to solve larger instances of the problem, eventually leading to the solution for the original problem.\n",
    "\n",
    "#### Using `finger` analogy:\n",
    "\n",
    "Let's say you want to count the number of fingers you have by counting one finger at a time. Each time you count one finger, you have one less finger to count. You keep counting until you realize you have no fingers left to count. This realization is the base case.\n",
    "\n",
    "In programming, you'd create a recursive function that counts fingers, subtracts one each time, and calls itself until the count reaches zero (base case).\n"
   ]
  },
  {
   "cell_type": "code",
   "execution_count": 1,
   "metadata": {},
   "outputs": [
    {
     "name": "stdout",
     "output_type": "stream",
     "text": [
      "24\n"
     ]
    }
   ],
   "source": [
    "def factorial(n):\n",
    "    if n == 0:\n",
    "        return 1  # Base case\n",
    "    else:\n",
    "        return n * factorial(n - 1)  # Recursive case\n",
    "\n",
    "result = factorial(4)\n",
    "print(result)  # Outputs 24"
   ]
  },
  {
   "cell_type": "markdown",
   "metadata": {},
   "source": [
    "Let's use the example of calculating the factorial of 4 (4!). \n",
    "\n",
    "Factorial of a non-negative integer n (denoted as n!) is the product of all positive integers from 1 to n.\n",
    "\n",
    "**Factorial of 4 (4!) = 4 x 3 x 2 x 1 = 24**\n",
    "\n",
    "Here's how the recursive calculation works:\n",
    "\n",
    "1. **Call factorial(4):**\n",
    "   - The input is 4.\n",
    "   - Since 4 is not 0 (the base case), the function enters the recursive case.\n",
    "   - It calculates 4 * factorial(3) and waits for the result of factorial(3).\n",
    "\n",
    "2. **Call factorial(3):**\n",
    "   - The input is 3.\n",
    "   - Since 3 is not 0, the function calculates 3 * factorial(2) and waits for the result of factorial(2).\n",
    "\n",
    "3. **Call factorial(2):**\n",
    "   - The input is 2.\n",
    "   - Since 2 is not 0, the function calculates 2 * factorial(1) and waits for the result of factorial(1).\n",
    "\n",
    "4. **Call factorial(1):**\n",
    "   - The input is 1.\n",
    "   - Since 1 is not 0, the function calculates 1 * factorial(0) and waits for the result of factorial(0).\n",
    "\n",
    "5. **Call factorial(0):**\n",
    "   - The input is 0.\n",
    "   - Now we've reached the base case (factorial of 0 is defined as 1).\n",
    "   - The function immediately returns 1.\n",
    "\n",
    "Going back up the chain:\n",
    "\n",
    "- factorial(1) returns 1 * factorial(0) = 1 * 1 = 1\n",
    "- factorial(2) returns 2 * factorial(1) = 2 * 1 = 2\n",
    "- factorial(3) returns 3 * factorial(2) = 3 * 2 = 6\n",
    "- factorial(4) returns 4 * factorial(3) = 4 * 6 = 24\n",
    "\n",
    "So, the final result is 24, which is the factorial of 4.\n",
    "\n",
    "Each function call waits for the result of the next smaller instance until it reaches the base case. As the base case result and subsequent results are returned, they are multiplied together to form the final result."
   ]
  }
 ],
 "metadata": {
  "kernelspec": {
   "display_name": "Python 3",
   "language": "python",
   "name": "python3"
  },
  "language_info": {
   "codemirror_mode": {
    "name": "ipython",
    "version": 3
   },
   "file_extension": ".py",
   "mimetype": "text/x-python",
   "name": "python",
   "nbconvert_exporter": "python",
   "pygments_lexer": "ipython3",
   "version": "3.11.2"
  },
  "orig_nbformat": 4
 },
 "nbformat": 4,
 "nbformat_minor": 2
}

{
 "cells": [
  {
   "cell_type": "markdown",
   "metadata": {},
   "source": [
    "6. **Binary Search in Sorted List**\n",
    "   - Question: Write a recursive function to perform binary search on a sorted list and return the index of the target element if found, or -1 if not found.\n",
    "   - Function Signature: `def binary_search(arr: List[int], target: int, low: int, high: int) -> int:`\n",
    "   - Sample Input: `binary_search([2, 4, 6, 8, 10], 6, 0, 4)`\n",
    "   - Expected Output: `2`"
   ]
  },
  {
   "cell_type": "code",
   "execution_count": 1,
   "metadata": {},
   "outputs": [],
   "source": [
    "from typing import List\n",
    "\n",
    "def binary_search(arr: List[int], target: int, low: int, high: int) -> int:\n",
    "    pass \n",
    "\n",
    "arr = [2, 4, 6, 8, 10]\n",
    "target = 6\n",
    "low = 0\n",
    "high = 4\n",
    "binary_search(arr, target, low, high) # 2"
   ]
  },
  {
   "cell_type": "markdown",
   "metadata": {},
   "source": [
    "## Binary Search"
   ]
  },
  {
   "cell_type": "markdown",
   "metadata": {},
   "source": [
    "Binary search works by repeatedly dividing the search interval in half until the target value is found or the interval becomes empty. Here's how binary search works:\n",
    "\n",
    "1. **Initial Setup:**\n",
    "   - Binary search assumes that the collection is sorted in ascending (or descending) order.\n",
    "   - You start with the entire collection as the search interval.\n",
    "\n",
    "2. **Midpoint Calculation:**\n",
    "   - Calculate the midpoint of the current search interval. This is often done by finding the average of the low and high indices.\n",
    "\n",
    "3. **Comparison:**\n",
    "   - Compare the value at the midpoint with the target value you're searching for.\n",
    "\n",
    "4. **Three Possible Outcomes:**\n",
    "   - If the value at the midpoint is equal to the target value, the search is successful, and you can return the index of the midpoint.\n",
    "   - If the value at the midpoint is less than the target value, you know the target must be in the right half of the interval. Adjust the low index to be one greater than the midpoint.\n",
    "   - If the value at the midpoint is greater than the target value, you know the target must be in the left half of the interval. Adjust the high index to be one less than the midpoint.\n",
    "\n",
    "5. **Repeat:**\n",
    "   - Repeat steps 2 to 4 until the interval becomes empty (i.e., low index is greater than high index). In this case, the target value is not in the collection, and the search is unsuccessful.\n",
    "\n",
    "Binary search's key advantage is that it reduces the search interval by half with each comparison, leading to a significantly faster search compared to linear search. Its time complexity is `O(log n)`, where n is the number of elements in the collection. This makes it particularly efficient for large datasets.\n",
    "\n",
    "\n",
    "Binary search requires a sorted collection, and it's not suitable for unsorted data. If the collection is frequently updated, the overhead of maintaining the sorted order might outweigh the benefits of binary search."
   ]
  },
  {
   "cell_type": "code",
   "execution_count": 2,
   "metadata": {},
   "outputs": [
    {
     "name": "stdout",
     "output_type": "stream",
     "text": [
      "Found at index: 4\n"
     ]
    }
   ],
   "source": [
    "def binary_search(arr, target):\n",
    "    low = 0\n",
    "    high = len(arr) - 1\n",
    "    \n",
    "    while low <= high:\n",
    "        mid = (low + high) // 2\n",
    "        if arr[mid] == target:\n",
    "            return mid \n",
    "        elif arr[mid] < target:\n",
    "            low = mid + 1\n",
    "        else:\n",
    "            high = mid - 1\n",
    "    return -1 # Target not found\n",
    "\n",
    "arr = [1, 3, 5, 7, 9, 11, 13, 15, 17]\n",
    "target = 9 \n",
    "result = binary_search(arr, target)\n",
    "print(f\"Found at index: {result}\")"
   ]
  },
  {
   "cell_type": "code",
   "execution_count": 3,
   "metadata": {},
   "outputs": [
    {
     "data": {
      "text/plain": [
       "2"
      ]
     },
     "execution_count": 3,
     "metadata": {},
     "output_type": "execute_result"
    }
   ],
   "source": [
    "def binary_search(arr: List[int], target: int, low: int, high: int) -> int:\n",
    "    \n",
    "    if low > high:\n",
    "        return -1 # Target not found \n",
    "    \n",
    "    mid = (low + high) // 2\n",
    "    \n",
    "    if arr[mid] == target:\n",
    "        return mid \n",
    "    elif arr[mid] < target:\n",
    "        return binary_search(arr, target, mid+1, high)\n",
    "    else:\n",
    "        return binary_search(arr, target, low, mid - 1)\n",
    "    \n",
    "arr = [2, 4, 6, 8, 10]\n",
    "target = 6\n",
    "low = 0\n",
    "high = 4\n",
    "binary_search(arr, target, low, high) # 2"
   ]
  }
 ],
 "metadata": {
  "kernelspec": {
   "display_name": "Python 3",
   "language": "python",
   "name": "python3"
  },
  "language_info": {
   "codemirror_mode": {
    "name": "ipython",
    "version": 3
   },
   "file_extension": ".py",
   "mimetype": "text/x-python",
   "name": "python",
   "nbconvert_exporter": "python",
   "pygments_lexer": "ipython3",
   "version": "3.11.2"
  },
  "orig_nbformat": 4
 },
 "nbformat": 4,
 "nbformat_minor": 2
}

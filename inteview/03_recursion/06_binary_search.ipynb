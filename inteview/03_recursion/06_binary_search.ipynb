{
 "cells": [
  {
   "cell_type": "markdown",
   "metadata": {},
   "source": [
    "6. **Binary Search in Sorted List**\n",
    "   - Question: Write a recursive function to perform binary search on a sorted list and return the index of the target element if found, or -1 if not found.\n",
    "   - Function Signature: `def binary_search(arr: List[int], target: int, low: int, high: int) -> int:`\n",
    "   - Sample Input: `binary_search([2, 4, 6, 8, 10], 6, 0, 4)`\n",
    "   - Expected Output: `2`"
   ]
  },
  {
   "cell_type": "code",
   "execution_count": 1,
   "metadata": {},
   "outputs": [],
   "source": [
    "from typing import List\n",
    "\n",
    "def binary_search(arr: List[int], target: int, low: int, high: int) -> int:\n",
    "    pass \n",
    "\n",
    "array = [2, 4, 6, 8, 10]\n",
    "target_num = 6\n",
    "low_num = 0\n",
    "high_num = 4\n",
    "binary_search(arr=array, target=target_num, low=low_num, high=high_num) # 2"
   ]
  }
 ],
 "metadata": {
  "kernelspec": {
   "display_name": "Python 3",
   "language": "python",
   "name": "python3"
  },
  "language_info": {
   "codemirror_mode": {
    "name": "ipython",
    "version": 3
   },
   "file_extension": ".py",
   "mimetype": "text/x-python",
   "name": "python",
   "nbconvert_exporter": "python",
   "pygments_lexer": "ipython3",
   "version": "3.11.2"
  },
  "orig_nbformat": 4
 },
 "nbformat": 4,
 "nbformat_minor": 2
}

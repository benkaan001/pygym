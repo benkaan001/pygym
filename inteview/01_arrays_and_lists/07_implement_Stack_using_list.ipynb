{
 "cells": [
  {
   "cell_type": "markdown",
   "metadata": {},
   "source": [
    " **Implement Stack using List**\n",
    "   - **Question:** Create a stack data structure using a list and implement push, pop, and peek (top) operations.\n",
    "   - **Function Signature for Stack:**\n",
    "   ```python\n",
    "   class Stack:\n",
    "       def __init__(self):\n",
    "           pass\n",
    "\n",
    "       def push(self, value: int) -> None:\n",
    "           pass\n",
    "\n",
    "       def pop(self) -> int:\n",
    "           pass\n",
    "\n",
    "       def peek(self) -> int:\n",
    "           pass\n",
    "   ```"
   ]
  },
  {
   "cell_type": "code",
   "execution_count": 1,
   "metadata": {},
   "outputs": [],
   "source": [
    "class Stack:\n",
    "    def __init__(self):\n",
    "        pass\n",
    "\n",
    "    def push(self, value: int) -> None:\n",
    "        pass\n",
    "\n",
    "    def pop(self) -> int:\n",
    "        pass\n",
    "\n",
    "    def peek(self) -> int:\n",
    "        pass"
   ]
  },
  {
   "cell_type": "code",
   "execution_count": 2,
   "metadata": {},
   "outputs": [
    {
     "data": {
      "text/plain": [
       "<__main__.Stack at 0x1098ccf50>"
      ]
     },
     "execution_count": 2,
     "metadata": {},
     "output_type": "execute_result"
    }
   ],
   "source": [
    "class Stack:\n",
    "    def __init__(self):\n",
    "        self.items = []\n",
    "    \n",
    "    def is_empty(self) -> bool:\n",
    "        return len(self.items) == 0\n",
    "    \n",
    "    def size(self) -> int:\n",
    "        return len(self.items)\n",
    "    \n",
    "    def push(self, value: int) -> None:\n",
    "        self.items.append(value)\n",
    "    \n",
    "    def pop(self) -> int:\n",
    "        if not self.is_empty():\n",
    "            return self.items.pop()\n",
    "    \n",
    "    def peek(self) -> int:\n",
    "        if not self.is_empty():\n",
    "            return self.items[-1]\n",
    "\n",
    "\n",
    "stack = Stack()\n",
    "stack"
   ]
  },
  {
   "cell_type": "code",
   "execution_count": 3,
   "metadata": {},
   "outputs": [
    {
     "data": {
      "text/plain": [
       "1"
      ]
     },
     "execution_count": 3,
     "metadata": {},
     "output_type": "execute_result"
    }
   ],
   "source": [
    "stack.push(100)\n",
    "stack.size()"
   ]
  },
  {
   "cell_type": "code",
   "execution_count": 4,
   "metadata": {},
   "outputs": [
    {
     "data": {
      "text/plain": [
       "2"
      ]
     },
     "execution_count": 4,
     "metadata": {},
     "output_type": "execute_result"
    }
   ],
   "source": [
    "stack.push(200)\n",
    "stack.size()"
   ]
  },
  {
   "cell_type": "code",
   "execution_count": 5,
   "metadata": {},
   "outputs": [
    {
     "data": {
      "text/plain": [
       "300"
      ]
     },
     "execution_count": 5,
     "metadata": {},
     "output_type": "execute_result"
    }
   ],
   "source": [
    "stack.push(300)\n",
    "stack.peek()"
   ]
  },
  {
   "cell_type": "markdown",
   "metadata": {},
   "source": [
    "A stack is a linear data structure that follows the Last In, First Out (LIFO) principle. It means that the last element added to the stack will be the first one to be removed. Imagine a stack of plates; when you add a new plate to the stack, it goes on top, and when you remove a plate, you take the one from the top.\n",
    "\n",
    "The two main operations that can be performed on a stack are:\n",
    "\n",
    "1. Push: This operation is used to add an element to the top of the stack. When you push an element onto the stack, it becomes the new top element.\n",
    "\n",
    "2. Pop: This operation is used to remove the top element from the stack. When you pop an element, the element below it (if any) becomes the new top element.\n",
    "\n",
    "Other essential features of a stack include:\n",
    "\n",
    "3. Peek or Top: This operation allows you to access the top element of the stack without removing it. You can view the top element without affecting the stack's structure.\n",
    "\n",
    "4. IsEmpty: This operation checks if the stack is empty. If the stack has no elements, it returns true, indicating there's nothing in the stack.\n",
    "\n",
    "Stacks are widely used in programming and computer science for various purposes, including:\n",
    "\n",
    "- Function calls: When a function is called, the computer pushes its context (local variables, return address, etc.) onto the call stack. When the function finishes execution, its context is popped off the stack, and the program resumes from where it left off.\n",
    "\n",
    "- Expression evaluation: Stacks can be used to evaluate expressions, especially those involving parentheses or postfix notation (also known as Reverse Polish Notation, RPN).\n",
    "\n",
    "- Undo/Redo functionality: Many applications use a stack to implement undo and redo functionality, where actions can be pushed onto the stack when performed and popped off to undo them.\n",
    "\n",
    "Implementing a stack can be done using arrays or linked lists. In Python, you can use a list as a basic stack implementation. Python provides methods like `append()` for push, `pop()` for pop, and `[-1]` index to peek the top element.\n",
    "\n",
    "Here's a simple example of a stack implementation using a list in Python:\n",
    "\n",
    "```python\n",
    "class Stack:\n",
    "    def __init__(self):\n",
    "        self.items = []\n",
    "\n",
    "    def push(self, item):\n",
    "        self.items.append(item)\n",
    "\n",
    "    def pop(self):\n",
    "        if not self.is_empty():\n",
    "            return self.items.pop()\n",
    "\n",
    "    def peek(self):\n",
    "        if not self.is_empty():\n",
    "            return self.items[-1]\n",
    "\n",
    "    def is_empty(self):\n",
    "        return len(self.items) == 0\n",
    "\n",
    "    def size(self):\n",
    "        return len(self.items)\n",
    "\n",
    "# Example usage:\n",
    "stack = Stack()\n",
    "stack.push(1)\n",
    "stack.push(2)\n",
    "stack.push(3)\n",
    "\n",
    "print(stack.peek())  # Output: 3\n",
    "print(stack.pop())   # Output: 3\n",
    "print(stack.pop())   # Output: 2\n",
    "print(stack.is_empty())  # Output: False\n",
    "print(stack.size())   # Output: 1\n",
    "```"
   ]
  }
 ],
 "metadata": {
  "kernelspec": {
   "display_name": "Python 3",
   "language": "python",
   "name": "python3"
  },
  "language_info": {
   "codemirror_mode": {
    "name": "ipython",
    "version": 3
   },
   "file_extension": ".py",
   "mimetype": "text/x-python",
   "name": "python",
   "nbconvert_exporter": "python",
   "pygments_lexer": "ipython3",
   "version": "3.11.2"
  },
  "orig_nbformat": 4
 },
 "nbformat": 4,
 "nbformat_minor": 2
}

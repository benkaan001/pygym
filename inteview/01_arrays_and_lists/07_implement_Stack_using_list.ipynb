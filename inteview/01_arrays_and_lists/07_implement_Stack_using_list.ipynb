{
 "cells": [
  {
   "cell_type": "markdown",
   "metadata": {},
   "source": [
    " **Implement Stack using List**\n",
    "   - **Question:** Create a stack data structure using a list and implement push, pop, and peek (top) operations.\n",
    "   - **Function Signature for Stack:**\n",
    "   ```python\n",
    "   class Stack:\n",
    "       def __init__(self):\n",
    "           pass\n",
    "\n",
    "       def push(self, value: int) -> None:\n",
    "           pass\n",
    "\n",
    "       def pop(self) -> int:\n",
    "           pass\n",
    "\n",
    "       def peek(self) -> int:\n",
    "           pass\n",
    "   ```"
   ]
  },
  {
   "cell_type": "code",
   "execution_count": null,
   "metadata": {},
   "outputs": [],
   "source": []
  }
 ],
 "metadata": {
  "language_info": {
   "name": "python"
  },
  "orig_nbformat": 4
 },
 "nbformat": 4,
 "nbformat_minor": 2
}

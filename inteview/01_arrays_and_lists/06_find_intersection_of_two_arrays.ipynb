{
 "cells": [
  {
   "cell_type": "markdown",
   "metadata": {},
   "source": [
    "**Find Intersection of Two Arrays**\n",
    "   - **Question:** Implement a function to find the intersection of two arrays/lists and return the common elements.\n",
    "   - **Function Signature:**\n",
    "   ```python\n",
    "   def find_intersection(arr1: List[int], arr2: List[int]) -> List[int]:\n",
    "   ```\n",
    "   - **Example:**\n",
    "   ```python\n",
    "   input_arr1 = [1, 2, 3, 4, 5]\n",
    "   input_arr2 = [3, 4, 5, 6, 7]\n",
    "   print(find_intersection(input_arr1, input_arr2))\n",
    "   ```\n",
    "   - **Expected Output:**\n",
    "   ```\n",
    "   [3, 4, 5]\n",
    "   ```"
   ]
  },
  {
   "cell_type": "code",
   "execution_count": null,
   "metadata": {},
   "outputs": [],
   "source": []
  }
 ],
 "metadata": {
  "language_info": {
   "name": "python"
  },
  "orig_nbformat": 4
 },
 "nbformat": 4,
 "nbformat_minor": 2
}

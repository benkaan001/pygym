{
 "cells": [
  {
   "cell_type": "markdown",
   "metadata": {},
   "source": [
    "**Rotate Array by K Positions**\n",
    "   - **Question:** Design a function to rotate an array/list by a given number of positions to the right.\n",
    "   - **Function Signature:**\n",
    "   ```python\n",
    "   def rotate_array(arr: List[int], k: int) -> List[int]:\n",
    "   ```\n",
    "   - **Example:**\n",
    "   ```python\n",
    "   input_arr = [1, 2, 3, 4, 5]\n",
    "   k = 2\n",
    "   print(rotate_array(input_arr, k))\n",
    "   ```\n",
    "   - **Expected Output:**\n",
    "   ```\n",
    "   [4, 5, 1, 2, 3]\n",
    "   ```"
   ]
  },
  {
   "cell_type": "code",
   "execution_count": 1,
   "metadata": {},
   "outputs": [],
   "source": [
    "from typing import List \n",
    "\n",
    "def rotate_array(arr: List[int], k: int) -> List[int]:\n",
    "    pass \n",
    "\n",
    "input_arr = [1, 2, 3, 4, 5]\n",
    "k = 2\n",
    "rotate_array(arr=input_arr, k=k)"
   ]
  },
  {
   "cell_type": "code",
   "execution_count": 2,
   "metadata": {},
   "outputs": [
    {
     "data": {
      "text/plain": [
       "[4, 5]"
      ]
     },
     "execution_count": 2,
     "metadata": {},
     "output_type": "execute_result"
    }
   ],
   "source": [
    "n = len(input_arr)\n",
    "input_arr[n - k: ]"
   ]
  },
  {
   "cell_type": "code",
   "execution_count": 3,
   "metadata": {},
   "outputs": [
    {
     "data": {
      "text/plain": [
       "[1, 2, 3]"
      ]
     },
     "execution_count": 3,
     "metadata": {},
     "output_type": "execute_result"
    }
   ],
   "source": [
    "input_arr[: n - k]"
   ]
  },
  {
   "cell_type": "code",
   "execution_count": 4,
   "metadata": {},
   "outputs": [
    {
     "data": {
      "text/plain": [
       "([4, 5], [1, 2, 3])"
      ]
     },
     "execution_count": 4,
     "metadata": {},
     "output_type": "execute_result"
    }
   ],
   "source": [
    "first_part, second_part = input_arr[:n - k], input_arr[n- k:]\n",
    "second_part, first_part"
   ]
  },
  {
   "cell_type": "code",
   "execution_count": 5,
   "metadata": {},
   "outputs": [
    {
     "data": {
      "text/plain": [
       "[4, 5, 1, 2, 3]"
      ]
     },
     "execution_count": 5,
     "metadata": {},
     "output_type": "execute_result"
    }
   ],
   "source": [
    "second_part + first_part\n"
   ]
  },
  {
   "cell_type": "code",
   "execution_count": 6,
   "metadata": {},
   "outputs": [
    {
     "data": {
      "text/plain": [
       "[4, 5, 1, 2, 3]"
      ]
     },
     "execution_count": 6,
     "metadata": {},
     "output_type": "execute_result"
    }
   ],
   "source": [
    "def rotate_array(arr: List[int], k: int) -> List[int]:\n",
    "    n = len(arr)\n",
    "    first_part, second_part = input_arr[:n - k], input_arr[n-k:]\n",
    "    return second_part + first_part\n",
    "    \n",
    "\n",
    "input_arr = [1, 2, 3, 4, 5]\n",
    "k = 2\n",
    "rotate_array(arr=input_arr, k=k)"
   ]
  }
 ],
 "metadata": {
  "kernelspec": {
   "display_name": "Python 3",
   "language": "python",
   "name": "python3"
  },
  "language_info": {
   "codemirror_mode": {
    "name": "ipython",
    "version": 3
   },
   "file_extension": ".py",
   "mimetype": "text/x-python",
   "name": "python",
   "nbconvert_exporter": "python",
   "pygments_lexer": "ipython3",
   "version": "3.11.2"
  },
  "orig_nbformat": 4
 },
 "nbformat": 4,
 "nbformat_minor": 2
}

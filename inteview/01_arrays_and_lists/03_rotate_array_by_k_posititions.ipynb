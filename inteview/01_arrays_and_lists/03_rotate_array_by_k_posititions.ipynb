{
 "cells": [
  {
   "cell_type": "markdown",
   "metadata": {},
   "source": [
    "**Rotate Array by K Positions**\n",
    "   - **Question:** Design a function to rotate an array/list by a given number of positions to the right.\n",
    "   - **Function Signature:**\n",
    "   ```python\n",
    "   def rotate_array(arr: List[int], k: int) -> List[int]:\n",
    "   ```\n",
    "   - **Example:**\n",
    "   ```python\n",
    "   input_arr = [1, 2, 3, 4, 5]\n",
    "   k = 2\n",
    "   print(rotate_array(input_arr, k))\n",
    "   ```\n",
    "   - **Expected Output:**\n",
    "   ```\n",
    "   [4, 5, 1, 2, 3]\n",
    "   ```"
   ]
  },
  {
   "cell_type": "code",
   "execution_count": null,
   "metadata": {},
   "outputs": [],
   "source": []
  }
 ],
 "metadata": {
  "language_info": {
   "name": "python"
  },
  "orig_nbformat": 4
 },
 "nbformat": 4,
 "nbformat_minor": 2
}

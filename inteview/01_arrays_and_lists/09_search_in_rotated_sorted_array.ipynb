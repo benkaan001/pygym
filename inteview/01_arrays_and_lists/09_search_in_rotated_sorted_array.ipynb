{
 "cells": [
  {
   "cell_type": "markdown",
   "metadata": {},
   "source": [
    "**Search in Rotated Sorted Array**\n",
    "- **Question:** Given a rotated sorted array, write a function to search for a target element. Return the index if found; otherwise, return -1.\n",
    "\n",
    "- **Function Signature:**\n",
    "\n",
    "```python\n",
    "def search_rotated_array(arr: List[int], target: int) -> int:\n",
    "```\n",
    "\n",
    "- **Example:**\n",
    "```python\n",
    "input_arr = [4, 5, 6, 7, 0, 1, 2]\n",
    "target_value = 0\n",
    "print(search_rotated_array(input_arr, target_value))\n",
    "```\n",
    "- **Expected Output:**\n",
    "```\n",
    "4\n",
    "```"
   ]
  },
  {
   "cell_type": "code",
   "execution_count": null,
   "metadata": {},
   "outputs": [],
   "source": []
  }
 ],
 "metadata": {
  "language_info": {
   "name": "python"
  },
  "orig_nbformat": 4
 },
 "nbformat": 4,
 "nbformat_minor": 2
}

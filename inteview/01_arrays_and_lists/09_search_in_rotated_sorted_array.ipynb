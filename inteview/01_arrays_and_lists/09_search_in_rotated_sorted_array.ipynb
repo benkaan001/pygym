{
 "cells": [
  {
   "cell_type": "markdown",
   "metadata": {},
   "source": [
    "**Search in Rotated Sorted Array**\n",
    "- **Question:** Given a rotated sorted array, write a function to search for a target element. Return the index if found; otherwise, return -1.\n",
    "\n",
    "- **Function Signature:**\n",
    "\n",
    "```python\n",
    "def search_rotated_array(arr: List[int], target: int) -> int:\n",
    "```\n",
    "\n",
    "- **Example:**\n",
    "```python\n",
    "input_arr = [4, 5, 6, 7, 0, 1, 2]\n",
    "target_value = 0\n",
    "print(search_rotated_array(input_arr, target_value))\n",
    "```\n",
    "- **Expected Output:**\n",
    "```\n",
    "4\n",
    "```"
   ]
  },
  {
   "cell_type": "code",
   "execution_count": 1,
   "metadata": {},
   "outputs": [],
   "source": [
    "from typing import List \n",
    "\n",
    "def search_rotated_array(arr: List[int], target: int) -> int:\n",
    "    pass \n",
    "\n",
    "input_arr = [4, 5, 6, 7, 0, 1, 2]\n",
    "target_value = 0 \n",
    "search_rotated_array(arr=input_arr, target=target_value)"
   ]
  },
  {
   "cell_type": "code",
   "execution_count": 2,
   "metadata": {},
   "outputs": [
    {
     "data": {
      "text/plain": [
       "4"
      ]
     },
     "execution_count": 2,
     "metadata": {},
     "output_type": "execute_result"
    }
   ],
   "source": [
    "input_arr.index(target_value)"
   ]
  },
  {
   "cell_type": "code",
   "execution_count": 3,
   "metadata": {},
   "outputs": [
    {
     "name": "stdout",
     "output_type": "stream",
     "text": [
      "100 is not in list\n"
     ]
    }
   ],
   "source": [
    "target_value = 100 \n",
    "try:\n",
    "    input_arr.index(target_value)\n",
    "except ValueError as e:\n",
    "    print(e)"
   ]
  },
  {
   "cell_type": "code",
   "execution_count": 4,
   "metadata": {},
   "outputs": [
    {
     "data": {
      "text/plain": [
       "-1"
      ]
     },
     "execution_count": 4,
     "metadata": {},
     "output_type": "execute_result"
    }
   ],
   "source": [
    "target_value = 100\n",
    "input_arr.index(target_value) if target_value in input_arr else -1 "
   ]
  },
  {
   "cell_type": "code",
   "execution_count": 5,
   "metadata": {},
   "outputs": [
    {
     "data": {
      "text/plain": [
       "4"
      ]
     },
     "execution_count": 5,
     "metadata": {},
     "output_type": "execute_result"
    }
   ],
   "source": [
    "def search_rotated_array(arr: List[int], target: int) -> int:\n",
    "    return arr.index(target) if target in arr else -1\n",
    "\n",
    "input_arr = [4, 5, 6, 7, 0, 1, 2]\n",
    "target_value = 0 \n",
    "search_rotated_array(arr=input_arr, target=target_value)"
   ]
  },
  {
   "cell_type": "code",
   "execution_count": 6,
   "metadata": {},
   "outputs": [],
   "source": [
    "input_arr = [4, 5, 6, 7, 0, 1, 2]\n",
    "target_value = 100\n",
    "assert search_rotated_array(arr=input_arr, target=target_value) == -1"
   ]
  }
 ],
 "metadata": {
  "kernelspec": {
   "display_name": "Python 3",
   "language": "python",
   "name": "python3"
  },
  "language_info": {
   "codemirror_mode": {
    "name": "ipython",
    "version": 3
   },
   "file_extension": ".py",
   "mimetype": "text/x-python",
   "name": "python",
   "nbconvert_exporter": "python",
   "pygments_lexer": "ipython3",
   "version": "3.11.2"
  },
  "orig_nbformat": 4
 },
 "nbformat": 4,
 "nbformat_minor": 2
}

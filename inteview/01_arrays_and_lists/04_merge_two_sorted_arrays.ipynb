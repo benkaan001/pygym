{
 "cells": [
  {
   "cell_type": "markdown",
   "metadata": {},
   "source": [
    " **Merge Two Sorted Arrays**\n",
    "   - **Question:** Create a function to merge two sorted arrays/lists into a single sorted array/list.\n",
    "   - **Function Signature:**\n",
    "   ```python\n",
    "   def merge_sorted_arrays(arr1: List[int], arr2: List[int]) -> List[int]:\n",
    "   ```\n",
    "   - **Example:**\n",
    "   ```python\n",
    "   input_arr1 = [1, 3, 5]\n",
    "   input_arr2 = [2, 4, 6]\n",
    "   print(merge_sorted_arrays(input_arr1, input_arr2))\n",
    "   ```\n",
    "   - **Expected Output:**\n",
    "   ```\n",
    "   [1, 2, 3, 4, 5, 6]\n",
    "   ```"
   ]
  },
  {
   "cell_type": "code",
   "execution_count": 1,
   "metadata": {},
   "outputs": [],
   "source": [
    "from typing import List \n",
    "\n",
    "def merge_sorted_arrays(arr1: List[int], arr2: List[int]) -> List[int]:\n",
    "    pass \n",
    "\n",
    "input_arr1 = [1, 3, 5]\n",
    "input_arr2 = [2, 4, 6]\n",
    "merge_sorted_arrays(arr1=input_arr1, arr2=input_arr2)"
   ]
  },
  {
   "cell_type": "code",
   "execution_count": 2,
   "metadata": {},
   "outputs": [
    {
     "data": {
      "text/plain": [
       "[1, 2, 3, 4, 5, 6]"
      ]
     },
     "execution_count": 2,
     "metadata": {},
     "output_type": "execute_result"
    }
   ],
   "source": [
    "sorted(input_arr1 + input_arr2)"
   ]
  },
  {
   "cell_type": "code",
   "execution_count": 3,
   "metadata": {},
   "outputs": [
    {
     "data": {
      "text/plain": [
       "[1, 2, 3, 4, 5, 6]"
      ]
     },
     "execution_count": 3,
     "metadata": {},
     "output_type": "execute_result"
    }
   ],
   "source": [
    "def merge_sorted_arrays(arr1: List[int], arr2: List[int]) -> List[int]:\n",
    "    return sorted(input_arr1 + input_arr2)\n",
    "\n",
    "input_arr1 = [1, 3, 5]\n",
    "input_arr2 = [2, 4, 6]\n",
    "merge_sorted_arrays(arr1=input_arr1, arr2=input_arr2)"
   ]
  }
 ],
 "metadata": {
  "kernelspec": {
   "display_name": "Python 3",
   "language": "python",
   "name": "python3"
  },
  "language_info": {
   "codemirror_mode": {
    "name": "ipython",
    "version": 3
   },
   "file_extension": ".py",
   "mimetype": "text/x-python",
   "name": "python",
   "nbconvert_exporter": "python",
   "pygments_lexer": "ipython3",
   "version": "3.11.2"
  },
  "orig_nbformat": 4
 },
 "nbformat": 4,
 "nbformat_minor": 2
}

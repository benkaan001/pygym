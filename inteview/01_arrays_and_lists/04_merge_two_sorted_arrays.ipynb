{
 "cells": [
  {
   "cell_type": "markdown",
   "metadata": {},
   "source": [
    " **Merge Two Sorted Arrays**\n",
    "   - **Question:** Create a function to merge two sorted arrays/lists into a single sorted array/list.\n",
    "   - **Function Signature:**\n",
    "   ```python\n",
    "   def merge_sorted_arrays(arr1: List[int], arr2: List[int]) -> List[int]:\n",
    "   ```\n",
    "   - **Example:**\n",
    "   ```python\n",
    "   input_arr1 = [1, 3, 5]\n",
    "   input_arr2 = [2, 4, 6]\n",
    "   print(merge_sorted_arrays(input_arr1, input_arr2))\n",
    "   ```\n",
    "   - **Expected Output:**\n",
    "   ```\n",
    "   [1, 2, 3, 4, 5, 6]\n",
    "   ```"
   ]
  },
  {
   "cell_type": "code",
   "execution_count": null,
   "metadata": {},
   "outputs": [],
   "source": []
  }
 ],
 "metadata": {
  "language_info": {
   "name": "python"
  },
  "orig_nbformat": 4
 },
 "nbformat": 4,
 "nbformat_minor": 2
}

{
 "cells": [
  {
   "cell_type": "markdown",
   "metadata": {},
   "source": [
    "**Find Missing Number**\n",
    "   - **Question:** Given an array/list of integers from 1 to n with one missing number, write a function to find the missing number.\n",
    "   - **Function Signature:**\n",
    "   ```python\n",
    "   def find_missing_number(arr: List[int]) -> int:\n",
    "   ```\n",
    "   - **Example:**\n",
    "   ```python\n",
    "   input_arr = [1, 3, 4, 2, 6, 7, 8]\n",
    "   print(find_missing_number(input_arr))\n",
    "   ```\n",
    "   - **Expected Output:**\n",
    "   ```\n",
    "   5\n",
    "   ```"
   ]
  },
  {
   "cell_type": "code",
   "execution_count": null,
   "metadata": {},
   "outputs": [],
   "source": []
  }
 ],
 "metadata": {
  "language_info": {
   "name": "python"
  },
  "orig_nbformat": 4
 },
 "nbformat": 4,
 "nbformat_minor": 2
}

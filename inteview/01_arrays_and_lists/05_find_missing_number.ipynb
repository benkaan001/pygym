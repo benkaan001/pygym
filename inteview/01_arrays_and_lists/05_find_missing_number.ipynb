{
 "cells": [
  {
   "cell_type": "markdown",
   "metadata": {},
   "source": [
    "**Find Missing Number**\n",
    "\n",
    "- **Question:** Given an array/list of integers from 1 to n with one missing number, write a function to find the missing number.\n",
    "- **Function Signature:**\n",
    "\n",
    "```python\n",
    "def find_missing_number(arr: List[int]) -> int:\n",
    "```\n",
    "\n",
    "- **Example:**\n",
    "\n",
    "```python\n",
    "input_arr = [1, 3, 4, 2, 6, 7, 8]\n",
    "print(find_missing_number(input_arr))\n",
    "```\n",
    "\n",
    "- **Expected Output:**\n",
    "\n",
    "```\n",
    "5\n",
    "```\n"
   ]
  },
  {
   "cell_type": "code",
   "execution_count": 1,
   "metadata": {},
   "outputs": [],
   "source": [
    "from typing import List \n",
    "\n",
    "def find_missing_number(arr: List[int]) -> int:\n",
    "    pass \n",
    "\n",
    "input_arr = [1, 3, 4, 2, 6, 7, 8]\n",
    "find_missing_number(arr=input_arr)"
   ]
  },
  {
   "cell_type": "code",
   "execution_count": 2,
   "metadata": {},
   "outputs": [
    {
     "data": {
      "text/plain": [
       "5"
      ]
     },
     "execution_count": 2,
     "metadata": {},
     "output_type": "execute_result"
    }
   ],
   "source": [
    "missing_num = None \n",
    "\n",
    "for i in range(len(input_arr)):\n",
    "    if sorted(input_arr)[i] != i+1:\n",
    "        missing_num = i+1\n",
    "        break\n",
    "\n",
    "missing_num"
   ]
  },
  {
   "cell_type": "code",
   "execution_count": 3,
   "metadata": {},
   "outputs": [
    {
     "data": {
      "text/plain": [
       "5"
      ]
     },
     "execution_count": 3,
     "metadata": {},
     "output_type": "execute_result"
    }
   ],
   "source": [
    "def find_missing_number(arr: List[int]) -> int:\n",
    "    missing_num = None \n",
    "    \n",
    "    for i in range(len(arr)):\n",
    "        if sorted(arr)[i] != i + 1:\n",
    "            missing_num = i + 1\n",
    "            break\n",
    "    return missing_num\n",
    "\n",
    "input_arr = [1, 3, 4, 2, 6, 7, 8]\n",
    "find_missing_number(arr=input_arr)"
   ]
  },
  {
   "cell_type": "markdown",
   "metadata": {},
   "source": [
    "The code you provided is attempting to find a missing number in a list of integers. It appears that the code assumes the list contains consecutive numbers from 1 up to a certain point, and one number is missing. The code then sorts the list and checks if the sorted element at index `i` is equal to `i + 1`. If not, it means that `i + 1` is the missing number.\n",
    "\n",
    "While the code will work correctly and find the missing number, it's not the most efficient solution. Sorting the array has a time complexity of O(n log n), and then the loop to find the missing number has a time complexity of O(n), resulting in an overall time complexity of O(n log n).\n",
    "\n",
    "There is a more efficient approach with a time complexity of O(n) that utilizes the summation formula for consecutive integers and XOR operation.\n",
    "\n",
    "Here's how you can find the missing number using the summation formula:\n",
    "\n",
    "```python\n",
    "def find_missing_number(arr: List[int]) -> int:\n",
    "    n = len(arr) + 1  # Total number of elements including the missing one\n",
    "    total_sum = n * (n + 1) // 2  # Sum of all numbers from 1 to n (inclusive)\n",
    "\n",
    "    # Calculate the sum of elements in the array\n",
    "    array_sum = sum(arr)\n",
    "\n",
    "    # The missing number is the difference between the total sum and the array sum\n",
    "    missing_num = total_sum - array_sum\n",
    "\n",
    "    return missing_num\n",
    "```\n",
    "\n",
    "\n",
    "This method has a time complexity of O(n) and does not require sorting the array, making it more efficient than the original code."
   ]
  },
  {
   "cell_type": "code",
   "execution_count": 4,
   "metadata": {},
   "outputs": [
    {
     "data": {
      "text/plain": [
       "8"
      ]
     },
     "execution_count": 4,
     "metadata": {},
     "output_type": "execute_result"
    }
   ],
   "source": [
    "input_arr = [1, 3, 4, 2, 6, 7, 8]\n",
    "n = len(input_arr) + 1\n",
    "n"
   ]
  },
  {
   "cell_type": "code",
   "execution_count": 5,
   "metadata": {},
   "outputs": [
    {
     "data": {
      "text/plain": [
       "31"
      ]
     },
     "execution_count": 5,
     "metadata": {},
     "output_type": "execute_result"
    }
   ],
   "source": [
    "array_sum = sum(input_arr)\n",
    "array_sum"
   ]
  },
  {
   "cell_type": "markdown",
   "metadata": {},
   "source": [
    "Let's consider the input array `[1, 3, 4, 2, 6, 7, 8]`. The length of this array is 7, so `n` will be 8 (since len(arr) + 1 = 7 + 1 = 8). The expected consecutive integers from 1 to 8 are: `[1, 2, 3, 4, 5, 6, 7, 8]`.\n",
    "\n",
    "To find the sum of consecutive integers from 1 to `n`, we can use a well-known formula:\n",
    "\n",
    "`total_sum = n * (n + 1) // 2`\n",
    "\n",
    "Here, `//` represents integer division (floor division), which ensures that the result is an integer.\n",
    "\n",
    "Let's calculate the total sum for our example:\n",
    "\n",
    "`total_sum = 8 * (8 + 1) // 2 = 8 * 9 // 2 = 72 // 2 = 36`\n",
    "\n",
    "The total sum is 36."
   ]
  },
  {
   "cell_type": "code",
   "execution_count": 6,
   "metadata": {},
   "outputs": [
    {
     "data": {
      "text/plain": [
       "36"
      ]
     },
     "execution_count": 6,
     "metadata": {},
     "output_type": "execute_result"
    }
   ],
   "source": [
    "total_sum = n * (n+1) // 2\n",
    "total_sum"
   ]
  },
  {
   "cell_type": "code",
   "execution_count": 7,
   "metadata": {},
   "outputs": [
    {
     "data": {
      "text/plain": [
       "5"
      ]
     },
     "execution_count": 7,
     "metadata": {},
     "output_type": "execute_result"
    }
   ],
   "source": [
    "total_sum - array_sum"
   ]
  },
  {
   "cell_type": "code",
   "execution_count": 8,
   "metadata": {},
   "outputs": [
    {
     "data": {
      "text/plain": [
       "5"
      ]
     },
     "execution_count": 8,
     "metadata": {},
     "output_type": "execute_result"
    }
   ],
   "source": [
    "def find_missing_number(arr: List[int]) -> int:\n",
    "    n = len(arr) + 1  # Total number of elements including the missing one\n",
    "    total_sum = n * (n + 1) // 2  # Sum of all numbers from 1 to n (inclusive)\n",
    "\n",
    "    # Calculate the sum of elements in the array\n",
    "    array_sum = sum(arr)\n",
    "\n",
    "    # The missing number is the difference between the total sum and the array sum\n",
    "    missing_num = total_sum - array_sum\n",
    "\n",
    "    return missing_num\n",
    "\n",
    "input_arr = [1, 3, 4, 2, 6, 7, 8]\n",
    "find_missing_number(arr=input_arr)"
   ]
  }
 ],
 "metadata": {
  "kernelspec": {
   "display_name": "Python 3",
   "language": "python",
   "name": "python3"
  },
  "language_info": {
   "codemirror_mode": {
    "name": "ipython",
    "version": 3
   },
   "file_extension": ".py",
   "mimetype": "text/x-python",
   "name": "python",
   "nbconvert_exporter": "python",
   "pygments_lexer": "ipython3",
   "version": "3.11.2"
  },
  "orig_nbformat": 4
 },
 "nbformat": 4,
 "nbformat_minor": 2
}

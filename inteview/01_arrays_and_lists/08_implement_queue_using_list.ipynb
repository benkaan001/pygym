{
 "cells": [
  {
   "cell_type": "markdown",
   "metadata": {},
   "source": [
    "**Implement Queue using List**\n",
    "   - **Question:** Create a queue data structure using a list and implement enqueue, dequeue, and peek operations.\n",
    "   - **Function Signature for Queue:**\n",
    "   ```python\n",
    "   class Queue:\n",
    "       def __init__(self):\n",
    "           pass\n",
    "\n",
    "       def enqueue(self, value: int) -> None:\n",
    "           pass\n",
    "\n",
    "       def dequeue(self) -> int:\n",
    "           pass\n",
    "\n",
    "       def peek(self) -> int:\n",
    "           pass\n",
    "   ```"
   ]
  },
  {
   "cell_type": "code",
   "execution_count": null,
   "metadata": {},
   "outputs": [],
   "source": []
  }
 ],
 "metadata": {
  "language_info": {
   "name": "python"
  },
  "orig_nbformat": 4
 },
 "nbformat": 4,
 "nbformat_minor": 2
}

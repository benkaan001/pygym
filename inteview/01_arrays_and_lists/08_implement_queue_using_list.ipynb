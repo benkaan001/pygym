{
 "cells": [
  {
   "cell_type": "markdown",
   "metadata": {},
   "source": [
    "**Implement Queue using List**\n",
    "   - **Question:** Create a queue data structure using a list and implement enqueue, dequeue, and peek operations.\n",
    "   - **Function Signature for Queue:**\n",
    "   ```python\n",
    "   class Queue:\n",
    "       def __init__(self):\n",
    "           pass\n",
    "\n",
    "       def enqueue(self, value: int) -> None:\n",
    "           pass\n",
    "\n",
    "       def dequeue(self) -> int:\n",
    "           pass\n",
    "\n",
    "       def peek(self) -> int:\n",
    "           pass\n",
    "   ```"
   ]
  },
  {
   "cell_type": "code",
   "execution_count": 1,
   "metadata": {},
   "outputs": [],
   "source": [
    "class Queue:\n",
    "    def __init__(self):\n",
    "        pass\n",
    "\n",
    "    def enqueue(self, value: int) -> None:\n",
    "        pass\n",
    "\n",
    "    def dequeue(self) -> int:\n",
    "        pass\n",
    "\n",
    "    def peek(self) -> int:\n",
    "        pass"
   ]
  },
  {
   "cell_type": "markdown",
   "metadata": {},
   "source": [
    "# Fist In First Out"
   ]
  },
  {
   "cell_type": "code",
   "execution_count": 2,
   "metadata": {},
   "outputs": [],
   "source": [
    "class Queue:\n",
    "    def __init__(self):\n",
    "        self.items = []\n",
    "    \n",
    "    def is_empty(self):\n",
    "        return len(self.items) == 0\n",
    "\n",
    "    def enqueue(self, value: int) -> None:\n",
    "        self.items.append(value)\n",
    "\n",
    "    def dequeue(self) -> int:\n",
    "        if not self.is_empty():\n",
    "            return self.items.remove()\n",
    "\n",
    "    def peek(self) -> int:\n",
    "        if not self.is_empty():\n",
    "            return self.items[-1]"
   ]
  },
  {
   "cell_type": "code",
   "execution_count": 3,
   "metadata": {},
   "outputs": [
    {
     "name": "stdout",
     "output_type": "stream",
     "text": [
      "hi\n"
     ]
    }
   ],
   "source": [
    "queue = Queue()\n",
    "queue.enqueue(100)\n",
    "queue.enqueue(200)\n",
    "queue.enqueue(print('hi'))\n",
    "queue.peek()"
   ]
  },
  {
   "cell_type": "markdown",
   "metadata": {},
   "source": [
    "A queue is another fundamental data structure that follows the First In, First Out (FIFO) principle. In a queue, the first element added will be the first one to be removed, just like people standing in a line or waiting in a queue; the person who arrived first gets served first.\n",
    "\n",
    "The main operations that can be performed on a queue are:\n",
    "\n",
    "1. Enqueue (or Push): This operation is used to add an element to the back (end) of the queue. When you enqueue an element, it becomes the last element in the queue.\n",
    "\n",
    "2. Dequeue (or Pop): This operation is used to remove the front (first) element from the queue. When you dequeue an element, the element behind it (if any) becomes the new front element.\n",
    "\n",
    "Other important features of a queue include:\n",
    "\n",
    "3. Front: This operation allows you to access the front (first) element of the queue without removing it. You can view the front element without affecting the queue's structure.\n",
    "\n",
    "4. IsEmpty: This operation checks if the queue is empty. If the queue has no elements, it returns true, indicating there's nothing in the queue.\n",
    "\n",
    "Queues have numerous practical applications in computer science, such as:\n",
    "\n",
    "- Task scheduling: In operating systems, queues are used to manage processes and schedule tasks for execution.\n",
    "\n",
    "- Print spooling: Printers often use queues to manage print jobs in the order they are received.\n",
    "\n",
    "- Breadth-First Search (BFS) algorithm: BFS traversal of a graph involves using a queue to process nodes layer by layer.\n",
    "\n",
    "- Implementing caches: Queues are useful in implementing various cache eviction policies like Least Recently Used (LRU).\n",
    "\n",
    "In Python, you can use a list or collections.deque to implement a basic queue. The collections.deque class provides efficient methods for enqueuing and dequeuing from both ends.\n",
    "\n",
    "Here's a simple example of a queue implementation using collections.deque in Python:\n",
    "\n",
    "```python\n",
    "from collections import deque\n",
    "\n",
    "class Queue:\n",
    "    def __init__(self):\n",
    "        self.items = deque()\n",
    "\n",
    "    def enqueue(self, item):\n",
    "        self.items.append(item)\n",
    "\n",
    "    def dequeue(self):\n",
    "        if not self.is_empty():\n",
    "            return self.items.popleft()\n",
    "\n",
    "    def front(self):\n",
    "        if not self.is_empty():\n",
    "            return self.items[0]\n",
    "\n",
    "    def is_empty(self):\n",
    "        return len(self.items) == 0\n",
    "\n",
    "    def size(self):\n",
    "        return len(self.items)\n",
    "\n",
    "# Example usage:\n",
    "queue = Queue()\n",
    "queue.enqueue(1)\n",
    "queue.enqueue(2)\n",
    "queue.enqueue(3)\n",
    "\n",
    "print(queue.front())  # Output: 1\n",
    "print(queue.dequeue())  # Output: 1\n",
    "print(queue.dequeue())  # Output: 2\n",
    "print(queue.is_empty())  # Output: False\n",
    "print(queue.size())  # Output: 1\n",
    "```\n",
    "\n",
    "Similarly to the stack, when using a list or deque as a queue, avoid using other list operations like insert or delete to preserve the FIFO behavior of the queue. For more complex use cases or specific requirements, you can implement a queue using a linked list or other data structures."
   ]
  }
 ],
 "metadata": {
  "kernelspec": {
   "display_name": "Python 3",
   "language": "python",
   "name": "python3"
  },
  "language_info": {
   "codemirror_mode": {
    "name": "ipython",
    "version": 3
   },
   "file_extension": ".py",
   "mimetype": "text/x-python",
   "name": "python",
   "nbconvert_exporter": "python",
   "pygments_lexer": "ipython3",
   "version": "3.11.2"
  },
  "orig_nbformat": 4
 },
 "nbformat": 4,
 "nbformat_minor": 2
}

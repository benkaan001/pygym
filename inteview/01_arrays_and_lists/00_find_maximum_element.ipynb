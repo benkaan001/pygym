{
 "cells": [
  {
   "cell_type": "markdown",
   "metadata": {},
   "source": [
    "**Find Maximum Element**\n",
    "   - **Question:** Write a function to find the maximum element in an array/list.\n",
    "   - **Function Signature:**\n",
    "   ```python\n",
    "   def find_maximum(arr: List[int]) -> int:\n",
    "   ```\n",
    "   - **Example:**\n",
    "   ```python\n",
    "   input_arr = [3, 7, 1, 9, 4]\n",
    "   print(find_maximum(input_arr))\n",
    "   ```\n",
    "   - **Expected Output:**\n",
    "   ```\n",
    "   9\n",
    "   ```"
   ]
  },
  {
   "cell_type": "code",
   "execution_count": null,
   "metadata": {},
   "outputs": [],
   "source": []
  }
 ],
 "metadata": {
  "language_info": {
   "name": "python"
  },
  "orig_nbformat": 4
 },
 "nbformat": 4,
 "nbformat_minor": 2
}

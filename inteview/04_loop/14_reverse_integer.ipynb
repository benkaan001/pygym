{
 "cells": [
  {
   "cell_type": "markdown",
   "metadata": {},
   "source": [
    "**Exercise 14: Reverse a given integer number**\n",
    "\n",
    "Function:\n",
    "```python\n",
    "def reverse_number(number: int) -> None: \n",
    "    pass\n",
    "```\n",
    "\n",
    "Sample Input:\n",
    "```python\n",
    "reverse_number(12345)\n",
    "```\n",
    "\n",
    "Expected Output:\n",
    "```\n",
    "Reversed number: 54321\n",
    "```"
   ]
  },
  {
   "cell_type": "code",
   "execution_count": 1,
   "metadata": {},
   "outputs": [
    {
     "name": "stdout",
     "output_type": "stream",
     "text": [
      "Reversed number: 54321\n"
     ]
    }
   ],
   "source": [
    "def reverse_number(number: int) -> None:\n",
    "    reversed_num = \"\"\n",
    "    for num in str(number)[::-1]:\n",
    "        reversed_num += num\n",
    "    print(f\"Reversed number: {reversed_num}\")\n",
    "        \n",
    "reverse_number(12345)"
   ]
  },
  {
   "cell_type": "code",
   "execution_count": 2,
   "metadata": {},
   "outputs": [
    {
     "name": "stdout",
     "output_type": "stream",
     "text": [
      "Reversed number: 54321\n"
     ]
    }
   ],
   "source": [
    "def reverse_number(number: int) -> None:\n",
    "    number = str(number)[::-1]\n",
    "    print(f\"Reversed number: {int(number)}\")\n",
    "\n",
    "reverse_number(12345)"
   ]
  },
  {
   "cell_type": "code",
   "execution_count": 3,
   "metadata": {},
   "outputs": [
    {
     "name": "stdout",
     "output_type": "stream",
     "text": [
      "Reversed number: 54321\n"
     ]
    }
   ],
   "source": [
    "def reverse_number(number: int) -> None:\n",
    "    output = \"\".join(num for num in str(number)[::-1])\n",
    "    print(f\"Reversed number: {output}\")\n",
    "        \n",
    "reverse_number(12345)"
   ]
  }
 ],
 "metadata": {
  "kernelspec": {
   "display_name": "Python 3",
   "language": "python",
   "name": "python3"
  },
  "language_info": {
   "codemirror_mode": {
    "name": "ipython",
    "version": 3
   },
   "file_extension": ".py",
   "mimetype": "text/x-python",
   "name": "python",
   "nbconvert_exporter": "python",
   "pygments_lexer": "ipython3",
   "version": "3.11.2"
  },
  "orig_nbformat": 4
 },
 "nbformat": 4,
 "nbformat_minor": 2
}

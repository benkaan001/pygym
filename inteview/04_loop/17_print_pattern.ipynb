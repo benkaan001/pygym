{
 "cells": [
  {
   "cell_type": "markdown",
   "metadata": {},
   "source": [
    "**Exercise 17: Print the following pattern**\n",
    "\n",
    "Function:\n",
    "```python\n",
    "def print_pattern(rows: int) -> None:\n",
    "    pass\n",
    "```\n",
    "\n",
    "Sample Input:\n",
    "```python\n",
    "print_pattern(5)\n",
    "```\n",
    "\n",
    "Expected Output:\n",
    "```\n",
    "    1\n",
    "   22\n",
    "  333\n",
    " 4444\n",
    "55555\n",
    "```"
   ]
  },
  {
   "cell_type": "code",
   "execution_count": 1,
   "metadata": {},
   "outputs": [
    {
     "name": "stdout",
     "output_type": "stream",
     "text": [
      "1\n",
      "22\n",
      "333\n",
      "4444\n",
      "55555\n"
     ]
    }
   ],
   "source": [
    "def print_pattern(rows: int) -> None:\n",
    "    for i in range(1, rows + 1):\n",
    "        print(str(i) * i)\n",
    "\n",
    "print_pattern(5)"
   ]
  },
  {
   "cell_type": "code",
   "execution_count": 2,
   "metadata": {},
   "outputs": [
    {
     "name": "stdout",
     "output_type": "stream",
     "text": [
      "    1\n",
      "   22\n",
      "  333\n",
      " 4444\n",
      "55555\n"
     ]
    }
   ],
   "source": [
    "def print_pattern(rows: int) -> None:\n",
    "    for i in range(1, rows + 1):\n",
    "        # Print spaces before the numbers\n",
    "        for j in range(rows - i):\n",
    "            print(\" \", end=\"\")\n",
    "        \n",
    "        # Print numbers in increasing order\n",
    "        for k in range(i):\n",
    "            print(i, end=\"\")\n",
    "        \n",
    "        # Move to the next line \n",
    "        print()\n",
    "\n",
    "print_pattern(5)"
   ]
  }
 ],
 "metadata": {
  "kernelspec": {
   "display_name": "Python 3",
   "language": "python",
   "name": "python3"
  },
  "language_info": {
   "codemirror_mode": {
    "name": "ipython",
    "version": 3
   },
   "file_extension": ".py",
   "mimetype": "text/x-python",
   "name": "python",
   "nbconvert_exporter": "python",
   "pygments_lexer": "ipython3",
   "version": "3.11.2"
  },
  "orig_nbformat": 4
 },
 "nbformat": 4,
 "nbformat_minor": 2
}

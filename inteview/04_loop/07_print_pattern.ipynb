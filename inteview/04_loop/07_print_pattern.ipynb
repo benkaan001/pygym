{
 "cells": [
  {
   "cell_type": "markdown",
   "metadata": {},
   "source": [
    "**Exercise 7: Print the following pattern**\n",
    "\n",
    "Function:\n",
    "```python\n",
    "def print_pattern(rows: int) -> None:\n",
    "    pass\n",
    "```\n",
    "\n",
    "Sample Input:\n",
    "```python\n",
    "print_pattern(4)\n",
    "```\n",
    "\n",
    "Expected Output:\n",
    "```\n",
    "1\n",
    "12\n",
    "123\n",
    "1234\n",
    "```"
   ]
  },
  {
   "cell_type": "code",
   "execution_count": 1,
   "metadata": {},
   "outputs": [],
   "source": [
    "def print_pattern(rows: int) -> None:\n",
    "    pass \n",
    "\n",
    "print_pattern(4)"
   ]
  },
  {
   "cell_type": "code",
   "execution_count": 2,
   "metadata": {},
   "outputs": [
    {
     "name": "stdout",
     "output_type": "stream",
     "text": [
      "1\n",
      "12\n",
      "123\n",
      "1234\n"
     ]
    }
   ],
   "source": [
    "def print_pattern(rows: int) -> None:\n",
    "    for i in range(1, rows+1):\n",
    "        for j in range(1, i + 1):\n",
    "            print(j, end=\"\")\n",
    "        print()\n",
    "\n",
    "print_pattern(4)"
   ]
  }
 ],
 "metadata": {
  "kernelspec": {
   "display_name": "Python 3",
   "language": "python",
   "name": "python3"
  },
  "language_info": {
   "codemirror_mode": {
    "name": "ipython",
    "version": 3
   },
   "file_extension": ".py",
   "mimetype": "text/x-python",
   "name": "python",
   "nbconvert_exporter": "python",
   "pygments_lexer": "ipython3",
   "version": "3.11.2"
  },
  "orig_nbformat": 4
 },
 "nbformat": 4,
 "nbformat_minor": 2
}

{
 "cells": [
  {
   "cell_type": "markdown",
   "metadata": {},
   "source": [
    "**Exercise 11: Write a program to display all prime numbers within a range**\n",
    "\n",
    "Function:\n",
    "```python\n",
    "def display_primes(start: int, end: int) -> None:\n",
    "    pass\n",
    "```\n",
    "\n",
    "Sample Input:\n",
    "```python\n",
    "display_primes(10, 50)\n",
    "```\n",
    "\n",
    "Expected Output:\n",
    "```\n",
    "Prime numbers between 10 and 50:\n",
    "11 13 17 19 23 29 31 37 41 43 47\n",
    "```"
   ]
  },
  {
   "cell_type": "code",
   "execution_count": 1,
   "metadata": {},
   "outputs": [],
   "source": [
    "def display_primes(start: int, end: int) -> None:\n",
    "    pass\n",
    "\n",
    "display_primes(start=10, end=50)"
   ]
  },
  {
   "cell_type": "code",
   "execution_count": 2,
   "metadata": {},
   "outputs": [
    {
     "name": "stdout",
     "output_type": "stream",
     "text": [
      "√2 = 1.4142135623730951\n",
      "√3 = 1.7320508075688772\n",
      "√4 = 2.0\n",
      "√5 = 2.23606797749979\n",
      "√6 = 2.449489742783178\n",
      "√7 = 2.6457513110645907\n",
      "√8 = 2.8284271247461903\n",
      "√9 = 3.0\n"
     ]
    }
   ],
   "source": [
    "for i in range(2, 10):\n",
    "    print(f\"√{i} = {i ** 0.5}\")"
   ]
  },
  {
   "cell_type": "code",
   "execution_count": 3,
   "metadata": {},
   "outputs": [
    {
     "name": "stdout",
     "output_type": "stream",
     "text": [
      "Prime numbers between 10 and 50: \n",
      "11 13 17 19 23 29 31 37 41 43 47 "
     ]
    }
   ],
   "source": [
    "def display_primes(start: int, end: int) -> None:\n",
    "    \n",
    "    def is_prime(num: int) -> bool:\n",
    "        if num <= 1:\n",
    "            return False\n",
    "    \n",
    "        for i in range(2, int(num ** 0.5) + 1):\n",
    "            if num % i == 0:\n",
    "                return False\n",
    "        return True \n",
    "    \n",
    "    print(f\"Prime numbers between {start} and {end}: \")\n",
    "    for i in range(start, end + 1):\n",
    "        if is_prime(i):\n",
    "            print(i, end=\" \")\n",
    "\n",
    "display_primes(start=10, end=50)"
   ]
  }
 ],
 "metadata": {
  "kernelspec": {
   "display_name": "Python 3",
   "language": "python",
   "name": "python3"
  },
  "language_info": {
   "codemirror_mode": {
    "name": "ipython",
    "version": 3
   },
   "file_extension": ".py",
   "mimetype": "text/x-python",
   "name": "python",
   "nbconvert_exporter": "python",
   "pygments_lexer": "ipython3",
   "version": "3.11.2"
  },
  "orig_nbformat": 4
 },
 "nbformat": 4,
 "nbformat_minor": 2
}

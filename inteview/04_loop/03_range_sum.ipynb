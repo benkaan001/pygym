{
 "cells": [
  {
   "cell_type": "markdown",
   "metadata": {},
   "source": [
    "**Exercise 3: Calculate the sum of all numbers from 1 to a given number**\n",
    "\n",
    "Function:\n",
    "```python\n",
    "def calculate_sum(n: int) -> int:\n",
    "    pass\n",
    "```\n",
    "\n",
    "Sample Input:\n",
    "```python\n",
    "calculate_sum(5)\n",
    "```\n",
    "\n",
    "Expected Output:\n",
    "```\n",
    "Sum: 15\n",
    "```"
   ]
  },
  {
   "cell_type": "code",
   "execution_count": 1,
   "metadata": {},
   "outputs": [],
   "source": [
    "def calculate_sum(n: int) -> int:\n",
    "    pass\n",
    "\n",
    "calculate_sum(5)"
   ]
  },
  {
   "cell_type": "code",
   "execution_count": 2,
   "metadata": {},
   "outputs": [
    {
     "data": {
      "text/plain": [
       "15"
      ]
     },
     "execution_count": 2,
     "metadata": {},
     "output_type": "execute_result"
    }
   ],
   "source": [
    "def calculate_sum(n: int) -> int:\n",
    "    total = 0\n",
    "    for i in range(n+1):\n",
    "        total += i \n",
    "    return total \n",
    "    \n",
    "calculate_sum(5)"
   ]
  },
  {
   "cell_type": "markdown",
   "metadata": {},
   "source": [
    "## Using comprehension"
   ]
  },
  {
   "cell_type": "code",
   "execution_count": 3,
   "metadata": {},
   "outputs": [
    {
     "data": {
      "text/plain": [
       "15"
      ]
     },
     "execution_count": 3,
     "metadata": {},
     "output_type": "execute_result"
    }
   ],
   "source": [
    "def calculate_sum(n: int) -> int:\n",
    "    return sum(range(n+1)) # using a range object\n",
    "\n",
    "calculate_sum(5)"
   ]
  },
  {
   "cell_type": "code",
   "execution_count": 4,
   "metadata": {},
   "outputs": [
    {
     "data": {
      "text/plain": [
       "range(1, 101, 10)"
      ]
     },
     "execution_count": 4,
     "metadata": {},
     "output_type": "execute_result"
    }
   ],
   "source": [
    "range(1, 101, 10)"
   ]
  },
  {
   "cell_type": "code",
   "execution_count": 5,
   "metadata": {},
   "outputs": [
    {
     "name": "stdout",
     "output_type": "stream",
     "text": [
      "0\n",
      "10\n",
      "20\n",
      "30\n",
      "40\n",
      "50\n",
      "60\n",
      "70\n",
      "80\n",
      "90\n",
      "100\n"
     ]
    }
   ],
   "source": [
    "for i in range(0, 101, 10):\n",
    "    print(i)"
   ]
  },
  {
   "cell_type": "code",
   "execution_count": 6,
   "metadata": {},
   "outputs": [
    {
     "data": {
      "text/plain": [
       "550"
      ]
     },
     "execution_count": 6,
     "metadata": {},
     "output_type": "execute_result"
    }
   ],
   "source": [
    "sum(range(0, 101, 10))"
   ]
  },
  {
   "cell_type": "code",
   "execution_count": 7,
   "metadata": {},
   "outputs": [
    {
     "data": {
      "text/plain": [
       "15"
      ]
     },
     "execution_count": 7,
     "metadata": {},
     "output_type": "execute_result"
    }
   ],
   "source": [
    "def calculate_sum(n: int) -> int:\n",
    "    return sum(i for i in range(n+1)) # generator expressions\n",
    "\n",
    "calculate_sum(5)"
   ]
  },
  {
   "cell_type": "code",
   "execution_count": 8,
   "metadata": {},
   "outputs": [
    {
     "data": {
      "text/plain": [
       "15"
      ]
     },
     "execution_count": 8,
     "metadata": {},
     "output_type": "execute_result"
    }
   ],
   "source": [
    "def calculate_sum(n: int) -> int:\n",
    "    return sum(list(i for i in range(n+1))) # built-in mutable sequence\n",
    "\n",
    "calculate_sum(5)"
   ]
  },
  {
   "cell_type": "code",
   "execution_count": 9,
   "metadata": {},
   "outputs": [
    {
     "data": {
      "text/plain": [
       "15"
      ]
     },
     "execution_count": 9,
     "metadata": {},
     "output_type": "execute_result"
    }
   ],
   "source": [
    "def calculate_sum(n: int) -> int:\n",
    "    return sum(tuple(i for i in range(n+1))) # built-in inmutable sequence\n",
    "\n",
    "calculate_sum(5)"
   ]
  },
  {
   "cell_type": "code",
   "execution_count": 10,
   "metadata": {},
   "outputs": [
    {
     "data": {
      "text/plain": [
       "15"
      ]
     },
     "execution_count": 10,
     "metadata": {},
     "output_type": "execute_result"
    }
   ],
   "source": [
    "def calculate_sum(n: int) -> int:\n",
    "    return sum(set(i for i in range(n+1)))\n",
    "\n",
    "calculate_sum(5)"
   ]
  },
  {
   "cell_type": "markdown",
   "metadata": {},
   "source": [
    "The `sum()` function is used to calculate the sum of elements in an iterable (such as a list, tuple, or set). It takes an iterable as its first argument and an optional start value as its second argument. The `sum()` function is versatile and can work with different types of data as long as the elements in the iterable are numeric (integers, floats) and the optional start value is of a compatible type.\n",
    "\n",
    "Here are some examples of data types that can be passed into the `sum()` function:\n",
    "\n",
    "1. **List of Integers or Floats:**\n",
    "   ```python\n",
    "   numbers = [1, 2, 3, 4, 5]\n",
    "   result = sum(numbers)  # Calculates 1 + 2 + 3 + 4 + 5\n",
    "   ```\n",
    "\n",
    "2. **Tuple of Integers or Floats:**\n",
    "   ```python\n",
    "   numbers_tuple = (10, 20, 30)\n",
    "   result = sum(numbers_tuple)  # Calculates 10 + 20 + 30\n",
    "   ```\n",
    "\n",
    "3. **Set of Integers or Floats:**\n",
    "   ```python\n",
    "   numbers_set = {5, 10, 15}\n",
    "   result = sum(numbers_set)  # Calculates 5 + 10 + 15\n",
    "   ```\n",
    "\n",
    "4. **Generator Expression:**\n",
    "   ```python\n",
    "   gen_expression = (x * x for x in range(1, 6))\n",
    "   result = sum(gen_expression)  # Calculates 1^2 + 2^2 + 3^2 + 4^2 + 5^2\n",
    "   ```\n",
    "\n",
    "5. **List Comprehension:**\n",
    "   ```python\n",
    "   list_comprehension = [x * 2 for x in range(1, 6)]\n",
    "   result = sum(list_comprehension)  # Calculates 2 + 4 + 6 + 8 + 10\n",
    "   ```\n",
    "\n",
    "It's important to note that the elements in the iterable you pass to `sum()` should be numeric. If you try to pass a non-numeric element, you'll encounter a `TypeError`.\n",
    "\n",
    "Additionally, you can provide an optional start value as the second argument to the `sum()` function if you want to start the summation from a specific value. The start value should be of a compatible numeric type.\n",
    "\n",
    "Here's an example with a start value:\n",
    "\n",
    "```python\n",
    "numbers = [1, 2, 3, 4, 5]\n",
    "start_value = 10\n",
    "result = sum(numbers, start_value)  # Calculates 10 + 1 + 2 + 3 + 4 + 5\n",
    "```\n",
    "\n",
    "In summary, the `sum()` function works with numeric data types in iterable objects and can be customized with a start value if needed."
   ]
  }
 ],
 "metadata": {
  "kernelspec": {
   "display_name": "Python 3",
   "language": "python",
   "name": "python3"
  },
  "language_info": {
   "codemirror_mode": {
    "name": "ipython",
    "version": 3
   },
   "file_extension": ".py",
   "mimetype": "text/x-python",
   "name": "python",
   "nbconvert_exporter": "python",
   "pygments_lexer": "ipython3",
   "version": "3.11.2"
  },
  "orig_nbformat": 4
 },
 "nbformat": 4,
 "nbformat_minor": 2
}

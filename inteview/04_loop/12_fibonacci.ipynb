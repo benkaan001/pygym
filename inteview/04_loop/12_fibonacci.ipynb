{
 "cells": [
  {
   "cell_type": "markdown",
   "metadata": {},
   "source": [
    "**Exercise 12: Display Fibonacci series up to 10 terms**\n",
    "\n",
    "Function:\n",
    "```python\n",
    "def fibonacci_series(n: int) -> None:\n",
    "    pass\n",
    "```\n",
    "\n",
    "Sample Input:\n",
    "```python\n",
    "fibonacci_series(10)\n",
    "```\n",
    "\n",
    "Expected Output:\n",
    "```\n",
    "Fibonacci series up to 10 terms:\n",
    "0 1 1 2 3 5 8 13 21 34\n",
    "```"
   ]
  },
  {
   "cell_type": "code",
   "execution_count": 1,
   "metadata": {},
   "outputs": [],
   "source": [
    "def fibonacci_series(n: int) -> None:\n",
    "    pass\n",
    "\n",
    "fibonacci_series(10)"
   ]
  },
  {
   "cell_type": "code",
   "execution_count": 9,
   "metadata": {},
   "outputs": [
    {
     "name": "stdout",
     "output_type": "stream",
     "text": [
      "0 1 1 2 3 5 8 13 21 34 "
     ]
    }
   ],
   "source": [
    "def fibonacci_series(n: int) -> None:\n",
    "  fib = [0, 1] \n",
    "  \n",
    "  for i in range(2, n):\n",
    "      next_fib = fib[i - 1] + fib[i - 2]\n",
    "      fib.append(next_fib)\n",
    "    \n",
    "  for num in fib:\n",
    "      print(num, end=\" \")\n",
    "      \n",
    "\n",
    "fibonacci_series(10)"
   ]
  }
 ],
 "metadata": {
  "kernelspec": {
   "display_name": "Python 3",
   "language": "python",
   "name": "python3"
  },
  "language_info": {
   "codemirror_mode": {
    "name": "ipython",
    "version": 3
   },
   "file_extension": ".py",
   "mimetype": "text/x-python",
   "name": "python",
   "nbconvert_exporter": "python",
   "pygments_lexer": "ipython3",
   "version": "3.11.2"
  },
  "orig_nbformat": 4
 },
 "nbformat": 4,
 "nbformat_minor": 2
}

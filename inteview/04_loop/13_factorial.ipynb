{
 "cells": [
  {
   "cell_type": "markdown",
   "metadata": {},
   "source": [
    "**Exercise 13: Find the factorial of a given number**\n",
    "\n",
    "Function:\n",
    "```python\n",
    "def factorial(n: int) -> int:\n",
    "    pass\n",
    "```\n",
    "\n",
    "Sample Input:\n",
    "```python\n",
    "factorial(5)\n",
    "```\n",
    "\n",
    "Expected Output:\n",
    "```\n",
    "Factorial: 120\n",
    "```"
   ]
  },
  {
   "cell_type": "code",
   "execution_count": 1,
   "metadata": {},
   "outputs": [
    {
     "name": "stdout",
     "output_type": "stream",
     "text": [
      "Factorial: 120\n"
     ]
    }
   ],
   "source": [
    "def factorial(n: int) -> None:\n",
    "    num = 1\n",
    "    for i in range(1, n + 1):\n",
    "        num *= i \n",
    "    \n",
    "    print(f\"Factorial: {num}\")\n",
    "        \n",
    "\n",
    "factorial(5)"
   ]
  }
 ],
 "metadata": {
  "kernelspec": {
   "display_name": "Python 3",
   "language": "python",
   "name": "python3"
  },
  "language_info": {
   "codemirror_mode": {
    "name": "ipython",
    "version": 3
   },
   "file_extension": ".py",
   "mimetype": "text/x-python",
   "name": "python",
   "nbconvert_exporter": "python",
   "pygments_lexer": "ipython3",
   "version": "3.11.2"
  },
  "orig_nbformat": 4
 },
 "nbformat": 4,
 "nbformat_minor": 2
}

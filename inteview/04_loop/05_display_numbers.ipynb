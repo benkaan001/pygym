{
 "cells": [
  {
   "cell_type": "markdown",
   "metadata": {},
   "source": [
    "**Exercise 5: Display numbers from a list using loop**\n",
    "\n",
    "Function:\n",
    "```python\n",
    "def display_numbers(numbers: List[int]) -> None:\n",
    "    pass\n",
    "```\n",
    "\n",
    "Sample Input:\n",
    "```python\n",
    "display_numbers([1, 2, 3, 4, 5])\n",
    "```\n",
    "\n",
    "Expected Output:\n",
    "```\n",
    "1\n",
    "2\n",
    "3\n",
    "4\n",
    "5\n",
    "```"
   ]
  },
  {
   "cell_type": "code",
   "execution_count": 1,
   "metadata": {},
   "outputs": [],
   "source": [
    "from typing import List \n",
    "\n",
    "def display_numbers(numbers: List[int]) -> None:\n",
    "    pass \n",
    "\n",
    "nums = [1, 2, 3, 4, 5]\n",
    "display_numbers(numbers=nums)"
   ]
  },
  {
   "cell_type": "code",
   "execution_count": 2,
   "metadata": {},
   "outputs": [
    {
     "name": "stdout",
     "output_type": "stream",
     "text": [
      "1\n",
      "2\n",
      "3\n",
      "4\n",
      "5\n"
     ]
    }
   ],
   "source": [
    "def display_numbers(numbers: List[int]) -> None:\n",
    "    for num in numbers:\n",
    "        print(num)\n",
    "\n",
    "nums = [1, 2, 3, 4, 5]\n",
    "display_numbers(numbers=nums)"
   ]
  }
 ],
 "metadata": {
  "kernelspec": {
   "display_name": "Python 3",
   "language": "python",
   "name": "python3"
  },
  "language_info": {
   "codemirror_mode": {
    "name": "ipython",
    "version": 3
   },
   "file_extension": ".py",
   "mimetype": "text/x-python",
   "name": "python",
   "nbconvert_exporter": "python",
   "pygments_lexer": "ipython3",
   "version": "3.11.2"
  },
  "orig_nbformat": 4
 },
 "nbformat": 4,
 "nbformat_minor": 2
}

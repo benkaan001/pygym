{
 "cells": [
  {
   "cell_type": "markdown",
   "metadata": {},
   "source": [
    "**Exercise 2: Print the following pattern**\n",
    "\n",
    "Function:\n",
    "```python\n",
    "def print_pattern(rows: int) -> None:\n",
    "    pass\n",
    "```\n",
    "\n",
    "Sample Input:\n",
    "```python\n",
    "print_pattern(5)\n",
    "```\n",
    "\n",
    "Expected Output:\n",
    "```\n",
    "*\n",
    "* *\n",
    "* * *\n",
    "* * * *\n",
    "* * * * *\n",
    "```"
   ]
  },
  {
   "cell_type": "code",
   "execution_count": 1,
   "metadata": {},
   "outputs": [],
   "source": [
    "def print_pattern(rows: int) -> None:\n",
    "    pass\n",
    "\n",
    "print_pattern(5)"
   ]
  },
  {
   "cell_type": "code",
   "execution_count": 2,
   "metadata": {},
   "outputs": [
    {
     "name": "stdout",
     "output_type": "stream",
     "text": [
      "* \n",
      "* * \n",
      "* * * \n",
      "* * * * \n",
      "* * * * * \n"
     ]
    }
   ],
   "source": [
    "def print_pattern(rows: int) -> None:\n",
    "    pattern = '*'\n",
    "    for i in range(1, rows + 1):\n",
    "        for j in range(1, i + 1):\n",
    "            print(pattern, end=\" \")\n",
    "        print()\n",
    "        \n",
    "            \n",
    "print_pattern(5)"
   ]
  },
  {
   "cell_type": "markdown",
   "metadata": {},
   "source": [
    "The pattern is a triangular pattern made up of asterisks (`*`). The number of asterisks in each row corresponds to the row number. Let's break down the logic step by step:\n",
    "\n",
    "1. The outer loop (`for i in range(1, rows + 1)`) iterates over each row, where `rows` is the number of rows you want in the pattern.\n",
    "\n",
    "2. Inside the outer loop, there's an inner loop (`for j in range(1, i + 1)`) that iterates over each column within the current row (`i` is the row number).\n",
    "\n",
    "3. Inside the inner loop, we print an asterisk (`*`) for each iteration, and we use the `end=\" \"` parameter to make sure the asterisks are printed on the same line.\n",
    "\n",
    "4. After the inner loop finishes printing asterisks for the current row, we use `print()` without any arguments to move to the next line. This creates the effect of moving to a new row for the next iteration of the outer loop.\n",
    "\n",
    "Here's how the pattern is built step by step using the `print_pattern(5)` example:\n",
    "\n",
    "- Row 1: The outer loop's first iteration sets `i` to 1. The inner loop runs once (`j` is 1), and one asterisk is printed. After the inner loop, `print()` creates a new line.\n",
    "  ```\n",
    "  *\n",
    "  ```\n",
    "\n",
    "- Row 2: The outer loop's second iteration sets `i` to 2. The inner loop runs twice (`j` is 1 and 2), and two asterisks are printed. After the inner loop, `print()` creates a new line.\n",
    "  ```\n",
    "  *\n",
    "  * *\n",
    "  ```\n",
    "\n",
    "- Row 3: The outer loop's third iteration sets `i` to 3. The inner loop runs three times (`j` is 1, 2, and 3), and three asterisks are printed. After the inner loop, `print()` creates a new line.\n",
    "  ```\n",
    "  *\n",
    "  * *\n",
    "  * * *\n",
    "  ```\n",
    "\n",
    "- ... and so on, until you reach the specified number of rows."
   ]
  }
 ],
 "metadata": {
  "kernelspec": {
   "display_name": "Python 3",
   "language": "python",
   "name": "python3"
  },
  "language_info": {
   "codemirror_mode": {
    "name": "ipython",
    "version": 3
   },
   "file_extension": ".py",
   "mimetype": "text/x-python",
   "name": "python",
   "nbconvert_exporter": "python",
   "pygments_lexer": "ipython3",
   "version": "3.11.2"
  },
  "orig_nbformat": 4
 },
 "nbformat": 4,
 "nbformat_minor": 2
}

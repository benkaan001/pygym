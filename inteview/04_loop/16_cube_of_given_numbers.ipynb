{
 "cells": [
  {
   "cell_type": "markdown",
   "metadata": {},
   "source": [
    "**Exercise 16: Calculate the cube of all numbers from 1 to a given number**\n",
    "\n",
    "Function:\n",
    "```python\n",
    "def calculate_cube(n: int) -> None:\n",
    "    pass\n",
    "```\n",
    "\n",
    "Sample Input:\n",
    "```python\n",
    "calculate_cube(5)\n",
    "```\n",
    "\n",
    "Expected Output:\n",
    "```\n",
    "1^3 = 1\n",
    "2^3 = 8\n",
    "3^3 = 27\n",
    "4^3 = 64\n",
    "5^3 = 125\n",
    "```"
   ]
  },
  {
   "cell_type": "code",
   "execution_count": 1,
   "metadata": {},
   "outputs": [
    {
     "name": "stdout",
     "output_type": "stream",
     "text": [
      "1^3 = 1\n",
      "2^3 = 8\n",
      "3^3 = 27\n",
      "4^3 = 64\n",
      "5^3 = 125\n"
     ]
    }
   ],
   "source": [
    "def calculate_cube(n: int) -> None:\n",
    "    for i in range(1, n + 1):\n",
    "        output = i ** 3\n",
    "        print(f\"{i}^3 = {output}\")\n",
    "\n",
    "calculate_cube(5)"
   ]
  }
 ],
 "metadata": {
  "kernelspec": {
   "display_name": "Python 3",
   "language": "python",
   "name": "python3"
  },
  "language_info": {
   "codemirror_mode": {
    "name": "ipython",
    "version": 3
   },
   "file_extension": ".py",
   "mimetype": "text/x-python",
   "name": "python",
   "nbconvert_exporter": "python",
   "pygments_lexer": "ipython3",
   "version": "3.11.2"
  },
  "orig_nbformat": 4
 },
 "nbformat": 4,
 "nbformat_minor": 2
}

{
 "cells": [
  {
   "cell_type": "markdown",
   "metadata": {},
   "source": [
    "**Exercise 8: Print list in reverse order using a loop**\n",
    "\n",
    "Function:\n",
    "```python\n",
    "def print_reverse_list(lst: List[int]) -> None:\n",
    "    pass\n",
    "```\n",
    "\n",
    "Sample Input:\n",
    "```python\n",
    "print_reverse_list([1, 2, 3, 4, 5])\n",
    "```\n",
    "\n",
    "Expected Output:\n",
    "```\n",
    "5\n",
    "4\n",
    "3\n",
    "2\n",
    "1\n",
    "```"
   ]
  },
  {
   "cell_type": "code",
   "execution_count": 1,
   "metadata": {},
   "outputs": [],
   "source": [
    "from typing import List \n",
    "\n",
    "def print_reverse_list(lst: List[int]) -> None:\n",
    "    pass \n",
    "\n",
    "l = [1, 2, 3, 4, 5]\n",
    "print_reverse_list(lst=l)"
   ]
  },
  {
   "cell_type": "code",
   "execution_count": 2,
   "metadata": {},
   "outputs": [
    {
     "name": "stdout",
     "output_type": "stream",
     "text": [
      "5\n",
      "4\n",
      "3\n",
      "2\n",
      "1\n"
     ]
    }
   ],
   "source": [
    "def print_reverse_list(lst: List[int]) -> None:\n",
    "    for num in lst[::-1]:\n",
    "        print(num)\n",
    "\n",
    "l = [1, 2, 3, 4, 5]\n",
    "print_reverse_list(lst=l)"
   ]
  }
 ],
 "metadata": {
  "kernelspec": {
   "display_name": "Python 3",
   "language": "python",
   "name": "python3"
  },
  "language_info": {
   "codemirror_mode": {
    "name": "ipython",
    "version": 3
   },
   "file_extension": ".py",
   "mimetype": "text/x-python",
   "name": "python",
   "nbconvert_exporter": "python",
   "pygments_lexer": "ipython3",
   "version": "3.11.2"
  },
  "orig_nbformat": 4
 },
 "nbformat": 4,
 "nbformat_minor": 2
}

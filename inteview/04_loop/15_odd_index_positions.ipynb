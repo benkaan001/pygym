{
 "cells": [
  {
   "cell_type": "markdown",
   "metadata": {},
   "source": [
    "**Exercise 15: Use a loop to display elements from a given list present at odd index positions**\n",
    "\n",
    "Function:\n",
    "```python\n",
    "def display_odd_index_elements(lst: List[int]) -> None:\n",
    "    pass\n",
    "```\n",
    "\n",
    "Sample Input:\n",
    "```python\n",
    "display_odd_index_elements([10, 20, 30, 40, 50])\n",
    "```\n",
    "\n",
    "Expected Output:\n",
    "```\n",
    "20\n",
    "40\n",
    "```"
   ]
  },
  {
   "cell_type": "code",
   "execution_count": 1,
   "metadata": {},
   "outputs": [
    {
     "name": "stdout",
     "output_type": "stream",
     "text": [
      "20\n",
      "40\n"
     ]
    }
   ],
   "source": [
    "from typing import List\n",
    "\n",
    "def display_odd_index_elements(lst: List[int]) -> None:\n",
    "    for i in range(1, len(lst), 2):\n",
    "        print(lst[i])\n",
    "\n",
    "sample_list = [10, 20, 30, 40, 50]\n",
    "display_odd_index_elements(lst=sample_list)"
   ]
  }
 ],
 "metadata": {
  "kernelspec": {
   "display_name": "Python 3",
   "language": "python",
   "name": "python3"
  },
  "language_info": {
   "codemirror_mode": {
    "name": "ipython",
    "version": 3
   },
   "file_extension": ".py",
   "mimetype": "text/x-python",
   "name": "python",
   "nbconvert_exporter": "python",
   "pygments_lexer": "ipython3",
   "version": "3.11.2"
  },
  "orig_nbformat": 4
 },
 "nbformat": 4,
 "nbformat_minor": 2
}

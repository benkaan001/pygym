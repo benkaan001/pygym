{
 "cells": [
  {
   "cell_type": "markdown",
   "metadata": {},
   "source": [
    " **Encapsulation: Bank Account with Access Control**\n",
    "   - **Question:** Implement a class for a bank account with private attributes for balance. Provide methods to access and modify the balance while ensuring proper encapsulation. How would you handle negative balances?\n",
    "   - **Class Signature:**\n",
    "   ```python\n",
    "   class BankAccount:\n",
    "       def __init__(self, initial_balance: float):\n",
    "           pass\n",
    "\n",
    "       def deposit(self, amount: float) -> None:\n",
    "           pass\n",
    "\n",
    "       def withdraw(self, amount: float) -> None:\n",
    "           pass\n",
    "\n",
    "       def check_balance(self) -> float:\n",
    "           pass\n",
    "   ```\n",
    "   - **Example:**\n",
    "   ```python\n",
    "   account = BankAccount(1000)\n",
    "   account.deposit(500)\n",
    "   account.withdraw(200)\n",
    "   print(account.check_balance())\n",
    "   ```\n",
    "   - **Expected Output:**\n",
    "   ```\n",
    "   1300.0\n",
    "   ```"
   ]
  },
  {
   "cell_type": "code",
   "execution_count": 1,
   "metadata": {},
   "outputs": [],
   "source": [
    "class InsufficientBalanceError(Exception):\n",
    "    def __init__(self, message: str) -> None:\n",
    "        self.message = message \n",
    "        super().__init__(self.message)\n",
    "\n",
    "class BankAccount:\n",
    "    def __init__(self, initial_balance: float) -> None:\n",
    "        self.initial_balance = initial_balance\n",
    "        \n",
    "    def deposit(self, amount: float) -> None:\n",
    "        self.initial_balance += amount \n",
    "        \n",
    "        \n",
    "    def withdraw(self, amount: float) -> None:\n",
    "        if self.initial_balance >= amount:\n",
    "            self.initial_balance -= amount \n",
    "        else:\n",
    "            raise InsufficientBalanceError(f'Insufficient funds! You have ${self.check_balance()} available for withdrawl.')\n",
    "        \n",
    "    def check_balance(self) -> float:\n",
    "        return self.initial_balance\n",
    "        "
   ]
  },
  {
   "cell_type": "code",
   "execution_count": 2,
   "metadata": {},
   "outputs": [
    {
     "data": {
      "text/plain": [
       "1500.0"
      ]
     },
     "execution_count": 2,
     "metadata": {},
     "output_type": "execute_result"
    }
   ],
   "source": [
    "account = BankAccount(1000.00)\n",
    "account.deposit(500.00)\n",
    "account.check_balance()"
   ]
  },
  {
   "cell_type": "code",
   "execution_count": 3,
   "metadata": {},
   "outputs": [
    {
     "ename": "InsufficientBalanceError",
     "evalue": "Insufficient funds! You have $1500.0 available for withdrawl.",
     "output_type": "error",
     "traceback": [
      "\u001b[0;31m---------------------------------------------------------------------------\u001b[0m",
      "\u001b[0;31mInsufficientBalanceError\u001b[0m                  Traceback (most recent call last)",
      "Cell \u001b[0;32mIn[3], line 1\u001b[0m\n\u001b[0;32m----> 1\u001b[0m account\u001b[39m.\u001b[39;49mwithdraw(\u001b[39m2000.00\u001b[39;49m)\n",
      "Cell \u001b[0;32mIn[1], line 18\u001b[0m, in \u001b[0;36mBankAccount.withdraw\u001b[0;34m(self, amount)\u001b[0m\n\u001b[1;32m     16\u001b[0m     \u001b[39mself\u001b[39m\u001b[39m.\u001b[39minitial_balance \u001b[39m-\u001b[39m\u001b[39m=\u001b[39m amount \n\u001b[1;32m     17\u001b[0m \u001b[39melse\u001b[39;00m:\n\u001b[0;32m---> 18\u001b[0m     \u001b[39mraise\u001b[39;00m InsufficientBalanceError(\u001b[39mf\u001b[39m\u001b[39m'\u001b[39m\u001b[39mInsufficient funds! You have $\u001b[39m\u001b[39m{\u001b[39;00m\u001b[39mself\u001b[39m\u001b[39m.\u001b[39mcheck_balance()\u001b[39m}\u001b[39;00m\u001b[39m available for withdrawl.\u001b[39m\u001b[39m'\u001b[39m)\n",
      "\u001b[0;31mInsufficientBalanceError\u001b[0m: Insufficient funds! You have $1500.0 available for withdrawl."
     ]
    }
   ],
   "source": [
    "account.withdraw(2000.00)"
   ]
  },
  {
   "cell_type": "code",
   "execution_count": 4,
   "metadata": {},
   "outputs": [
    {
     "name": "stdout",
     "output_type": "stream",
     "text": [
      "Encountered an issue: Insufficient funds! You have $1500.0 available for withdrawl.\n"
     ]
    }
   ],
   "source": [
    "try:\n",
    "    account.withdraw(2000.00)\n",
    "except InsufficientBalanceError as e:\n",
    "    print(f\"Encountered an issue: {e}\")"
   ]
  },
  {
   "cell_type": "markdown",
   "metadata": {},
   "source": [
    "## Additional Improvements\n",
    "\n",
    "1. **Validation for Amounts:**\n",
    "   Before performing any transaction (deposit or withdrawal), add validation to ensure that the amount is non-negative.\n",
    "\n",
    "2. **Encapsulation:**\n",
    "   Make the `initial_balance` attribute private (e.g., `_initial_balance`) and provide a property method to access it. This helps in better encapsulation and control over attribute access.\n",
    "\n",
    "3. **Consistent Error Messages:**\n",
    "   Define a constant error message for the insufficient balance error and reuse it instead of including the message directly in the `withdraw` method. This promotes consistency in error messages.\n",
    "\n",
    "4. **Rounding:**\n",
    "   If dealing with financial transactions, it's often recommended to use decimal types instead of floating-point types to prevent precision issues."
   ]
  },
  {
   "cell_type": "code",
   "execution_count": 5,
   "metadata": {},
   "outputs": [],
   "source": [
    "from decimal import Decimal\n",
    "\n",
    "class InsufficientBalanceError(Exception):\n",
    "    MESSAGE = \"Insufficient funds! Available balance: ${:.2f}\"\n",
    "    \n",
    "    def __init__(self, available_balance: Decimal) -> None:\n",
    "        super().__init__(self.MESSAGE.format(available_balance))\n",
    "\n",
    "class BankAccount:\n",
    "    def __init__(self, initial_balance: Decimal) -> None:\n",
    "        self._initial_balance = initial_balance\n",
    "    \n",
    "    def deposit(self, amount: Decimal) -> None:\n",
    "        if amount <= 0:\n",
    "            raise ValueError(\"Amount must be greater than 0.\")\n",
    "        \n",
    "        self._initial_balance += amount \n",
    "    \n",
    "    def withdraw(self, amount: Decimal) -> None:\n",
    "        if amount <= 0:\n",
    "            raise ValueError(\"Amount must be greater than 0.\")\n",
    "        \n",
    "        if self._initial_balance < amount:\n",
    "            raise InsufficientBalanceError(self._initial_balance)\n",
    "    \n",
    "    @property\n",
    "    def balance(self) -> Decimal:\n",
    "        return self._initial_balance\n",
    "    "
   ]
  },
  {
   "cell_type": "code",
   "execution_count": 6,
   "metadata": {},
   "outputs": [
    {
     "data": {
      "text/plain": [
       "1500.0"
      ]
     },
     "execution_count": 6,
     "metadata": {},
     "output_type": "execute_result"
    }
   ],
   "source": [
    "account = BankAccount(1000.00)\n",
    "account.deposit(500.00)\n",
    "account.balance"
   ]
  },
  {
   "cell_type": "code",
   "execution_count": 7,
   "metadata": {},
   "outputs": [
    {
     "data": {
      "text/plain": [
       "Decimal('1500')"
      ]
     },
     "execution_count": 7,
     "metadata": {},
     "output_type": "execute_result"
    }
   ],
   "source": [
    "account = BankAccount(Decimal(1000.00))\n",
    "account.deposit(Decimal(500.00))\n",
    "account.balance"
   ]
  },
  {
   "cell_type": "code",
   "execution_count": 8,
   "metadata": {},
   "outputs": [
    {
     "name": "stdout",
     "output_type": "stream",
     "text": [
      "Current Balance: 1500.00\n"
     ]
    }
   ],
   "source": [
    "current_balance = account.balance\n",
    "print(f\"Current Balance: {current_balance:.2f}\")"
   ]
  }
 ],
 "metadata": {
  "kernelspec": {
   "display_name": "Python 3",
   "language": "python",
   "name": "python3"
  },
  "language_info": {
   "codemirror_mode": {
    "name": "ipython",
    "version": 3
   },
   "file_extension": ".py",
   "mimetype": "text/x-python",
   "name": "python",
   "nbconvert_exporter": "python",
   "pygments_lexer": "ipython3",
   "version": "3.11.2"
  },
  "orig_nbformat": 4
 },
 "nbformat": 4,
 "nbformat_minor": 2
}

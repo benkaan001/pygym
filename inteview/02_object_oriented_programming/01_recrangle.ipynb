{
 "cells": [
  {
   "cell_type": "markdown",
   "metadata": {},
   "source": [
    " **Create a Class for Rectangle**\n",
    "   - **Question:** Design a class representing a rectangle with methods to calculate its area and perimeter.\n",
    "   - **Class Signature:**\n",
    "   ```python\n",
    "   class Rectangle:\n",
    "       def __init__(self, width: float, height: float):\n",
    "           pass\n",
    "\n",
    "       def area(self) -> float:\n",
    "           pass\n",
    "\n",
    "       def perimeter(self) -> float:\n",
    "           pass\n",
    "   ```\n",
    "   - **Example:**\n",
    "   ```python\n",
    "   rectangle = Rectangle(4.0, 5.0)\n",
    "   print(rectangle.area())\n",
    "   print(rectangle.perimeter())\n",
    "   ```\n",
    "   - **Expected Output:**\n",
    "   ```\n",
    "   20.0\n",
    "   18.0\n",
    "   ```"
   ]
  },
  {
   "cell_type": "code",
   "execution_count": 1,
   "metadata": {},
   "outputs": [
    {
     "data": {
      "text/plain": [
       "20.0"
      ]
     },
     "execution_count": 1,
     "metadata": {},
     "output_type": "execute_result"
    }
   ],
   "source": [
    "class Rectangle:\n",
    "    def __init__(self, width: float, height: float) -> None:\n",
    "        self.width = width \n",
    "        self.height = height \n",
    "    \n",
    "    def area(self) -> float:\n",
    "        return self.width * self.height\n",
    "    \n",
    "    def perimeter(self) -> float:\n",
    "        return 2 * (self.width + self.height)\n",
    "\n",
    "rectangle = Rectangle(4.0, 5.0)\n",
    "rectangle.area()"
   ]
  },
  {
   "cell_type": "code",
   "execution_count": 2,
   "metadata": {},
   "outputs": [
    {
     "data": {
      "text/plain": [
       "18.0"
      ]
     },
     "execution_count": 2,
     "metadata": {},
     "output_type": "execute_result"
    }
   ],
   "source": [
    "rectangle.perimeter()"
   ]
  },
  {
   "cell_type": "markdown",
   "metadata": {},
   "source": [
    "## Format the output to string"
   ]
  },
  {
   "cell_type": "code",
   "execution_count": 3,
   "metadata": {},
   "outputs": [],
   "source": [
    "class Rectangle:\n",
    "    def __init__(self, width: float, height: float) -> None:\n",
    "        self.width = width \n",
    "        self.height = height \n",
    "    \n",
    "    def area(self) -> str:\n",
    "        return format(self.width * self.height, \".2f\")\n",
    "    \n",
    "    def perimeter(self) -> str:\n",
    "        return format(2 * (self.width + self.height), \".2f\")"
   ]
  },
  {
   "cell_type": "code",
   "execution_count": 4,
   "metadata": {},
   "outputs": [
    {
     "data": {
      "text/plain": [
       "'20.00'"
      ]
     },
     "execution_count": 4,
     "metadata": {},
     "output_type": "execute_result"
    }
   ],
   "source": [
    "rectangle = Rectangle(4.0, 5.0)\n",
    "rectangle.area()"
   ]
  },
  {
   "cell_type": "code",
   "execution_count": 5,
   "metadata": {},
   "outputs": [
    {
     "data": {
      "text/plain": [
       "'18.00'"
      ]
     },
     "execution_count": 5,
     "metadata": {},
     "output_type": "execute_result"
    }
   ],
   "source": [
    "rectangle.perimeter()"
   ]
  }
 ],
 "metadata": {
  "kernelspec": {
   "display_name": "Python 3",
   "language": "python",
   "name": "python3"
  },
  "language_info": {
   "codemirror_mode": {
    "name": "ipython",
    "version": 3
   },
   "file_extension": ".py",
   "mimetype": "text/x-python",
   "name": "python",
   "nbconvert_exporter": "python",
   "pygments_lexer": "ipython3",
   "version": "3.11.2"
  },
  "orig_nbformat": 4
 },
 "nbformat": 4,
 "nbformat_minor": 2
}

{
 "cells": [
  {
   "cell_type": "markdown",
   "metadata": {},
   "source": [
    " **Encapsulation - Private Variables**\n",
    "   - **Question:** Implement a class with private variables to store sensitive information like a password. Provide methods to set and get the password securely.\n",
    "   - **Class Signature:**\n",
    "   ```python\n",
    "   class UserAccount:\n",
    "       def __init__(self, username: str):\n",
    "           pass\n",
    "\n",
    "       def set_password(self, password: str) -> None:\n",
    "           pass\n",
    "\n",
    "       def get_password(self) -> str:\n",
    "           pass\n",
    "   ```\n",
    "   - **Example:**\n",
    "   ```python\n",
    "   user = UserAccount(\"john_doe\")\n",
    "   user.set_password(\"password123\")\n",
    "   print(user.get_password())\n",
    "   ```\n",
    "   - **Expected Output:**\n",
    "   ```\n",
    "   **********\n",
    "   ```"
   ]
  },
  {
   "cell_type": "code",
   "execution_count": null,
   "metadata": {},
   "outputs": [],
   "source": []
  }
 ],
 "metadata": {
  "language_info": {
   "name": "python"
  },
  "orig_nbformat": 4
 },
 "nbformat": 4,
 "nbformat_minor": 2
}

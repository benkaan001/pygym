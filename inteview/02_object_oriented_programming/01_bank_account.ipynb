{
 "cells": [
  {
   "cell_type": "markdown",
   "metadata": {},
   "source": [
    "**Create a Class for Bank Account**\n",
    "   - **Question:** Implement a class representing a bank account with methods to deposit, withdraw, and check the balance.\n",
    "   - **Class Signature:**\n",
    "   ```python\n",
    "   class BankAccount:\n",
    "       def __init__(self, initial_balance: float):\n",
    "           pass\n",
    "\n",
    "       def deposit(self, amount: float) -> None:\n",
    "           pass\n",
    "\n",
    "       def withdraw(self, amount: float) -> None:\n",
    "           pass\n",
    "\n",
    "       def check_balance(self) -> float:\n",
    "           pass\n",
    "   ```\n",
    "   - **Example:**\n",
    "   ```python\n",
    "   account = BankAccount(1000)\n",
    "   account.deposit(500)\n",
    "   account.withdraw(200)\n",
    "   print(account.check_balance())\n",
    "   ```\n",
    "   - **Expected Output:**\n",
    "   ```\n",
    "   1300.0\n",
    "   ```"
   ]
  },
  {
   "cell_type": "code",
   "execution_count": null,
   "metadata": {},
   "outputs": [],
   "source": []
  }
 ],
 "metadata": {
  "language_info": {
   "name": "python"
  },
  "orig_nbformat": 4
 },
 "nbformat": 4,
 "nbformat_minor": 2
}

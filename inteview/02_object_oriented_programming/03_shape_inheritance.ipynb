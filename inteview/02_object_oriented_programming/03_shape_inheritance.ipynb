{
 "cells": [
  {
   "cell_type": "markdown",
   "metadata": {},
   "source": [
    "**Inheritance - Shape Hierarchy**\n",
    "   - **Question:** Create a hierarchy of classes for shapes, with a base class Shape and derived classes like Circle, Rectangle, and Triangle. Implement methods to calculate area and perimeter for each shape.\n",
    "   - **Class Signature:**\n",
    "   ```python\n",
    "   class Shape:\n",
    "       def area(self) -> float:\n",
    "           pass\n",
    "\n",
    "       def perimeter(self) -> float:\n",
    "           pass\n",
    "\n",
    "   class Circle(Shape):\n",
    "       def __init__(self, radius: float):\n",
    "           pass\n",
    "\n",
    "   class Rectangle(Shape):\n",
    "       def __init__(self, width: float, height: float):\n",
    "           pass\n",
    "\n",
    "   class Triangle(Shape):\n",
    "       def __init__(self, base: float, height: float):\n",
    "           pass\n",
    "   ```\n",
    "   - **Example:**\n",
    "   ```python\n",
    "   circle = Circle(5)\n",
    "   rectangle = Rectangle(4, 6)\n",
    "   triangle = Triangle(3, 4)\n",
    "   print(circle.area())\n",
    "   print(rectangle.perimeter())\n",
    "   print(triangle.area())\n",
    "   ```\n",
    "   - **Expected Output:**\n",
    "   ```\n",
    "   78.54\n",
    "   20.0\n",
    "   6.0"
   ]
  },
  {
   "cell_type": "code",
   "execution_count": null,
   "metadata": {},
   "outputs": [],
   "source": []
  }
 ],
 "metadata": {
  "language_info": {
   "name": "python"
  },
  "orig_nbformat": 4
 },
 "nbformat": 4,
 "nbformat_minor": 2
}

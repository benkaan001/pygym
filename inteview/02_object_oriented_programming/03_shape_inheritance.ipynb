{
 "cells": [
  {
   "cell_type": "markdown",
   "metadata": {},
   "source": [
    "**Inheritance - Shape Hierarchy**\n",
    "   - **Question:** Create a hierarchy of classes for shapes, with a base class Shape and derived classes like Circle, Rectangle, and Triangle. Implement methods to calculate area and perimeter for each shape.\n",
    "   - **Class Signature:**\n",
    "   ```python\n",
    "   class Shape:\n",
    "       def area(self) -> float:\n",
    "           pass\n",
    "\n",
    "       def perimeter(self) -> float:\n",
    "           pass\n",
    "\n",
    "   class Circle(Shape):\n",
    "       def __init__(self, radius: float):\n",
    "           pass\n",
    "\n",
    "   class Rectangle(Shape):\n",
    "       def __init__(self, width: float, height: float):\n",
    "           pass\n",
    "\n",
    "   class Triangle(Shape):\n",
    "       def __init__(self, base: float, height: float):\n",
    "           pass\n",
    "   ```\n",
    "   - **Example:**\n",
    "   ```python\n",
    "   circle = Circle(5.0)\n",
    "   rectangle = Rectangle(4.0, 6.0)\n",
    "   triangle = Triangle(3.0, 4.0)\n",
    "   print(circle.area())\n",
    "   print(rectangle.perimeter())\n",
    "   print(triangle.area())\n",
    "   ```\n",
    "   - **Expected Output:**\n",
    "   ```\n",
    "   78.54\n",
    "   20.0\n",
    "   6.0"
   ]
  },
  {
   "cell_type": "code",
   "execution_count": 1,
   "metadata": {},
   "outputs": [
    {
     "data": {
      "text/plain": [
       "3.141592653589793"
      ]
     },
     "execution_count": 1,
     "metadata": {},
     "output_type": "execute_result"
    }
   ],
   "source": [
    "import math \n",
    "math.pi"
   ]
  },
  {
   "cell_type": "code",
   "execution_count": 2,
   "metadata": {},
   "outputs": [],
   "source": [
    "class Shape:\n",
    "    def area(self) -> float:\n",
    "        pass \n",
    "    \n",
    "    def perimeter(self) -> float:\n",
    "        pass \n",
    "    \n",
    "class Circle(Shape):\n",
    "    PI = math.pi\n",
    "    def __init__(self, radius: float) -> None:\n",
    "        self.radius = radius\n",
    "        \n",
    "    def area(self) -> float:\n",
    "        return round((self.PI * self.radius **2), 2)\n",
    "    \n",
    "class Rectangle(Shape):\n",
    "    def __init__(self, width: float, height: float) -> None:\n",
    "        self.width = width \n",
    "        self.height = height \n",
    "    \n",
    "    def area(self) -> float:\n",
    "        return self.width * self.height\n",
    "    \n",
    "    def perimeter(self) -> float:\n",
    "        return 2 * (self.width + self.height)\n",
    "\n",
    "class Triangle(Shape):\n",
    "    def __init__(self, base: float, height: float) -> None:\n",
    "        self.base = base \n",
    "        self.height = height \n",
    "    \n",
    "    def area(self) -> float:\n",
    "        return 1/2 * (self.base * self.height)\n",
    "    "
   ]
  },
  {
   "cell_type": "code",
   "execution_count": 3,
   "metadata": {},
   "outputs": [
    {
     "data": {
      "text/plain": [
       "78.54"
      ]
     },
     "execution_count": 3,
     "metadata": {},
     "output_type": "execute_result"
    }
   ],
   "source": [
    "circle = Circle(5.0)\n",
    "circle.area()"
   ]
  },
  {
   "cell_type": "code",
   "execution_count": 4,
   "metadata": {},
   "outputs": [
    {
     "data": {
      "text/plain": [
       "20.0"
      ]
     },
     "execution_count": 4,
     "metadata": {},
     "output_type": "execute_result"
    }
   ],
   "source": [
    "rectangle = Rectangle(4.0, 6.0)\n",
    "rectangle.perimeter()"
   ]
  },
  {
   "cell_type": "code",
   "execution_count": 5,
   "metadata": {},
   "outputs": [
    {
     "data": {
      "text/plain": [
       "6.0"
      ]
     },
     "execution_count": 5,
     "metadata": {},
     "output_type": "execute_result"
    }
   ],
   "source": [
    "triangle = Triangle(3.0, 4.0)\n",
    "triangle.area()"
   ]
  }
 ],
 "metadata": {
  "kernelspec": {
   "display_name": "Python 3",
   "language": "python",
   "name": "python3"
  },
  "language_info": {
   "codemirror_mode": {
    "name": "ipython",
    "version": 3
   },
   "file_extension": ".py",
   "mimetype": "text/x-python",
   "name": "python",
   "nbconvert_exporter": "python",
   "pygments_lexer": "ipython3",
   "version": "3.11.2"
  },
  "orig_nbformat": 4
 },
 "nbformat": 4,
 "nbformat_minor": 2
}

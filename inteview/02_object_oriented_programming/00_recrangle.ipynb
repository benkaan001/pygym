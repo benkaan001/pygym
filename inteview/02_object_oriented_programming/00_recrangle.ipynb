{
 "cells": [
  {
   "cell_type": "markdown",
   "metadata": {},
   "source": [
    " **Create a Class for Rectangle**\n",
    "   - **Question:** Design a class representing a rectangle with methods to calculate its area and perimeter.\n",
    "   - **Class Signature:**\n",
    "   ```python\n",
    "   class Rectangle:\n",
    "       def __init__(self, width: float, height: float):\n",
    "           pass\n",
    "\n",
    "       def area(self) -> float:\n",
    "           pass\n",
    "\n",
    "       def perimeter(self) -> float:\n",
    "           pass\n",
    "   ```\n",
    "   - **Example:**\n",
    "   ```python\n",
    "   rectangle = Rectangle(4, 5)\n",
    "   print(rectangle.area())\n",
    "   print(rectangle.perimeter())\n",
    "   ```\n",
    "   - **Expected Output:**\n",
    "   ```\n",
    "   20.0\n",
    "   18.0\n",
    "   ```"
   ]
  },
  {
   "cell_type": "code",
   "execution_count": null,
   "metadata": {},
   "outputs": [],
   "source": []
  }
 ],
 "metadata": {
  "language_info": {
   "name": "python"
  },
  "orig_nbformat": 4
 },
 "nbformat": 4,
 "nbformat_minor": 2
}

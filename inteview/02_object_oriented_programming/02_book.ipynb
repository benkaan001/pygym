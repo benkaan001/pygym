{
 "cells": [
  {
   "cell_type": "markdown",
   "metadata": {},
   "source": [
    "**Create a Class for Book**\n",
    "   - **Question:** Design a class representing a book with properties like title, author, and methods to display book information.\n",
    "   - **Class Signature:**\n",
    "   ```python\n",
    "   class Book:\n",
    "       def __init__(self, title: str, author: str):\n",
    "           pass\n",
    "\n",
    "       def display_info(self) -> None:\n",
    "           pass\n",
    "   ```\n",
    "   - **Example:**\n",
    "   ```python\n",
    "   book1 = Book(\"Python Programming\", \"John Doe\")\n",
    "   book2 = Book(\"Data Science Handbook\", \"Jane Smith\")\n",
    "   book1.display_info()\n",
    "   book2.display_info()\n",
    "   ```\n",
    "   - **Expected Output:**\n",
    "   ```\n",
    "   Title: Python Programming, Author: John Doe\n",
    "   Title: Data Science Handbook, Author: Jane Smith\n",
    "   ```"
   ]
  },
  {
   "cell_type": "code",
   "execution_count": null,
   "metadata": {},
   "outputs": [],
   "source": []
  }
 ],
 "metadata": {
  "language_info": {
   "name": "python"
  },
  "orig_nbformat": 4
 },
 "nbformat": 4,
 "nbformat_minor": 2
}

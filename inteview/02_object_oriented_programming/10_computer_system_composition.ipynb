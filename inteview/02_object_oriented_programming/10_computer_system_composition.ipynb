{
 "cells": [
  {
   "cell_type": "markdown",
   "metadata": {},
   "source": [
    "**Composition: Computer System**\n",
    "   - **Question:** Design a class for a `Computer` that consists of various components like CPU, RAM, and Storage. Implement the composition relationship between the `Computer` class and the component classes.\n",
    "   - **Class Signature:**\n",
    "   ```python\n",
    "   class CPU:\n",
    "       def __init__(self, model: str):\n",
    "           pass\n",
    "\n",
    "   class RAM:\n",
    "       def __init__(self, capacity_gb: int):\n",
    "           pass\n",
    "\n",
    "   class Storage:\n",
    "       def __init__(self, capacity_gb: int):\n",
    "           pass\n",
    "\n",
    "   class Computer:\n",
    "       def __init__(self, cpu: CPU, ram: RAM, storage: Storage):\n",
    "           pass\n",
    "   ```\n",
    "   - **Example:**\n",
    "   ```python\n",
    "   cpu = CPU(\"Intel i7\")\n",
    "   ram = RAM(16)\n",
    "   storage = Storage(512)\n",
    "   computer = Computer(cpu, ram, storage)\n",
    "   ```\n",
    "   - **Expected Output:**\n",
    "   ```\n",
    "   [Proper Initialization of Computer with Components]\n",
    "   ```"
   ]
  },
  {
   "cell_type": "code",
   "execution_count": 1,
   "metadata": {},
   "outputs": [
    {
     "data": {
      "text/plain": [
       "Computer(Intel i7, 16, 512)"
      ]
     },
     "execution_count": 1,
     "metadata": {},
     "output_type": "execute_result"
    }
   ],
   "source": [
    "class CPU:\n",
    "    def __init__(self, model: str) -> None:\n",
    "        self.model = model \n",
    "\n",
    "class RAM:\n",
    "    def __init__(self, capacity_gb: int) -> None:\n",
    "        self.capacity_gb = capacity_gb\n",
    "\n",
    "class Storage:\n",
    "    def __init__(self, capacity_gb: int) -> None:\n",
    "        self.capacity_gb = capacity_gb\n",
    "\n",
    "class Computer:\n",
    "    def __init__(self, cpu: CPU, ram: RAM, storage: Storage) -> None:\n",
    "        self.cpu = cpu \n",
    "        self.ram = ram \n",
    "        self.storage = storage \n",
    "    \n",
    "    def __repr__(self):\n",
    "        return f\"Computer({self.cpu.model}, {self.ram.capacity_gb}, {self.storage.capacity_gb})\"\n",
    "    \n",
    "    def __str__(self) -> str:\n",
    "        return f\"{self.cpu.model}, {self.ram.capacity_gb}, {self.storage.capacity_gb}\"\n",
    "\n",
    "cpu = CPU(\"Intel i7\")\n",
    "ram = RAM(16)\n",
    "storage = Storage(512)\n",
    "\n",
    "computer = Computer(cpu=cpu, ram=ram, storage=storage)\n",
    "computer\n",
    "        "
   ]
  },
  {
   "cell_type": "code",
   "execution_count": 2,
   "metadata": {},
   "outputs": [
    {
     "name": "stdout",
     "output_type": "stream",
     "text": [
      "Intel i7, 16, 512\n"
     ]
    }
   ],
   "source": [
    "print(computer)"
   ]
  },
  {
   "cell_type": "markdown",
   "metadata": {},
   "source": [
    "## Additional Improvements\n",
    "\n",
    "\n",
    "1. **Attribute Encapsulation:**\n",
    "   Make the attributes in the `CPU`, `RAM`, and `Storage` classes private by using the underscore prefix (`_`). \n",
    "\n",
    "2. **Use of `@property` for Attributes:**\n",
    "   By using the `@property` decorator for getter methods, provide controlled access to the attributes of the `CPU`, `RAM`, and `Storage` classes. This encapsulation ensures that attribute values can be read but not directly modified.\n",
    "\n",
    "3. **Proper Use of Getter Properties:**\n",
    "   Return specific attributes from the getter properties of the `Computer` class, ensuring that users of the class get the relevant information without exposing the internal objects."
   ]
  },
  {
   "cell_type": "code",
   "execution_count": 3,
   "metadata": {},
   "outputs": [
    {
     "name": "stdout",
     "output_type": "stream",
     "text": [
      "Computer(Intel i7, 16GB RAM, 512GB Storage)\n",
      "Intel i7, 16GB RAM, 512GB Storage\n"
     ]
    }
   ],
   "source": [
    "class CPU:\n",
    "    def __init__(self, model: str) -> None:\n",
    "        self._model = model # Encapsulate with an underscore\n",
    "        \n",
    "    @property\n",
    "    def model(self) -> str:\n",
    "        return self._model\n",
    "\n",
    "class RAM:\n",
    "    def __init__(self, capacity_gb: int) -> None:\n",
    "        self._capacity_gb = capacity_gb # Encapsulate with an underscore\n",
    "    \n",
    "    @property \n",
    "    def capacity_gb(self) -> int:\n",
    "        return self._capacity_gb\n",
    "\n",
    "class Storage:\n",
    "    def __init__(self, capacity_gb: int) -> None:\n",
    "        self._capacity_gb = capacity_gb # Encapsulate with an underscore\n",
    "    \n",
    "    @property \n",
    "    def capacity_gb(self) -> int:\n",
    "        return self._capacity_gb\n",
    "\n",
    "class Computer:\n",
    "    def __init__(self, cpu: CPU, ram: RAM, storage: Storage) -> None:\n",
    "        self._cpu = cpu # Encapsulation\n",
    "        self._ram = ram # Encapsulation\n",
    "        self._storage = storage # Encapsulation\n",
    "    \n",
    "    @property \n",
    "    def cpu(self) -> str:\n",
    "        return self._cpu.model\n",
    "    \n",
    "    @property\n",
    "    def ram(self) -> int:\n",
    "        return self._ram.capacity_gb\n",
    "    \n",
    "    @property \n",
    "    def storage(self) -> int:\n",
    "        return self._storage.capacity_gb\n",
    "\n",
    "    \n",
    "    def __repr__(self):\n",
    "        return f\"Computer({self.cpu}, {self.ram}GB RAM, {self.storage}GB Storage)\"\n",
    "    \n",
    "    def __str__(self) -> str:\n",
    "        return f\"{self.cpu}, {self.ram}GB RAM, {self.storage}GB Storage\"\n",
    "\n",
    "cpu = CPU(\"Intel i7\")\n",
    "ram = RAM(16)\n",
    "storage = Storage(512)\n",
    "\n",
    "computer = Computer(cpu=cpu, ram=ram, storage=storage)\n",
    "\n",
    "# Print representations\n",
    "print(repr(computer))\n",
    "print(str(computer))\n",
    "\n",
    "        "
   ]
  }
 ],
 "metadata": {
  "kernelspec": {
   "display_name": "Python 3",
   "language": "python",
   "name": "python3"
  },
  "language_info": {
   "codemirror_mode": {
    "name": "ipython",
    "version": 3
   },
   "file_extension": ".py",
   "mimetype": "text/x-python",
   "name": "python",
   "nbconvert_exporter": "python",
   "pygments_lexer": "ipython3",
   "version": "3.11.2"
  },
  "orig_nbformat": 4
 },
 "nbformat": 4,
 "nbformat_minor": 2
}

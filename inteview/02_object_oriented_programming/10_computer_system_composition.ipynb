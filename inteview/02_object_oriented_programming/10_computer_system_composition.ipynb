{
 "cells": [
  {
   "cell_type": "markdown",
   "metadata": {},
   "source": [
    "**Composition: Computer System**\n",
    "   - **Question:** Design a class for a `Computer` that consists of various components like CPU, RAM, and Storage. Implement the composition relationship between the `Computer` class and the component classes.\n",
    "   - **Class Signature:**\n",
    "   ```python\n",
    "   class CPU:\n",
    "       def __init__(self, model: str):\n",
    "           pass\n",
    "\n",
    "   class RAM:\n",
    "       def __init__(self, capacity_gb: int):\n",
    "           pass\n",
    "\n",
    "   class Storage:\n",
    "       def __init__(self, capacity_gb: int):\n",
    "           pass\n",
    "\n",
    "   class Computer:\n",
    "       def __init__(self, cpu: CPU, ram: RAM, storage: Storage):\n",
    "           pass\n",
    "   ```\n",
    "   - **Example:**\n",
    "   ```python\n",
    "   cpu = CPU(\"Intel i7\")\n",
    "   ram = RAM(16)\n",
    "   storage = Storage(512)\n",
    "   computer = Computer(cpu, ram, storage)\n",
    "   ```\n",
    "   - **Expected Output:**\n",
    "   ```\n",
    "   [Proper Initialization of Computer with Components]\n",
    "   ```"
   ]
  },
  {
   "cell_type": "code",
   "execution_count": null,
   "metadata": {},
   "outputs": [],
   "source": []
  }
 ],
 "metadata": {
  "language_info": {
   "name": "python"
  },
  "orig_nbformat": 4
 },
 "nbformat": 4,
 "nbformat_minor": 2
}

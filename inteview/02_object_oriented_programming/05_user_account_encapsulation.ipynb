{
 "cells": [
  {
   "cell_type": "markdown",
   "metadata": {},
   "source": [
    " **Encapsulation - Private Variables**\n",
    "   - **Question:** Implement a class with private variables to store sensitive information like a password. Provide methods to set and get the password securely.\n",
    "   - **Class Signature:**\n",
    "   ```python\n",
    "   class UserAccount:\n",
    "       def __init__(self, username: str):\n",
    "           pass\n",
    "\n",
    "       def set_password(self, password: str) -> None:\n",
    "           pass\n",
    "\n",
    "       def get_password(self) -> str:\n",
    "           pass\n",
    "   ```\n",
    "   - **Example:**\n",
    "   ```python\n",
    "   user = UserAccount(\"john_doe\")\n",
    "   user.set_password(\"password123\")\n",
    "   print(user.get_password())\n",
    "   ```\n",
    "   - **Expected Output:**\n",
    "   ```\n",
    "   **********\n",
    "   ```"
   ]
  },
  {
   "cell_type": "code",
   "execution_count": 1,
   "metadata": {},
   "outputs": [],
   "source": [
    "class UserAccount:\n",
    "    def __init__(self, username: str) -> None:\n",
    "        self.username = username\n",
    "    \n",
    "    def set_password(self, password: str) -> None:\n",
    "        self.password = password\n",
    "    \n",
    "    def get_password(self) -> str:\n",
    "        return \"*\" * len(self.password)"
   ]
  },
  {
   "cell_type": "code",
   "execution_count": 2,
   "metadata": {},
   "outputs": [
    {
     "data": {
      "text/plain": [
       "'***********'"
      ]
     },
     "execution_count": 2,
     "metadata": {},
     "output_type": "execute_result"
    }
   ],
   "source": [
    "user = UserAccount(\"john_doe\")\n",
    "user.set_password(\"password123\")\n",
    "user.get_password()"
   ]
  }
 ],
 "metadata": {
  "kernelspec": {
   "display_name": "Python 3",
   "language": "python",
   "name": "python3"
  },
  "language_info": {
   "codemirror_mode": {
    "name": "ipython",
    "version": 3
   },
   "file_extension": ".py",
   "mimetype": "text/x-python",
   "name": "python",
   "nbconvert_exporter": "python",
   "pygments_lexer": "ipython3",
   "version": "3.11.2"
  },
  "orig_nbformat": 4
 },
 "nbformat": 4,
 "nbformat_minor": 2
}

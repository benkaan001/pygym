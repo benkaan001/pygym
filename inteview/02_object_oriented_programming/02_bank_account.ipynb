{
 "cells": [
  {
   "cell_type": "markdown",
   "metadata": {},
   "source": [
    "**Create a Class for Bank Account**\n",
    "   - **Question:** Implement a class representing a bank account with methods to deposit, withdraw, and check the balance.\n",
    "   - **Class Signature:**\n",
    "   ```python\n",
    "   class BankAccount:\n",
    "       def __init__(self, initial_balance: float):\n",
    "           pass\n",
    "\n",
    "       def deposit(self, amount: float) -> None:\n",
    "           pass\n",
    "\n",
    "       def withdraw(self, amount: float) -> None:\n",
    "           pass\n",
    "\n",
    "       def check_balance(self) -> float:\n",
    "           pass\n",
    "   ```\n",
    "   - **Example:**\n",
    "   ```python\n",
    "   account = BankAccount(1000)\n",
    "   account.deposit(500)\n",
    "   account.withdraw(200)\n",
    "   print(account.check_balance())\n",
    "   ```\n",
    "   - **Expected Output:**\n",
    "   ```\n",
    "   1300.0\n",
    "   ```"
   ]
  },
  {
   "cell_type": "code",
   "execution_count": 1,
   "metadata": {},
   "outputs": [],
   "source": [
    "class BankAccount:\n",
    "    def __init__(self, initial_balance: float) -> None:\n",
    "        self.initial_balance = initial_balance\n",
    "    \n",
    "    def deposit(self, amount: float) -> None:\n",
    "        self.initial_balance += amount\n",
    "    \n",
    "    def withdraw(self, amount: float) -> None:\n",
    "        self.initial_balance -= amount\n",
    "    \n",
    "    def check_balance(self) -> float:\n",
    "        return self.initial_balance"
   ]
  },
  {
   "cell_type": "code",
   "execution_count": 2,
   "metadata": {},
   "outputs": [
    {
     "data": {
      "text/plain": [
       "1000.0"
      ]
     },
     "execution_count": 2,
     "metadata": {},
     "output_type": "execute_result"
    }
   ],
   "source": [
    "account = BankAccount(1000.00)\n",
    "account.check_balance()"
   ]
  },
  {
   "cell_type": "code",
   "execution_count": 3,
   "metadata": {},
   "outputs": [
    {
     "data": {
      "text/plain": [
       "500.0"
      ]
     },
     "execution_count": 3,
     "metadata": {},
     "output_type": "execute_result"
    }
   ],
   "source": [
    "account.withdraw(500.00)\n",
    "account.check_balance()"
   ]
  },
  {
   "cell_type": "code",
   "execution_count": 4,
   "metadata": {},
   "outputs": [
    {
     "data": {
      "text/plain": [
       "1250.0"
      ]
     },
     "execution_count": 4,
     "metadata": {},
     "output_type": "execute_result"
    }
   ],
   "source": [
    "account.deposit(750.00)\n",
    "account.check_balance()"
   ]
  }
 ],
 "metadata": {
  "kernelspec": {
   "display_name": "Python 3",
   "language": "python",
   "name": "python3"
  },
  "language_info": {
   "codemirror_mode": {
    "name": "ipython",
    "version": 3
   },
   "file_extension": ".py",
   "mimetype": "text/x-python",
   "name": "python",
   "nbconvert_exporter": "python",
   "pygments_lexer": "ipython3",
   "version": "3.11.2"
  },
  "orig_nbformat": 4
 },
 "nbformat": 4,
 "nbformat_minor": 2
}

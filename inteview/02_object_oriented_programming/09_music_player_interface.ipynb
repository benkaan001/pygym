{
 "cells": [
  {
   "cell_type": "markdown",
   "metadata": {},
   "source": [
    "**Interfaces and Multiple Inheritance: Music Player**\n",
    "   - **Question:** Design classes for a simple music player system. Implement an interface `Playable` for playable items like songs and playlists. Create classes for `Song`, `Playlist`, and `Album`, ensuring proper encapsulation and demonstrating multiple inheritance.\n",
    "   - **Class Signature:**\n",
    "   ```python\n",
    "   class Playable:\n",
    "       def __init__(self, title: str) -> None:\n",
    "           self.title = title \n",
    "           \n",
    "       @abstractmethod\n",
    "       def play(self) -> None:\n",
    "           pass\n",
    "\n",
    "   class Song(Playable):\n",
    "       def __init__(self, title: str, artist: str):\n",
    "           pass\n",
    "\n",
    "       def play(self) -> None:\n",
    "           pass\n",
    "\n",
    "   class Playlist(Playable):\n",
    "       def __init__(self, title: str):\n",
    "           pass\n",
    "\n",
    "       def add_item(self, item: Playable) -> None:\n",
    "           pass\n",
    "\n",
    "       def play(self) -> None:\n",
    "           pass\n",
    "\n",
    "   class Album(Playable):\n",
    "       def __init__(self, title: str, artist: str):\n",
    "           pass\n",
    "\n",
    "       def add_song(self, song: Song) -> None:\n",
    "           pass\n",
    "\n",
    "       def play(self) -> None:\n",
    "           pass\n",
    "   ```\n",
    "   - **Example:**\n",
    "   ```python\n",
    "   song1 = Song(\"Song 1\", \"Artist A\")\n",
    "   song2 = Song(\"Song 2\", \"Artist B\")\n",
    "   playlist = Playlist(\"My Playlist\")\n",
    "   album = Album(\"Album X\", \"Artist Y\")\n",
    "\n",
    "   playlist.add_item(song1)\n",
    "   playlist.add_item(song2)\n",
    "   album.add_song(song1)\n",
    "\n",
    "   items = [song1, song2, playlist, album]\n",
    "   for item in items:\n",
    "       item.play()\n",
    "   ```\n",
    "   - **Expected Output:**\n",
    "   ```\n",
    "Playing Song 1 by Artist A\n",
    "Playing Song 2 by Artist B\n",
    "Playing playlist: My Playlist\n",
    "Playing Song 1 by Artist A\n",
    "Playing Song 2 by Artist B\n",
    "Playing album: Album X by Artist Y\n",
    "Playing Song 1 by Artist A\n",
    "   ```"
   ]
  },
  {
   "cell_type": "markdown",
   "metadata": {},
   "source": [
    "Let's break down the logic of the music player interface step by step:\n",
    "\n",
    "1. **Defining Music Components:**\n",
    "   You define a set of classes that represent different music components: `Song`, `Playlist`, and `Album`. These classes encapsulate the attributes and behaviors of songs, playlists, and albums.\n",
    "\n",
    "2. **Using Inheritance:**\n",
    "   You use inheritance to establish a common base class, `Playable`, from which `Song`, `Playlist`, and `Album` inherit. This is a way to enforce common behavior and attributes among these classes.\n",
    "\n",
    "3. **Interfaces for Common Actions:**\n",
    "   You create an interface named `Playable` with a method `play()` that represents the common action of playing music items. This interface allows you to ensure that each class that implements it provides the necessary functionality.\n",
    "\n",
    "4. **Polymorphism with `play()` Method:**\n",
    "   Each class (`Song`, `Playlist`, `Album`) implements the `play()` method according to its own behavior. This demonstrates polymorphism, as different classes provide their own implementation of the same method.\n",
    "\n",
    "5. **Demonstrating Polymorphism:**\n",
    "   You create a list of music items (`items`) that includes instances of `Song`, `Playlist`, and `Album`. Then, you iterate through this list and call the `play()` method on each item. Because of polymorphism, each item's specific `play()` implementation is invoked.\n",
    "\n",
    "Here's a summary of the main points in your music player interface logic:\n",
    "\n",
    "- Define classes for `Song`, `Playlist`, and `Album`, inheriting from a common base class (`MusicItem`).\n",
    "- Create an interface (`Playable`) with the `play()` method.\n",
    "- Implement the `play()` method in each class (`Song`, `Playlist`, `Album`) based on their specific behavior.\n",
    "- Use polymorphism to call the `play()` method on instances of different classes.\n"
   ]
  },
  {
   "cell_type": "code",
   "execution_count": 1,
   "metadata": {},
   "outputs": [
    {
     "name": "stdout",
     "output_type": "stream",
     "text": [
      "Playing Song 1 by Artist A\n",
      "Playing Song 2 by Artist B\n",
      "Playing playlist: My Playlist\n",
      "Playing Song 1 by Artist A\n",
      "Playing Song 2 by Artist B\n",
      "Playing album: Album X by Artist Y\n",
      "Playing Song 1 by Artist A\n"
     ]
    }
   ],
   "source": [
    "from abc import ABC, abstractmethod\n",
    "\n",
    "class Playable(ABC):\n",
    "    def __init__(self, title: str) -> None:\n",
    "        self.title = title \n",
    "        \n",
    "    @abstractmethod \n",
    "    def play(self) -> None:\n",
    "        pass\n",
    "    \n",
    "class Song(Playable):\n",
    "       def __init__(self, title: str, artist: str):\n",
    "           super().__init__(title)\n",
    "           self.artist = artist \n",
    "\n",
    "       def play(self) -> None:\n",
    "           print(f\"Playing {self.title} by {self.artist}\")\n",
    "\n",
    "class Playlist(Playable):\n",
    "    def __init__(self, title: str):\n",
    "        super().__init__(title)\n",
    "        self.items = []\n",
    "\n",
    "    def add_item(self, item: Playable) -> None:\n",
    "        self.items.append(item)\n",
    "\n",
    "    def play(self) -> None:\n",
    "        print(f\"Playing playlist: {self.title}\")\n",
    "        for item in self.items:\n",
    "            item.play()\n",
    "\n",
    "class Album(Playable):\n",
    "    def __init__(self, title: str, artist: str):\n",
    "        super().__init__(title)\n",
    "        self.artist = artist \n",
    "        self.songs = []\n",
    "\n",
    "    def add_song(self, song: Song) -> None:\n",
    "        self.songs.append(song)\n",
    "\n",
    "    def play(self) -> None:\n",
    "        print(f\"Playing album: {self.title} by {self.artist}\")\n",
    "        for song in self.songs:\n",
    "            song.play()\n",
    "    \n",
    "    \n",
    "song1 = Song(\"Song 1\", \"Artist A\")\n",
    "song2 = Song(\"Song 2\", \"Artist B\")\n",
    "playlist = Playlist(\"My Playlist\")\n",
    "album = Album(\"Album X\", \"Artist Y\")\n",
    "\n",
    "playlist.add_item(song1)\n",
    "playlist.add_item(song2)\n",
    "album.add_song(song1)\n",
    "\n",
    "items = [song1, song2, playlist, album]\n",
    "for item in items:\n",
    "    item.play()"
   ]
  },
  {
   "cell_type": "markdown",
   "metadata": {},
   "source": [
    "## More on `ABC`"
   ]
  },
  {
   "cell_type": "markdown",
   "metadata": {},
   "source": [
    "##### The `ABC` (Abstract Base Class) and `abstractmethod` are components of the \"Abstract Base Classes\" module (`abc`) that provide a way to define abstract classes and abstract methods. Abstract classes and methods are essential in object-oriented programming when you want to create a blueprint for classes but you don't intend to instantiate the abstract class directly, or you want to enforce the implementation of certain methods in subclasses.\n",
    "\n",
    "##### Here's what `ABC` and `abstractmethod` do:\n",
    "\n",
    "##### 1. **`ABC` (Abstract Base Class):**\n",
    "   ##### - `ABC` is a metaclass that is used to define abstract classes. An abstract class is a class that can't be instantiated directly; it's meant to be subclassed by other classes.\n",
    "   ##### - To define an abstract class, you inherit from `ABC` using the syntax `class MyAbstractClass(ABC):`. This signals that the class is intended to be an abstract base class.\n",
    "   ##### - Abstract classes can contain abstract methods, regular methods, and properties.\n",
    "   ##### - Abstract classes can also provide default implementations for some methods, which can be overridden in subclasses.\n",
    "\n",
    "##### 2. **`abstractmethod`:**\n",
    "   ##### - `abstractmethod` is a decorator that marks a method as abstract within an abstract class. An abstract method is a method that has no implementation in the abstract class but must be overridden by any concrete subclass.\n",
    "   ##### - Abstract methods are defined using the `@abstractmethod` decorator before the method declaration.\n",
    "   ##### - Subclasses of an abstract class that define the abstract methods become concrete classes and must provide implementations for those abstract methods."
   ]
  },
  {
   "cell_type": "code",
   "execution_count": 2,
   "metadata": {},
   "outputs": [
    {
     "name": "stdout",
     "output_type": "stream",
     "text": [
      "Can't instantiate abstract class MyAbstractClass with abstract method do_something\n"
     ]
    }
   ],
   "source": [
    "from abc import ABC, abstractmethod\n",
    "\n",
    "class MyAbstractClass(ABC):\n",
    "\n",
    "    @abstractmethod\n",
    "    def do_something(self):\n",
    "        pass\n",
    "\n",
    "class ConcreteClass(MyAbstractClass):\n",
    "    \n",
    "    def do_something(self):\n",
    "        return \"Doing something in ConcreteClass\"\n",
    "\n",
    "# You can't instantiate MyAbstractClass directly\n",
    "try:\n",
    "    abstract_instance = MyAbstractClass()  # This would raise an error\n",
    "except Exception as e:\n",
    "    print(e)"
   ]
  },
  {
   "cell_type": "code",
   "execution_count": 3,
   "metadata": {},
   "outputs": [
    {
     "name": "stdout",
     "output_type": "stream",
     "text": [
      "Doing something in ConcreteClass\n"
     ]
    }
   ],
   "source": [
    "# Instantiate a ConcreteClass object\n",
    "concrete_instance = ConcreteClass()\n",
    "print(concrete_instance.do_something())"
   ]
  }
 ],
 "metadata": {
  "kernelspec": {
   "display_name": "Python 3",
   "language": "python",
   "name": "python3"
  },
  "language_info": {
   "codemirror_mode": {
    "name": "ipython",
    "version": 3
   },
   "file_extension": ".py",
   "mimetype": "text/x-python",
   "name": "python",
   "nbconvert_exporter": "python",
   "pygments_lexer": "ipython3",
   "version": "3.11.2"
  },
  "orig_nbformat": 4
 },
 "nbformat": 4,
 "nbformat_minor": 2
}

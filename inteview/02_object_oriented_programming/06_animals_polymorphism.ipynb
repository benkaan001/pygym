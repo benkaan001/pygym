{
 "cells": [
  {
   "cell_type": "markdown",
   "metadata": {},
   "source": [
    "**Inheritance and Polymorphism: Animal Hierarchy**\n",
    "   - **Question:** Design a hierarchy of classes for different types of animals, with a base class `Animal` and derived classes like `Dog`, `Cat`, and `Bird`. Implement methods and properties specific to each animal, and demonstrate polymorphism.\n",
    "   - **Class Signature:**\n",
    "   ```python\n",
    "   class Animal:\n",
    "       def __init__(self, name: str):\n",
    "           pass\n",
    "\n",
    "   class Dog(Animal):\n",
    "       def __init__(self, name: str):\n",
    "           pass\n",
    "\n",
    "       def make_sound(self) -> str:\n",
    "           pass\n",
    "\n",
    "   class Cat(Animal):\n",
    "       def __init__(self, name: str):\n",
    "           pass\n",
    "\n",
    "       def make_sound(self) -> str:\n",
    "           pass\n",
    "\n",
    "   class Bird(Animal):\n",
    "       def __init__(self, name: str):\n",
    "           pass\n",
    "\n",
    "       def make_sound(self) -> str:\n",
    "           pass\n",
    "   ```\n",
    "   - **Example:**\n",
    "   ```python\n",
    "   dog = Dog(\"Buddy\")\n",
    "   cat = Cat(\"Whiskers\")\n",
    "   bird = Bird(\"Tweety\")\n",
    "\n",
    "   animals = [dog, cat, bird]\n",
    "   for animal in animals:\n",
    "       print(animal.name, \":\", animal.make_sound())\n",
    "   ```\n",
    "   - **Expected Output:**\n",
    "   ```\n",
    "   Buddy : Woof!\n",
    "   Whiskers : Meow!\n",
    "   Tweety : Chirp!\n",
    "   ```"
   ]
  },
  {
   "cell_type": "code",
   "execution_count": null,
   "metadata": {},
   "outputs": [],
   "source": []
  }
 ],
 "metadata": {
  "language_info": {
   "name": "python"
  },
  "orig_nbformat": 4
 },
 "nbformat": 4,
 "nbformat_minor": 2
}

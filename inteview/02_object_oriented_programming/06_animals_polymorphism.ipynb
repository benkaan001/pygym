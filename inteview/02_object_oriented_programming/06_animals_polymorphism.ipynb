{
 "cells": [
  {
   "cell_type": "markdown",
   "metadata": {},
   "source": [
    "**Inheritance and Polymorphism: Animal Hierarchy**\n",
    "   - **Question:** Design a hierarchy of classes for different types of animals, with a base class `Animal` and derived classes like `Dog`, `Cat`, and `Bird`. Implement methods and properties specific to each animal, and demonstrate polymorphism.\n",
    "   - **Class Signature:**\n",
    "   ```python\n",
    "   class Animal:\n",
    "       def __init__(self, name: str):\n",
    "           pass\n",
    "\n",
    "   class Dog(Animal):\n",
    "       def __init__(self, name: str):\n",
    "           pass\n",
    "\n",
    "       def make_sound(self) -> str:\n",
    "           pass\n",
    "\n",
    "   class Cat(Animal):\n",
    "       def __init__(self, name: str):\n",
    "           pass\n",
    "\n",
    "       def make_sound(self) -> str:\n",
    "           pass\n",
    "\n",
    "   class Bird(Animal):\n",
    "       def __init__(self, name: str):\n",
    "           pass\n",
    "\n",
    "       def make_sound(self) -> str:\n",
    "           pass\n",
    "   ```\n",
    "   - **Example:**\n",
    "   ```python\n",
    "   dog = Dog(\"Buddy\")\n",
    "   cat = Cat(\"Whiskers\")\n",
    "   bird = Bird(\"Tweety\")\n",
    "\n",
    "   animals = [dog, cat, bird]\n",
    "   for animal in animals:\n",
    "       print(animal.name, \":\", animal.make_sound())\n",
    "   ```\n",
    "   - **Expected Output:**\n",
    "   ```\n",
    "   Buddy : Woof!\n",
    "   Whiskers : Meow!\n",
    "   Tweety : Chirp!\n",
    "   ```"
   ]
  },
  {
   "cell_type": "code",
   "execution_count": 1,
   "metadata": {},
   "outputs": [
    {
     "name": "stdout",
     "output_type": "stream",
     "text": [
      "Buddy : Woof!\n",
      "Whiskers : Meow!\n",
      "Tweety : Chirp!\n"
     ]
    }
   ],
   "source": [
    "class Animal:\n",
    "    def __init__(self, name: str):\n",
    "        self.name = name \n",
    "\n",
    "class Dog(Animal):\n",
    "    def __init__(self, name: str):\n",
    "        self.name = name\n",
    "\n",
    "    def make_sound(self) -> str:\n",
    "        return 'Woof!'\n",
    "\n",
    "class Cat(Animal):\n",
    "    def __init__(self, name: str):\n",
    "        self.name = name\n",
    "\n",
    "    def make_sound(self) -> str:\n",
    "        return 'Meow!'\n",
    "\n",
    "class Bird(Animal):\n",
    "    def __init__(self, name: str):\n",
    "        self.name = name\n",
    "\n",
    "    def make_sound(self) -> str:\n",
    "        return 'Chirp!'\n",
    "\n",
    "dog = Dog(\"Buddy\")\n",
    "cat = Cat(\"Whiskers\")\n",
    "bird = Bird(\"Tweety\")\n",
    "\n",
    "animals = [dog, cat, bird]\n",
    "for animal in animals:\n",
    "    print(animal.name, \":\", animal.make_sound())"
   ]
  },
  {
   "cell_type": "markdown",
   "metadata": {},
   "source": [
    "* #### Alternatively, we can use the `super()` method to handle the common attribute `name` in the parent class (`Animal`). \n",
    "\n",
    "* #### Each subclass (`Dog`, `Cat`, `Bird`) uses the `super()` method in its `__init__` constructor to call the parent class's `__init__` constructor. This allows the `name` attribute to be inherited from the `Animal` class."
   ]
  },
  {
   "cell_type": "code",
   "execution_count": 1,
   "metadata": {},
   "outputs": [
    {
     "name": "stdout",
     "output_type": "stream",
     "text": [
      "Buddy : Woof!\n",
      "Whiskers : Meow!\n",
      "Tweety : Chirp!\n"
     ]
    }
   ],
   "source": [
    "class Animal:\n",
    "    def __init__(self, name: str):\n",
    "        self.name = name \n",
    "\n",
    "class Dog(Animal):\n",
    "    def __init__(self, name: str):\n",
    "        super().__init__(name)\n",
    "\n",
    "    def make_sound(self) -> str:\n",
    "        return 'Woof!'\n",
    "\n",
    "class Cat(Animal):\n",
    "    def __init__(self, name: str):\n",
    "        super().__init__(name)\n",
    "\n",
    "    def make_sound(self) -> str:\n",
    "        return 'Meow!'\n",
    "\n",
    "class Bird(Animal):\n",
    "    def __init__(self, name: str):\n",
    "        super().__init__(name)\n",
    "\n",
    "    def make_sound(self) -> str:\n",
    "        return 'Chirp!'\n",
    "\n",
    "dog = Dog(\"Buddy\")\n",
    "cat = Cat(\"Whiskers\")\n",
    "bird = Bird(\"Tweety\")\n",
    "\n",
    "animals = [dog, cat, bird]\n",
    "for animal in animals:\n",
    "    print(animal.name, \":\", animal.make_sound())"
   ]
  }
 ],
 "metadata": {
  "kernelspec": {
   "display_name": "Python 3",
   "language": "python",
   "name": "python3"
  },
  "language_info": {
   "codemirror_mode": {
    "name": "ipython",
    "version": 3
   },
   "file_extension": ".py",
   "mimetype": "text/x-python",
   "name": "python",
   "nbconvert_exporter": "python",
   "pygments_lexer": "ipython3",
   "version": "3.11.2"
  },
  "orig_nbformat": 4
 },
 "nbformat": 4,
 "nbformat_minor": 2
}

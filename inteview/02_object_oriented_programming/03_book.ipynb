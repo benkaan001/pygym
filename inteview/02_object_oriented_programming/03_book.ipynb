{
 "cells": [
  {
   "cell_type": "markdown",
   "metadata": {},
   "source": [
    "**Create a Class for Book**\n",
    "   - **Question:** Design a class representing a book with properties like title, author, and methods to display book information.\n",
    "   - **Class Signature:**\n",
    "   ```python\n",
    "   class Book:\n",
    "       def __init__(self, title: str, author: str):\n",
    "           pass\n",
    "\n",
    "       def display_info(self) -> None:\n",
    "           pass\n",
    "   ```\n",
    "   - **Example:**\n",
    "   ```python\n",
    "   book1 = Book(\"Python Programming\", \"John Doe\")\n",
    "   book2 = Book(\"Data Science Handbook\", \"Jane Smith\")\n",
    "   book1.display_info()\n",
    "   book2.display_info()\n",
    "   ```\n",
    "   - **Expected Output:**\n",
    "   ```\n",
    "   Title: Python Programming, Author: John Doe\n",
    "   Title: Data Science Handbook, Author: Jane Smith\n",
    "   ```"
   ]
  },
  {
   "cell_type": "code",
   "execution_count": 1,
   "metadata": {},
   "outputs": [],
   "source": [
    "class Book:\n",
    "    def  __init__(self, title: str, author: str) -> None:\n",
    "        self.title = title \n",
    "        self.author = author \n",
    "    \n",
    "    def display_info(self) -> None:\n",
    "        print(f\"Title: {self.title}, Author: {self.author}\")"
   ]
  },
  {
   "cell_type": "code",
   "execution_count": 2,
   "metadata": {},
   "outputs": [
    {
     "name": "stdout",
     "output_type": "stream",
     "text": [
      "Title: Python Programming, Author: John Doe\n"
     ]
    }
   ],
   "source": [
    "book1 = Book('Python Programming', 'John Doe')\n",
    "book1.display_info()"
   ]
  }
 ],
 "metadata": {
  "kernelspec": {
   "display_name": "Python 3",
   "language": "python",
   "name": "python3"
  },
  "language_info": {
   "codemirror_mode": {
    "name": "ipython",
    "version": 3
   },
   "file_extension": ".py",
   "mimetype": "text/x-python",
   "name": "python",
   "nbconvert_exporter": "python",
   "pygments_lexer": "ipython3",
   "version": "3.11.2"
  },
  "orig_nbformat": 4
 },
 "nbformat": 4,
 "nbformat_minor": 2
}

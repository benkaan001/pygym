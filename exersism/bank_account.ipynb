{
 "cells": [
  {
   "cell_type": "markdown",
   "metadata": {},
   "source": [
    "# Concurrent Bank Account Simulation\n",
    "\n",
    "Simulate a bank account supporting opening/closing, withdrawals, and deposits of money. Watch out for concurrent transactions!\n",
    "\n",
    "A bank account can be accessed in multiple ways. Clients can make deposits and withdrawals using the internet, mobile phones, etc. Shops can charge against the account.\n",
    "\n",
    "Create an account that can be accessed from multiple threads/processes (terminology depends on your programming language).\n",
    "\n",
    "It should be possible to close an account; operations against a closed account must fail."
   ]
  },
  {
   "cell_type": "code",
   "execution_count": 1,
   "metadata": {},
   "outputs": [],
   "source": [
    "import threading"
   ]
  },
  {
   "cell_type": "code",
   "execution_count": 2,
   "metadata": {},
   "outputs": [],
   "source": [
    "class BankAccount:\n",
    "    def __init__(self, balance=0, is_open=True) -> None:\n",
    "        self.balance = balance\n",
    "        self.is_open = is_open\n",
    "        self.lock = threading.Lock()\n",
    "\n",
    "    def deposit(self, amount):\n",
    "        with self.lock:\n",
    "            if self.is_open:\n",
    "                self.balance += amount\n",
    "                return f\"Deposit successful. New Balance: {self.balance}\"\n",
    "            else:\n",
    "                return f\"Account is inactive. Deposit failed.\"\n",
    "\n",
    "    def withdraw(self, amount):\n",
    "        with self.lock:\n",
    "            if self.is_open and self.balance > amount:\n",
    "                self.balance -= amount\n",
    "                return f\"Withdrawal successful. New balance: {self.balance}\"\n",
    "            elif not self.is_open:\n",
    "                return f\"Account is inactive. Withdrawal failed.\"\n",
    "            else:\n",
    "                return f\"Insufficient funds. Withdrawal failed.\"\n",
    "\n",
    "    def close_account(self):\n",
    "        with self.lock:\n",
    "            if self.is_open:\n",
    "                self.is_open = False\n",
    "                return \"Account closed successfully.\"\n",
    "            else:\n",
    "                return \"Account was already closed.\""
   ]
  },
  {
   "cell_type": "markdown",
   "metadata": {},
   "source": [
    "### Attributes \n",
    "\n",
    "The `BankAccount` class is defined with three attributes:\n",
    "\n",
    "- `balance`: Represents the current balance of the bank account.\n",
    "- `is_open`: A boolean flag indicating whether the account is open or closed.\n",
    "- `lock`: An instance of `threading.Lock`, which is used for synchronization.\n",
    "\n",
    "### Methods\n",
    "\n",
    "- The `deposit` method is wrapped with a `with self.lock` statement, which means that only one thread can execute the code within the indented block at a time. This ensures that deposit operations are atomic and protected from interference by other threads.\n",
    "\n",
    "- The `withdraw` method is protected by the lock, ensuring that only one thread can execute the withdrawal logic at a time. This prevents race conditions and ensures the integrity of the account balance.\n",
    "\n",
    "- The `close_account` method also uses the lock to make sure that setting the `is_open` flag to `False` is an atomic operation, preventing conflicts between threads."
   ]
  },
  {
   "cell_type": "code",
   "execution_count": 3,
   "metadata": {},
   "outputs": [],
   "source": [
    "account = BankAccount(balance=10_000)\n",
    "\n",
    "def perform_transactions():\n",
    "    print(account.deposit(2_000))\n",
    "    print(account.withdraw(1_500))\n",
    "    print(account.close_account())\n",
    "    print(account.withdraw(1_000))\n",
    "\n",
    "# Simulate concurrent access with threads\n",
    "thread1 = threading.Thread(target=perform_transactions)\n",
    "thread2 = threading.Thread(target=perform_transactions)"
   ]
  },
  {
   "cell_type": "code",
   "execution_count": 4,
   "metadata": {},
   "outputs": [
    {
     "name": "stdout",
     "output_type": "stream",
     "text": [
      "Deposit successful. New Balance: 12000\n",
      "Withdrawal successful. New balance: 10500\n",
      "Account closed successfully.\n",
      "Account is inactive. Withdrawal failed.\n"
     ]
    }
   ],
   "source": [
    "# Start both threads\n",
    "thread1.start()"
   ]
  },
  {
   "cell_type": "code",
   "execution_count": 5,
   "metadata": {},
   "outputs": [
    {
     "name": "stdout",
     "output_type": "stream",
     "text": [
      "Account is inactive. Deposit failed.\n",
      "Account is inactive. Withdrawal failed.\n",
      "Account was already closed.\n",
      "Account is inactive. Withdrawal failed.\n"
     ]
    }
   ],
   "source": [
    "thread2.start()"
   ]
  },
  {
   "cell_type": "code",
   "execution_count": 6,
   "metadata": {},
   "outputs": [],
   "source": [
    "# Wait for both threads to finish\n",
    "thread1.join()"
   ]
  },
  {
   "cell_type": "code",
   "execution_count": 7,
   "metadata": {},
   "outputs": [],
   "source": [
    "thread2.join()"
   ]
  },
  {
   "cell_type": "markdown",
   "metadata": {},
   "source": [
    "1. **Thread Creation:**\n",
    "   - Two threads, `thread1` and `thread2`, are created using the `threading.Thread` class. The `target` parameter specifies the function that each thread will execute, which is `perform_transactions` in this case.\n",
    "\n",
    "2. **Thread Start:**\n",
    "   - The `start` method is called on both `thread1` and `thread2`. This initiates the execution of the `perform_transactions` function in each thread concurrently.\n",
    "\n",
    "3. **Thread Join:**\n",
    "   - The `join` method is called on both threads. This is used to ensure that the main program waits for both threads to complete before proceeding further. The `join` method blocks the execution of the program until the thread it is called on has finished its execution.\n",
    "\n",
    "By starting both threads and then waiting for them to join, the main program effectively simulates concurrent access to the bank account. The `perform_transactions` function contains deposit, withdrawal, and account closure operations, and the use of locks in the `BankAccount` class ensures that these operations are thread-safe. The `join` calls ensure that the program doesn't proceed until both threads have completed their transactions.\n",
    "\n",
    "This simulation helps demonstrate how the bank account system handles concurrent transactions in a multi-threaded environment, showcasing the effectiveness of the implemented synchronization mechanisms."
   ]
  },
  {
   "cell_type": "markdown",
   "metadata": {},
   "source": [
    "# Threading\n",
    "\n",
    "Threading is a programming concept that involves the use of threads, which are lightweight, independent units of execution within a program. Each thread represents a sequence of instructions that can run concurrently with other threads, allowing for parallelism and concurrent execution of tasks.\n",
    "\n",
    "Here are some key concepts related to threading:\n",
    "\n",
    "1. **Thread:**\n",
    "   - A thread is the smallest unit of execution within a program. It has its own program counter, register set, and stack space. Threads share the same memory space but run independently.\n",
    "\n",
    "2. **Concurrency:**\n",
    "   - Concurrency is the concept of making progress on multiple tasks at the same time. Threads enable concurrent execution, allowing different parts of a program to execute independently.\n",
    "\n",
    "3. **Parallelism:**\n",
    "   - Parallelism is a form of concurrency where multiple threads or processes execute simultaneously on multiple CPU cores. Threading is a way to achieve parallelism in a program.\n",
    "\n",
    "4. **Global Interpreter Lock (GIL):**\n",
    "   - In some programming languages, like Python, there is a Global Interpreter Lock (GIL) that allows only one thread to execute Python bytecode at a time. This can limit the effectiveness of threading for CPU-bound tasks in certain scenarios. However, threading can still be useful for I/O-bound tasks.\n",
    "\n",
    "5. **Thread Safety:**\n",
    "   - Thread safety is a concept to ensure that data shared between threads is accessed in a way that avoids data corruption or inconsistencies. Synchronization mechanisms, such as locks, are used to achieve thread safety.\n",
    "\n",
    "6. **Multithreading:**\n",
    "   - Multithreading is the practice of using multiple threads to perform multiple tasks concurrently. It can improve the responsiveness of a program, especially in scenarios involving I/O operations.\n",
    "\n",
    "7. **Thread Lifecycle:**\n",
    "   - Threads go through various states in their lifecycle, including creation, ready, running, blocked, and terminated. Thread management involves creating, starting, pausing, resuming, and terminating threads.\n",
    "\n",
    "8. **Threading in Python:**\n",
    "   - Python provides a `threading` module for working with threads. Threads can be created by subclassing the `Thread` class or using the `Thread` constructor with a target function. The `start` method is used to initiate the execution of a thread, and the `join` method is used to wait for a thread to complete."
   ]
  }
 ],
 "metadata": {
  "kernelspec": {
   "display_name": "Python 3",
   "language": "python",
   "name": "python3"
  },
  "language_info": {
   "codemirror_mode": {
    "name": "ipython",
    "version": 3
   },
   "file_extension": ".py",
   "mimetype": "text/x-python",
   "name": "python",
   "nbconvert_exporter": "python",
   "pygments_lexer": "ipython3",
   "version": "3.11.2"
  }
 },
 "nbformat": 4,
 "nbformat_minor": 2
}

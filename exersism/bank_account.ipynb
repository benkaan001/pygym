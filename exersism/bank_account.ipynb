{
 "cells": [
  {
   "cell_type": "markdown",
   "metadata": {},
   "source": [
    "# Concurrent Bank Account Simulation\n",
    "\n",
    "Simulate a bank account supporting opening/closing, withdrawals, and deposits of money. Watch out for concurrent transactions!\n",
    "\n",
    "A bank account can be accessed in multiple ways. Clients can make deposits and withdrawals using the internet, mobile phones, etc. Shops can charge against the account.\n",
    "\n",
    "Create an account that can be accessed from multiple threads/processes (terminology depends on your programming language).\n",
    "\n",
    "It should be possible to close an account; operations against a closed account must fail.\n"
   ]
  },
  {
   "cell_type": "code",
   "execution_count": 1,
   "metadata": {},
   "outputs": [],
   "source": [
    "import threading"
   ]
  },
  {
   "cell_type": "code",
   "execution_count": 9,
   "metadata": {},
   "outputs": [],
   "source": [
    "class BankAccount:\n",
    "    def __init__(self, balance=0, is_open=True) -> None:\n",
    "        self.balance = balance\n",
    "        self.is_open = is_open\n",
    "        self.lock = threading.Lock()\n",
    "\n",
    "    def deposit(self, amount):\n",
    "        with self.lock:\n",
    "            if self.is_open:\n",
    "                self.balance += amount\n",
    "                return f\"Deposit successful. New Balance: {self.balance}\"\n",
    "            else:\n",
    "                return f\"Account is closed. Deposit failed.\"\n",
    "\n",
    "    def withdraw(self, amount):\n",
    "        with self.lock:\n",
    "            if self.is_open and self.balance > amount:\n",
    "                self.balance -= amount\n",
    "                return f\"Withdrawal successful. New balance: {self.balance}\"\n",
    "            elif not self.is_open:\n",
    "                return f\"Account is closed. Withdrawal failed.\"\n",
    "            else:\n",
    "                return f\"Insufficient funds. Withdrawal failed.\"\n",
    "\n",
    "    def close_account(self):\n",
    "        with self.lock:\n",
    "            self.is_open = False\n",
    "            return \"Account closed successfully.\""
   ]
  },
  {
   "cell_type": "code",
   "execution_count": 10,
   "metadata": {},
   "outputs": [],
   "source": [
    "account = BankAccount(balance=10_000)\n",
    "\n",
    "def perform_transactions():\n",
    "    print(account.deposit(2_000))\n",
    "    print(account.withdraw(1_500))\n",
    "    print(account.close_account())\n",
    "    print(account.withdraw(1_000))\n",
    "\n",
    "# Simulate concurrent access with threads\n",
    "thread1 = threading.Thread(target=perform_transactions)\n",
    "thread2 = threading.Thread(target=perform_transactions)"
   ]
  },
  {
   "cell_type": "code",
   "execution_count": 11,
   "metadata": {},
   "outputs": [
    {
     "name": "stdout",
     "output_type": "stream",
     "text": [
      "Deposit successful. New Balance: 12000\n",
      "Withdrawal successful. New balance: 10500\n",
      "Account closed successfully.\n",
      "Account is closed. Withdrawal failed.\n"
     ]
    }
   ],
   "source": [
    "# Start both threads\n",
    "thread1.start()"
   ]
  },
  {
   "cell_type": "code",
   "execution_count": 12,
   "metadata": {},
   "outputs": [
    {
     "name": "stdout",
     "output_type": "stream",
     "text": [
      "Account is closed. Deposit failed.\n",
      "Account is closed. Withdrawal failed.\n",
      "Account closed successfully.\n",
      "Account is closed. Withdrawal failed.\n"
     ]
    }
   ],
   "source": [
    "thread2.start()"
   ]
  },
  {
   "cell_type": "code",
   "execution_count": 13,
   "metadata": {},
   "outputs": [],
   "source": [
    "# Wait for both threads to finish\n",
    "thread1.join()"
   ]
  },
  {
   "cell_type": "code",
   "execution_count": 14,
   "metadata": {},
   "outputs": [],
   "source": [
    "thread2.join()"
   ]
  }
 ],
 "metadata": {
  "kernelspec": {
   "display_name": "Python 3",
   "language": "python",
   "name": "python3"
  },
  "language_info": {
   "codemirror_mode": {
    "name": "ipython",
    "version": 3
   },
   "file_extension": ".py",
   "mimetype": "text/x-python",
   "name": "python",
   "nbconvert_exporter": "python",
   "pygments_lexer": "ipython3",
   "version": "3.11.2"
  }
 },
 "nbformat": 4,
 "nbformat_minor": 2
}

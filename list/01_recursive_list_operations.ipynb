{
 "cells": [
  {
   "cell_type": "markdown",
   "metadata": {},
   "source": [
    "* Implement a function to reverse a list without using built-ins.\n",
    "* Write a recursive function to flatten a nested list of arbitrary depth.\n",
    "* Design a recursive function to find the sum of elements in a list.\n",
    "* Implement a function to check if a list is a palindrome (reads the same backward as forward)."
   ]
  },
  {
   "cell_type": "markdown",
   "metadata": {},
   "source": [
    "### 1.Implement a function to reverse a list without using built-ins."
   ]
  },
  {
   "cell_type": "code",
   "execution_count": 1,
   "metadata": {},
   "outputs": [],
   "source": [
    "def reverse_list(data):\n",
    "  \"\"\"\n",
    "  Reverses a list recursively without using built-ins.\n",
    "\n",
    "  Args:\n",
    "    data: The list to be reversed.\n",
    "\n",
    "  Returns:\n",
    "    A new list with the elements in reversed order.\n",
    "  \"\"\"\n",
    "  if len(data) == 0:\n",
    "    return []\n",
    "  else:\n",
    "    return reverse_list(data[1:]) + [data[0]]"
   ]
  },
  {
   "cell_type": "code",
   "execution_count": 2,
   "metadata": {},
   "outputs": [
    {
     "data": {
      "text/plain": [
       "[5, 4, 3, 2, 1]"
      ]
     },
     "execution_count": 2,
     "metadata": {},
     "output_type": "execute_result"
    }
   ],
   "source": [
    "data = [1, 2, 3, 4, 5]\n",
    "reverse_list(data)"
   ]
  },
  {
   "cell_type": "markdown",
   "metadata": {},
   "source": [
    "Let's visualize how the `reverse_list` function works by going through an example step by step.\n",
    "\n",
    "Consider the input list: `[1, 2, 3, 4, 5]`.\n",
    "\n",
    "1. **Initial Call:**\n",
    "   - `reverse_list([1, 2, 3, 4, 5])`\n",
    "   - The length of the list is not zero, so it proceeds to the else block.\n",
    "\n",
    "2. **Recursive Call 1:**\n",
    "   - `reverse_list([2, 3, 4, 5]) + [1]`\n",
    "   - The function calls itself with the sublist `[2, 3, 4, 5]`.\n",
    "\n",
    "3. **Recursive Call 2:**\n",
    "   - `reverse_list([3, 4, 5]) + [2] + [1]`\n",
    "   - Another recursive call with the sublist `[3, 4, 5]`.\n",
    "\n",
    "4. **Recursive Call 3:**\n",
    "   - `reverse_list([4, 5]) + [3] + [2] + [1]`\n",
    "   - Recursive call with the sublist `[4, 5]`.\n",
    "\n",
    "5. **Recursive Call 4:**\n",
    "   - `reverse_list([5]) + [4] + [3] + [2] + [1]`\n",
    "   - Recursive call with the sublist `[5]`.\n",
    "\n",
    "6. **Base Case Reached:**\n",
    "   - `reverse_list([]) + [5] + [4] + [3] + [2] + [1]`\n",
    "   - The base case is reached with an empty list. The function returns an empty list.\n",
    "\n",
    "7. **Result:**\n",
    "   - `[5, 4, 3, 2, 1]`\n",
    "   - The final result is a reversed list `[5, 4, 3, 2, 1]`.\n",
    "\n",
    "Here's a visualization of the recursive calls:\n",
    "\n",
    "```py\n",
    "reverse_list([1, 2, 3, 4, 5])\n",
    "└── reverse_list([2, 3, 4, 5]) + [1]\n",
    "    └── reverse_list([3, 4, 5]) + [2] + [1]\n",
    "        └── reverse_list([4, 5]) + [3] + [2] + [1]\n",
    "            └── reverse_list([5]) + [4] + [3] + [2] + [1]\n",
    "                └── reverse_list([]) + [5] + [4] + [3] + [2] + [1]\n",
    "                    └── [] + [5] + [4] + [3] + [2] + [1]\n",
    "                        └── [5, 4, 3, 2, 1]\n",
    "```"
   ]
  },
  {
   "cell_type": "markdown",
   "metadata": {},
   "source": [
    "### 2. Write a recursive function to flatten a nested list of arbitrary depth."
   ]
  },
  {
   "cell_type": "code",
   "execution_count": 4,
   "metadata": {},
   "outputs": [],
   "source": [
    "def flatten_list(data):\n",
    "  \"\"\"\n",
    "  Flattens a nested list of arbitrary depth recursively.\n",
    "\n",
    "  Args:\n",
    "    data: The nested list to be flattened.\n",
    "\n",
    "  Returns:\n",
    "    A new list containing all elements from the nested structure.\n",
    "  \"\"\"\n",
    "  flat_list = []\n",
    "  for element in data:\n",
    "    if isinstance(element, list):\n",
    "      flat_list.extend(flatten_list(element))\n",
    "    else:\n",
    "      flat_list.append(element)\n",
    "  return flat_list\n"
   ]
  },
  {
   "cell_type": "code",
   "execution_count": 6,
   "metadata": {},
   "outputs": [
    {
     "data": {
      "text/plain": [
       "[1, 2, 3, 4, 5, 6, 7]"
      ]
     },
     "execution_count": 6,
     "metadata": {},
     "output_type": "execute_result"
    }
   ],
   "source": [
    "nested_list = [1, [2, [3, 4], 5], [6, 7]]\n",
    "flatten_list(nested_list)"
   ]
  }
 ],
 "metadata": {
  "kernelspec": {
   "display_name": "Python 3",
   "language": "python",
   "name": "python3"
  },
  "language_info": {
   "codemirror_mode": {
    "name": "ipython",
    "version": 3
   },
   "file_extension": ".py",
   "mimetype": "text/x-python",
   "name": "python",
   "nbconvert_exporter": "python",
   "pygments_lexer": "ipython3",
   "version": "3.11.2"
  }
 },
 "nbformat": 4,
 "nbformat_minor": 2
}

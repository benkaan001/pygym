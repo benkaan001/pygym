{
 "cells": [
  {
   "cell_type": "markdown",
   "metadata": {},
   "source": [
    "* Create a list of squares of all even numbers between 1 and 100 using list comprehension.\n",
    "* Generate a list of prime numbers below 100 using a generator function.\n",
    "* Use list comprehension to filter out duplicate elements from a list.\n",
    "* Write a generator function to return Fibonacci sequence numbers up to a given limit."
   ]
  },
  {
   "cell_type": "code",
   "execution_count": null,
   "metadata": {},
   "outputs": [],
   "source": []
  }
 ],
 "metadata": {
  "language_info": {
   "name": "python"
  }
 },
 "nbformat": 4,
 "nbformat_minor": 2
}

{
 "cells": [
  {
   "cell_type": "markdown",
   "metadata": {},
   "source": [
    "* Implement a function to find the kth largest element in a list.\n",
    "* Write a function to partition a list based on a given predicate (e.g., even/odd).\n",
    "* Design a function to rotate a list by a given number of positions.\n",
    "* Implement a function to merge two sorted lists into a single sorted list."
   ]
  },
  {
   "cell_type": "markdown",
   "metadata": {},
   "source": [
    "### 1. Implement a function to find the kth largest element in a list.\n"
   ]
  },
  {
   "cell_type": "code",
   "execution_count": 1,
   "metadata": {},
   "outputs": [],
   "source": [
    "data = [5, 3, 1, 7, 2, 4]\n",
    "k = 2"
   ]
  },
  {
   "cell_type": "code",
   "execution_count": 2,
   "metadata": {},
   "outputs": [
    {
     "data": {
      "text/plain": [
       "[7, 5, 4, 3, 2, 1]"
      ]
     },
     "execution_count": 2,
     "metadata": {},
     "output_type": "execute_result"
    }
   ],
   "source": [
    "data.sort(reverse=True)\n",
    "data"
   ]
  },
  {
   "cell_type": "code",
   "execution_count": 3,
   "metadata": {},
   "outputs": [
    {
     "data": {
      "text/plain": [
       "5"
      ]
     },
     "execution_count": 3,
     "metadata": {},
     "output_type": "execute_result"
    }
   ],
   "source": [
    "data[k-1]"
   ]
  },
  {
   "cell_type": "code",
   "execution_count": 4,
   "metadata": {},
   "outputs": [
    {
     "data": {
      "text/plain": [
       "5"
      ]
     },
     "execution_count": 4,
     "metadata": {},
     "output_type": "execute_result"
    }
   ],
   "source": [
    "def find_kth_largest_simple(data, k):\n",
    "  \"\"\"\n",
    "  Finds an element that is at least the kth largest in a list.\n",
    "\n",
    "  Args:\n",
    "    data: The list of elements.\n",
    "    k: The desired position of the largest element (1-based indexing).\n",
    "\n",
    "  Returns:\n",
    "    An element that is at least the kth largest in the list.\n",
    "\n",
    "  Raises:\n",
    "    ValueError: If k is out of bounds (k < 1 or k > len(data)).\n",
    "  \"\"\"\n",
    "\n",
    "  if k < 1 or k > len(data):\n",
    "    raise ValueError(f\"Invalid k value: {k}. k must be between 1 and {len(data)}.\")\n",
    "\n",
    "  # Sort the list in descending order\n",
    "  data.sort(reverse=True)\n",
    "\n",
    "  # Return the element at the kth position\n",
    "  return data[k-1]\n",
    "\n",
    "find_kth_largest_simple(data=data, k=k)"
   ]
  },
  {
   "cell_type": "markdown",
   "metadata": {},
   "source": [
    "### 2. Write a function to partition a list based on a given predicate (e.g., even/odd)."
   ]
  },
  {
   "cell_type": "code",
   "execution_count": null,
   "metadata": {},
   "outputs": [],
   "source": []
  },
  {
   "cell_type": "markdown",
   "metadata": {},
   "source": [
    "### 3.Design a function to rotate a list by a given number of positions."
   ]
  },
  {
   "cell_type": "code",
   "execution_count": null,
   "metadata": {},
   "outputs": [],
   "source": []
  },
  {
   "cell_type": "markdown",
   "metadata": {},
   "source": [
    "### 4. Implement a function to merge two sorted lists into a single sorted list."
   ]
  },
  {
   "cell_type": "code",
   "execution_count": null,
   "metadata": {},
   "outputs": [],
   "source": []
  }
 ],
 "metadata": {
  "kernelspec": {
   "display_name": "Python 3",
   "language": "python",
   "name": "python3"
  },
  "language_info": {
   "codemirror_mode": {
    "name": "ipython",
    "version": 3
   },
   "file_extension": ".py",
   "mimetype": "text/x-python",
   "name": "python",
   "nbconvert_exporter": "python",
   "pygments_lexer": "ipython3",
   "version": "3.11.2"
  }
 },
 "nbformat": 4,
 "nbformat_minor": 2
}
